{
 "cells": [
  {
   "cell_type": "markdown",
   "id": "a77898c8",
   "metadata": {},
   "source": [
    "# Import"
   ]
  },
  {
   "cell_type": "code",
   "execution_count": 8,
   "id": "4c5f8c62",
   "metadata": {
    "ExecuteTime": {
     "end_time": "2022-04-22T18:10:03.382065Z",
     "start_time": "2022-04-22T18:10:02.610704Z"
    },
    "scrolled": true
   },
   "outputs": [
    {
     "name": "stdout",
     "output_type": "stream",
     "text": [
      "Populating the interactive namespace from numpy and matplotlib\n"
     ]
    }
   ],
   "source": [
    "%pylab --no-import-all qt5"
   ]
  },
  {
   "cell_type": "code",
   "execution_count": 9,
   "id": "e2bea864",
   "metadata": {
    "ExecuteTime": {
     "end_time": "2022-04-22T18:10:06.827616Z",
     "start_time": "2022-04-22T18:10:05.981827Z"
    }
   },
   "outputs": [],
   "source": [
    "import qutip as qp\n",
    "from importlib import reload\n",
    "import scipy"
   ]
  },
  {
   "cell_type": "markdown",
   "id": "2aa1dca1",
   "metadata": {},
   "source": [
    "# Global parameters"
   ]
  },
  {
   "cell_type": "code",
   "execution_count": 14,
   "id": "a2506532",
   "metadata": {},
   "outputs": [],
   "source": [
    "plt.rcParams['text.usetex'] = False  # True - for pretty graphs"
   ]
  },
  {
   "cell_type": "markdown",
   "id": "611653de",
   "metadata": {},
   "source": [
    "# Units convention\n",
    "Energy unit = $10^{-9} \\frac{\\text{EnergySI}}{h}$ GHz $\\newline$\n",
    "time = $10^{-9}$timeSI - [ns]"
   ]
  },
  {
   "cell_type": "markdown",
   "id": "ad49eabe",
   "metadata": {},
   "source": [
    "# Single transmon"
   ]
  },
  {
   "cell_type": "code",
   "execution_count": 15,
   "id": "f379dd80",
   "metadata": {
    "ExecuteTime": {
     "end_time": "2022-04-22T18:34:13.473810Z",
     "start_time": "2022-04-22T18:34:13.443892Z"
    },
    "scrolled": true
   },
   "outputs": [],
   "source": [
    "import transmon_simulations_lib.single_transmon.transmon\n",
    "reload(transmon_simulations_lib.single_transmon.transmon)\n",
    "from transmon_simulations_lib.single_transmon.transmon import Transmon\n",
    "\n",
    "import transmon_simulations_lib.single_transmon.tmon_eigensystem\n",
    "reload(transmon_simulations_lib.single_transmon.tmon_eigensystem)\n",
    "from transmon_simulations_lib.single_transmon.tmon_eigensystem import TmonPars\n",
    "\n",
    "from transmon_simulations_lib.custom_ops import raising_op, lowering_op"
   ]
  },
  {
   "cell_type": "markdown",
   "id": "e7ebc1b2",
   "metadata": {},
   "source": [
    "## Tmon & num parameters"
   ]
  },
  {
   "cell_type": "code",
   "execution_count": 20,
   "id": "946a592e",
   "metadata": {
    "ExecuteTime": {
     "end_time": "2022-04-22T18:34:15.474535Z",
     "start_time": "2022-04-22T18:34:15.456523Z"
    }
   },
   "outputs": [],
   "source": [
    "Ec=0.6\n",
    "Ej=28\n",
    "alpha=0.2\n",
    "gamma_rel = 10e-6\n",
    "gamma_phi = 20e-6\n",
    "\n",
    "Nc = 10\n",
    "dims = 2*Nc + 1"
   ]
  },
  {
   "cell_type": "markdown",
   "id": "ab14b40f",
   "metadata": {},
   "source": [
    "## Eigenvectors projection on self. Case I: without potential shift from flux"
   ]
  },
  {
   "cell_type": "markdown",
   "id": "218b9130",
   "metadata": {
    "ExecuteTime": {
     "end_time": "2022-02-14T10:33:32.131019Z",
     "start_time": "2022-02-14T10:33:32.110535Z"
    }
   },
   "source": [
    "__**Case I**__ <br>\n",
    "*Used in current code*\n",
    "$$ \\phi_{ext} = 2 \\pi \\frac{\\Phi_{ext}}{\\Phi_0} $$\n",
    "where $\\Phi_0 = h/2e $ - flux quantum in SI\n",
    "$$ H = E_C n^2 - E_J sign\\left( cos{\\left( \\frac{\\phi_{ext}}{2}\\right)} \\right)\n",
    "\\sqrt{1 + \\alpha^2 + 2 \\alpha \\cos{\\left( \\frac{\\phi_{ext}}{2} \\right)}} \\cos{\\phi} $$\n",
    "where \n",
    "$$\\phi = \\frac{\\phi_1 + \\phi_2}{2} $$\n",
    "$\\phi_i$ - phase drop accross i-th JJ\n",
    "where $\\phi$ - is qubit branch flux canonical variable<br>\n",
    "$\\alpha = E_{J1}/E_{J2} < 1$ is the ratio between smaller JJ energy to larger."
   ]
  },
  {
   "cell_type": "code",
   "execution_count": 80,
   "id": "43e6a4f3",
   "metadata": {
    "ExecuteTime": {
     "end_time": "2022-02-14T12:09:17.451703Z",
     "start_time": "2022-02-14T12:09:13.877739Z"
    }
   },
   "outputs": [
    {
     "data": {
      "text/plain": [
       "Text(0.5, 1.0, 'for Nc = 15 or $dim(\\\\mathcal{H}) = 31 $   CASE 1')"
      ]
     },
     "execution_count": 80,
     "metadata": {},
     "output_type": "execute_result"
    }
   ],
   "source": [
    "phi_Ext_list = np.linspace(0, 8*np.pi, 101)\n",
    "pars_list = [TmonPars(Ec1, Ej1, alpha, phi, 0, gamma_rel, gamma_phi) for phi in phi_Ext_list]\n",
    "tr1 = Transmon(pars_list, Nc=Nc, res_trunc=4)\n",
    "sols1 = tr1.solve()\n",
    "res_list1 = np.array([sol.evecs for sol in sols1])\n",
    "n_entries = len(res_list1)\n",
    "fig, ax = plt.subplots(1,1)\n",
    "goodness1 = np.zeros(res_list1.shape, dtype=complex)\n",
    "\n",
    "for i in range(res_list1.shape[0]):\n",
    "    for j in range(res_list1.shape[1]):\n",
    "        goodness1[i,j] = np.abs((res_list1[i,j].dag() * res_list1[0,j])[0,0])\n",
    "\n",
    "for vec_idx, vec_goodness in enumerate(goodness1.T):\n",
    "    ax.plot(phi_Ext_list, np.abs(vec_goodness), label=r\"$\\left\\langle %d | %d(\\phi) \\right\\rangle  $\"%(vec_idx,vec_idx))\n",
    "ax.legend()\n",
    "ax.set_title(r\"for Nc = 15 or $dim(\\mathcal{H}) = 31 $   CASE 1\")"
   ]
  },
  {
   "cell_type": "markdown",
   "id": "f4c1f710",
   "metadata": {},
   "source": [
    "## Eigenvectors projection on self. Case II: potential well shifts from flux"
   ]
  },
  {
   "cell_type": "markdown",
   "id": "8f3becb4",
   "metadata": {
    "ExecuteTime": {
     "end_time": "2022-02-14T10:33:32.131019Z",
     "start_time": "2022-02-14T10:33:32.110535Z"
    }
   },
   "source": [
    "__**Case II**__\n",
    "*utilizing static quantization of transmon by Koch et.al https://doi.org/10.1103/PhysRevA.76.042319*\n",
    "$$ H = E_C n^2 - E_J sgn({cos{\\left( \\frac{\\phi_{ext}}{2} \\right)}}) \\sqrt{1 + \\alpha^2 + 2 \\alpha \\cos{\\left( \\frac{\\phi_{ext}}{2} \\right)}} \\cos{\\left( \\phi - \\phi_0 \\right) } $$\n",
    "where $\\phi_0 = \\arctan{\\left( d \\tan{\\left( \\frac{\\phi_{ext}}{2} \\right)} \\right)} $ and $d = \\frac{1-\\alpha}{1+\\alpha}$ <br> "
   ]
  },
  {
   "cell_type": "code",
   "execution_count": 81,
   "id": "42960f3a",
   "metadata": {
    "ExecuteTime": {
     "end_time": "2022-02-14T12:09:05.313148Z",
     "start_time": "2022-02-14T12:09:01.732489Z"
    }
   },
   "outputs": [
    {
     "data": {
      "text/plain": [
       "Text(0.5, 1.0, 'for Nc = 15 or $dim(\\\\mathcal{H}) = 31 $   CASE 2')"
      ]
     },
     "execution_count": 81,
     "metadata": {},
     "output_type": "execute_result"
    }
   ],
   "source": [
    "pars_list = [TmonPars(Ec1, Ej1, alpha, 0, phi, gamma_rel, gamma_phi) for phi in phi_Ext_list]\n",
    "tr2 = Transmon(pars_list, Nc=Nc, res_trunc=4)\n",
    "sols2 = tr2.solve()\n",
    "res_list2 = np.array([sol.evecs for sol in sols2])\n",
    "n_entries = len(res_list2)\n",
    "fig, ax = plt.subplots(1,1)\n",
    "goodness2 = np.zeros(res_list2.shape, dtype=complex)\n",
    "\n",
    "for i in range(res_list2.shape[0]):\n",
    "    for j in range(res_list2.shape[1]):\n",
    "        goodness2[i,j] = np.abs((res_list2[i,j].dag() * res_list2[0,j])[0,0])\n",
    "\n",
    "for vec_idx, vec_goodness in enumerate(goodness2.T):\n",
    "    ax.plot(phi_Ext_list, np.abs(vec_goodness), label=r\"$\\left\\langle %d | %d(\\phi) \\right\\rangle  $\"%(vec_idx,vec_idx))\n",
    "ax.legend()\n",
    "ax.set_title(r\"for Nc = 15 or $dim(\\mathcal{H}) = 31 $   CASE 2\")"
   ]
  },
  {
   "cell_type": "markdown",
   "id": "975a8abc",
   "metadata": {},
   "source": [
    "## Case I and Case II E01 energy comparison"
   ]
  },
  {
   "cell_type": "code",
   "execution_count": 82,
   "id": "c099a3e0",
   "metadata": {
    "ExecuteTime": {
     "end_time": "2022-02-14T12:09:24.618252Z",
     "start_time": "2022-02-14T12:09:24.540126Z"
    },
    "scrolled": true
   },
   "outputs": [
    {
     "data": {
      "text/plain": [
       "<matplotlib.legend.Legend at 0x1df17751c08>"
      ]
     },
     "execution_count": 82,
     "metadata": {},
     "output_type": "execute_result"
    }
   ],
   "source": [
    "# plt.rcParams['text.usetex'] = True\n",
    "E01_1 = np.array([sol.E01() for sol in sols1])\n",
    "E01_2 = np.array([sol.E01() for sol in sols2])\n",
    "fig, ax = plt.subplots(1,1)\n",
    "ax.plot(phi_Ext_list, np.abs(E01_1 - E01_2)/E01_1, label=\"rel diff\")\n",
    "ax.legend() "
   ]
  },
  {
   "cell_type": "markdown",
   "id": "03ae5067",
   "metadata": {},
   "source": [
    "## Eigenvectors projection on self. Case III: intermediate, irrotational gauge."
   ]
  },
  {
   "cell_type": "markdown",
   "id": "c0a75296",
   "metadata": {},
   "source": [
    "**Case III**\n",
    "*utilizing You, X.,et.al (Koch included) (2019). https://doi.org/10.1103/PhysRevB.99.174512*\n",
    "\n",
    "Written in branch variables *branch* fluxes (G. Burkard et. al 2004 https://journals.aps.org/prb/abstract/10.1103/PhysRevB.69.064503) instead of *node* fluxes (Devoret). Each branch is oriented and each loop is oriented as well. Their relative orientation is captured by *mesh matrix* $\\mathbf{R}$:\n",
    "$$ \\left( \\mathbf{R} \\right)_{i,j} = \\cases{\n",
    "1  \\;\\;\\;\\; \\Phi_j \\in L_i, \\text{cooriented branch and loop}\\\\\n",
    "-1 \\;\\;\\; \\Phi_j \\in L_i, \\text{contraoriented branch and loop}\\\\\n",
    "0 \\;\\;\\;\\; \\Phi_j \\notin L_i, \\text{loop does include branch}\\\\\n",
    "} $$"
   ]
  },
  {
   "cell_type": "markdown",
   "id": "7d48b9fc",
   "metadata": {},
   "source": [
    "R matrix connects branch fluxes and loops fluxes as follows:\n",
    "\n",
    "$$ \\mathbf{\\Phi_e}(t)_i = \\left(\\mathbf{R}\\right)_{i,j} \\; \\mathbf{\\Phi}(t)_j $$\n",
    "where $ \\mathbf{\\Phi_e}(t)_i  $ - flux through i-th loop (i goes from 1 to F - mesh number of a circuit).<br>\n",
    "Mesh - set of loops where each loop does not contain other loop<br>\n",
    "and $\\mathbf{\\Phi}(t)_j$ - branch flux of j-th branch\n",
    "\n",
    "Due to the fact that we have F contraints for branch fluxes generated by $\\mathbf{R}$ above we will declare new (N-F) flux variables  $\\tilde{\\mathbf{\\Phi}}$:\n",
    "$$ \\tilde{\\mathbf{\\Phi}} = \\mathbf{M} \\mathbf{\\Phi} $$\n",
    "where $\\mathbf{M}$ - is (N-F)xN matrix that is to be found to eliminate $\\dot{\\Phi}_e(t)_i$ resulting Hamiltonian."
   ]
  },
  {
   "cell_type": "markdown",
   "id": "55ca4de7",
   "metadata": {},
   "source": [
    "Declaring new vector\n",
    "$$\\tilde{\\mathbf{\\Phi}}_{+} = \\left( \n",
    "\\matrix{\n",
    "\\tilde{\\mathbf{\\Phi}} \\\\\n",
    "\\mathbf{\\Phi}_e\n",
    "}\n",
    "\\right)\n",
    "$$"
   ]
  },
  {
   "cell_type": "markdown",
   "id": "8be6ed88",
   "metadata": {},
   "source": [
    "and the new matrix\n",
    "$$\\mathbf{M}_{+} = \\left( \n",
    "\\matrix{\n",
    "\\mathbf{M} \\\\\n",
    "\\mathbf{R}\n",
    "}\n",
    "\\right)\n",
    "$$\n",
    "\n",
    "we can write down both degrees of freedom and constraints as a single equation:\n",
    "\n",
    "$$\\tilde{\\mathbf{\\Phi}}_{+} = \\mathbf{M}_{+} \\mathbf{\\Phi} $$"
   ]
  },
  {
   "cell_type": "markdown",
   "id": "3358de1f",
   "metadata": {},
   "source": [
    "kinetic energy in branch represention (N branches):\n",
    "$$ \\mathcal{L}_k = \\frac{1}{2}\\dot{\\mathbf{\\Phi}}^T \\mathbf{C} \\dot{\\mathbf{\\Phi}} $$\n",
    "where $ \\mathbf{C} = diag\\left(C_1, C_2, ..., C_N\\right) $ matrix of branches capacitances."
   ]
  },
  {
   "cell_type": "markdown",
   "id": "31bdc250",
   "metadata": {},
   "source": [
    "Moving towards canonical variables and external fluxes:\n",
    "$$\\dot{\\mathbf{\\Phi}} = \\mathbf{M}_{+}^{-1} \\dot{\\tilde{\\mathbf{\\Phi}}}_{+} $$\n",
    "<br>\n",
    "$$ \\mathcal{L}_{\\text{K}} = \\frac{1}{2}\\dot{\\tilde{\\mathbf{\\Phi}}}_{+}^T \\mathbf{C}_{\\text{eff}} \\dot{\\tilde{\\mathbf{\\Phi}}}_{+} $$\n",
    "where \n",
    "$$\\mathbf{C}_{\\text{eff}} = (\\mathbf{M}_{+}^{-1})^T \\mathbf{C} \\left(\\mathbf{M}_{+}^{-1}\\right) $$"
   ]
  },
  {
   "cell_type": "markdown",
   "id": "9ef9e180",
   "metadata": {},
   "source": [
    "Since we wish to decouple $\\dot{\\tilde{\\mathbf{\\Phi}}}$ and $\\dot{\\mathbf{\\Phi}}_e$\n",
    "than $\\mathbf{C}_{\\text{eff}}$ has to be block-diagonal with blocks (N-F)x(N-F) and FxF.\n",
    "Former corresponding to kinetic energy based on new canonical variables $\\dot{\\tilde{\\mathbf{\\Phi}}}$ and the latter will be excluded from Lagrangian as a total derivative of time only dependent function.<br>\n",
    "Block-diagonal requirement is also applies to the inverse of $\\mathbf{C}_{\\text{eff}}$:"
   ]
  },
  {
   "cell_type": "markdown",
   "id": "eb57d5b0",
   "metadata": {},
   "source": [
    "$$ \\mathbf{C}_{\\text{eff}}^{-1} =  (\\mathbf{M}_{+}) \\mathbf{C}^{-1} \\left(\\mathbf{M}_{+} \\right)^T = \\left( \n",
    "\\matrix{\n",
    "\\mathbf{M} \\\\\n",
    "\\mathbf{R}\n",
    "}\n",
    "\\right)\n",
    "\\mathbf{C}^{-1}\n",
    "\\left(\n",
    "\\matrix{\n",
    "\\mathbf{M}^T & \\mathbf{R}^T\n",
    "}\n",
    "\\right) = \n",
    "\\left(\n",
    "\\matrix{\n",
    "\\mathbf{M}\\mathbf{C}^{-1}\\mathbf{M} & \\mathbf{M}\\mathbf{C}^{-1}\\mathbf{R}^T \\\\\n",
    "\\mathbf{R}\\mathbf{C}^{-1}\\mathbf{M} & \\mathbf{R}\\mathbf{C}^{-1}\\mathbf{R}\n",
    "}\n",
    "\\right)\n",
    "$$"
   ]
  },
  {
   "cell_type": "markdown",
   "id": "f2a4cd71",
   "metadata": {},
   "source": [
    "Hence we have to find atleast one matrix that satisfy:\n",
    "$$\\mathbf{R}\\mathbf{C}^{-1}\\mathbf{M}^T = 0$$\n",
    "\n",
    "Speaking in terms of linear argebra: rows of $\\mathbf{M}$ is the null space of $\\mathbf{R}\\mathbf{C}^{-1}$ operator."
   ]
  },
  {
   "cell_type": "markdown",
   "id": "f91a879f",
   "metadata": {},
   "source": [
    "Consider the following schematics where leftmost JJ is substituted with simple capacitor C"
   ]
  },
  {
   "cell_type": "markdown",
   "id": "18d41362",
   "metadata": {
    "ExecuteTime": {
     "end_time": "2022-02-14T12:12:29.738722Z",
     "start_time": "2022-02-14T12:12:29.705804Z"
    }
   },
   "source": [
    "![title](Case_3.png)"
   ]
  },
  {
   "cell_type": "markdown",
   "id": "e33ba673",
   "metadata": {},
   "source": [
    "$$\\mathbf{R} = \n",
    "\\left(\n",
    "\\matrix{\n",
    "1 & -1 & 0 \\\\\n",
    "0 & 1 & -1\n",
    "}\n",
    "\\right)\n",
    "$$\n",
    "$$\\mathbf{C}^{-1} = diag\\left( C_1^{-1},C_2^{-1},C_{3}^{-1} \\right)$$\n",
    "$$ \\mathbf{R} \\mathbf{C}^{-1} = \n",
    "\\left(\n",
    "\\matrix{\n",
    "C_1^{-1} & -C_2^{-1} & 0 \\\\\n",
    "0 & C_2^{-1} & -C_3^{-1}\n",
    "}\n",
    "\\right)\n",
    "$$\n",
    "<br>\n",
    "from here we can deduce that (properly normalized by $C_{\\Sigma} = \\Sigma C_i$:\n",
    "$$ M = \\frac{1}{C_{\\Sigma}}\n",
    "\\left(\n",
    "\\matrix{C_1 & C_2 & C_3 } \n",
    "\\right) $$\n",
    "<br>\n",
    "is the solution that satisfies\n",
    "$$\\mathbf{R}\\mathbf{C}^{-1}\\mathbf{M}^T = 0$$"
   ]
  },
  {
   "cell_type": "markdown",
   "id": "b81b3181",
   "metadata": {},
   "source": [
    "Finally we have only one \"free\" branch variable: <br>\n",
    "$ \\tilde{\\phi} = \\mathbf{M} \\mathbf{\\Phi} = \\sum_{j=1}^{N_{br}=3} \\frac{C_j}{C_{\\Sigma}}\\Phi_j$\n",
    "\n",
    "<br>\n",
    "Finding equation for $\\mathbf{C}_{\\text{eff}}$:"
   ]
  },
  {
   "cell_type": "markdown",
   "id": "93e21d31",
   "metadata": {},
   "source": [
    "$$ \\mathbf{M}_{+} = \n",
    "\\left(\n",
    "\\matrix{\n",
    "\\mathbf{M} \\\\\n",
    "\\mathbf{R}\n",
    "}\n",
    "\\right) =\n",
    "\\left(\n",
    "\\matrix{\n",
    "\\frac{C_1}{C_{\\Sigma}} & \\frac{C_2}{C_{\\Sigma}} & \\frac{C_3}{C_{\\Sigma}}\\\\\n",
    "1 & -1 & 0 \\\\\n",
    "0 & 1 & -1\n",
    "}\n",
    "\\right)\n",
    "$$"
   ]
  },
  {
   "cell_type": "markdown",
   "id": "1fe2abad",
   "metadata": {},
   "source": [
    "$$ (\\mathbf{M}_{+})^{-1} = \n",
    "\\left(\n",
    "\\matrix{\n",
    "1 & \\frac{C_2 + C_3}{C_{\\Sigma}} & \\frac{C_3}{C_{\\Sigma}} \\\\\n",
    "1 & -\\frac{C_1}{C_{\\Sigma}} & \\frac{C_3}{C_{\\Sigma}} \\\\\n",
    "1 & -\\frac{C_1}{C_{\\Sigma}} & -\\frac{C_1 + C_2}{C_{\\Sigma}}\n",
    "}\n",
    "\\right) $$"
   ]
  },
  {
   "cell_type": "markdown",
   "id": "fe84bd99",
   "metadata": {},
   "source": [
    "<br>\n",
    "And finally\n",
    "$$\\mathbf{C}_{\\text{eff}} = \n",
    "\\left(\n",
    "\\matrix{\n",
    "C_{\\Sigma} & 0 & 0 \\\\\n",
    "0 & \\frac{C_1(C_2 + C_3)}{C_{\\Sigma}} & \\frac{C_1 C_3}{C_{\\Sigma}} \\\\\n",
    "0 & \\frac{C_1 C_3}{C_{\\Sigma}} &\\frac{(С_1+С_2)C_3}{C_{\\Sigma}}\n",
    "}\n",
    "\\right)\n",
    "$$"
   ]
  },
  {
   "cell_type": "markdown",
   "id": "ccd12d54",
   "metadata": {},
   "source": [
    "$$\\mathbf{\\Phi} = \\mathbf{M}_{+}^{-1} \\tilde{\\mathbf{\\Phi}}_{+} $$\n",
    "or"
   ]
  },
  {
   "cell_type": "markdown",
   "id": "64e1ef31",
   "metadata": {},
   "source": [
    "$$ \\left(\n",
    "\\matrix{ \n",
    "\\Phi_1 \\\\\n",
    "\\Phi_2 \\\\\n",
    "\\Phi_3\n",
    "}\n",
    "\\right) = \n",
    "(\\mathbf{M}_{+})^{-1} \n",
    "\\left(\\matrix{ \n",
    "\\tilde{\\phi} \\\\\n",
    "\\Phi_e^1 \\\\\n",
    "\\Phi_e^2\n",
    "}\n",
    "\\right) $$"
   ]
  },
  {
   "cell_type": "markdown",
   "id": "f86aaf6c",
   "metadata": {},
   "source": [
    "Total Hamiltonian in this case will be\n",
    "\n",
    "$$ H =  E_C n^2 - \n",
    "E_{J2}\\cos{\\left( \\tilde{\\phi} -\\frac{C_1}{C_{\\Sigma}}\\Phi_e^{1} + \\frac{C_3}{C_{\\Sigma}}\\Phi_e^{2} \\right)} \n",
    "- E_{J3}\\cos{\\left(\\tilde{\\phi}  -\\frac{C_1}{C_{\\Sigma}}\\Phi_e^{1} -\\frac{C_1 + C_2}{C_{\\Sigma}}\\Phi_e^{2}\\right)} $$\n",
    "where $E_C = 2e^2/C_{\\Sigma}$"
   ]
  },
  {
   "cell_type": "markdown",
   "id": "1fda201d",
   "metadata": {},
   "source": [
    "or in notation of Tmon:\n",
    "$$ H =  E_C n^2 - \n",
    "E_{J1}\\cos{\\left( \\tilde{\\phi} -\\frac{C_{sh}}{C_{\\Sigma}}\\Phi_e^{1} + \\frac{C_{J2}}{C_{\\Sigma}}\\Phi_e^{2} \\right)} \n",
    "- E_{J2}\\cos{\\left(\\tilde{\\phi}  -\\frac{C_{sh}}{C_{\\Sigma}}\\Phi_e^{1} -\\frac{C_{sh} + C_{J1}}{C_{\\Sigma}}\\Phi_e^{2}\\right)} $$"
   ]
  },
  {
   "cell_type": "markdown",
   "id": "20f8db84",
   "metadata": {},
   "source": [
    "Firstly, repeating result for Case I and Case II since parameters generation code is slightly different."
   ]
  },
  {
   "cell_type": "markdown",
   "id": "bf515e21",
   "metadata": {},
   "source": [
    "### Repeat Case I and Case II"
   ]
  },
  {
   "cell_type": "code",
   "execution_count": 83,
   "id": "29de7497",
   "metadata": {},
   "outputs": [],
   "source": [
    "pars_list = []\n",
    "for phi_Ext in phi_Ext_list:\n",
    "    phi_Ext1 = phi_Ext\n",
    "    phi_Ext2 = 0\n",
    "    pars_list.append(\n",
    "        TmonPars(Ec, Ej, alpha, phi_Ext1, phi_Ext2, 1/T1_1, 1/T2_1)\n",
    "    )\n",
    "tr31 = Transmon(pars_list, Nc=Nc, res_trunc=4)\n",
    "sols31 = tr31.solve()\n",
    "res_list3 = np.array([sol.evecs for sol in sols31])\n",
    "n_entries = len(res_list3)\n",
    "fig, ax = plt.subplots(1,1)\n",
    "goodness3 = np.zeros(res_list3.shape, dtype=complex)\n",
    "\n",
    "for i in range(res_list3.shape[0]):\n",
    "    for j in range(res_list3.shape[1]):\n",
    "        goodness3[i,j] = np.abs((res_list3[i,j].dag() * res_list3[0,j])[0,0])\n",
    "\n",
    "for vec_idx, vec_goodness in enumerate(goodness3.T):\n",
    "    ax.plot(phi_Ext_list, np.abs(vec_goodness), label=r\"$\\left\\langle %d | %d(\\phi) \\right\\rangle  $\"%(vec_idx,vec_idx))\n",
    "ax.legend()\n",
    "ax.set_title(r\"for Nc = 15 or $dim(\\mathcal{H}) = 31 $   CASE 3.1\")\n",
    "ax.grid()"
   ]
  },
  {
   "cell_type": "code",
   "execution_count": 84,
   "id": "d744994c",
   "metadata": {},
   "outputs": [],
   "source": [
    "pars_list = []\n",
    "for phi_Ext in phi_Ext_list:\n",
    "    phi_Ext1 = 0\n",
    "    phi_Ext2 = phi_Ext\n",
    "    pars_list.append(\n",
    "        TmonPars(Ec, Ej, alpha, phi_Ext1, phi_Ext2, 1/T1_1, 1/T2_1)\n",
    "    )\n",
    "tr32 = Transmon(pars_list, Nc=Nc, res_trunc=4)\n",
    "sols32 = tr32.solve()\n",
    "res_list3 = np.array([sol.evecs for sol in sols32])\n",
    "n_entries = len(res_list3)\n",
    "fig, ax = plt.subplots(1,1)\n",
    "goodness3 = np.zeros(res_list3.shape, dtype=complex)\n",
    "\n",
    "for i in range(res_list3.shape[0]):\n",
    "    for j in range(res_list3.shape[1]):\n",
    "        goodness3[i,j] = np.abs((res_list3[i,j].dag() * res_list3[0,j])[0,0])\n",
    "\n",
    "for vec_idx, vec_goodness in enumerate(goodness3.T):\n",
    "    ax.plot(phi_Ext_list, np.abs(vec_goodness), label=r\"$\\left\\langle %d | %d(\\phi) \\right\\rangle  $\"%(vec_idx,vec_idx))\n",
    "ax.legend()\n",
    "ax.set_title(r\"for Nc = 15 or $dim(\\mathcal{H}) = 31 $   CASE 3.2\")\n",
    "ax.grid()"
   ]
  },
  {
   "cell_type": "markdown",
   "id": "75784244",
   "metadata": {},
   "source": [
    "Next calculations are based on parameters of the real design\n",
    "$$ C_{sh} \\approx 130 \\; \\text{fF} $$\n",
    "$$ C_{J1} \\approx 0.5  \\; \\text{fF} \\ll C_{sh} $$\n",
    "$$ C_{J2} \\approx \\alpha C_{J1} \\ll C_{sh} $$"
   ]
  },
  {
   "cell_type": "markdown",
   "id": "d8bba462",
   "metadata": {},
   "source": [
    "yet this guess is barely close to reality due to the fact that we have distributed capacitance. \n",
    "Distributed capacitance case is examined in <br>\n",
    "Riwar, R.-P., & DiVincenzo, D. P. (2021). Circuit quantization with time-dependent magnetic fields for realistic geometries. 1–21. <br>\n",
    "http://arxiv.org/abs/2103.03577"
   ]
  },
  {
   "cell_type": "markdown",
   "id": "cf6382dd",
   "metadata": {},
   "source": [
    "### Phi_1 = Phi_2"
   ]
  },
  {
   "cell_type": "code",
   "execution_count": 85,
   "id": "0f81532a",
   "metadata": {
    "ExecuteTime": {
     "end_time": "2022-04-22T18:34:15.474535Z",
     "start_time": "2022-04-22T18:34:15.456523Z"
    }
   },
   "outputs": [],
   "source": [
    "Csh = 130e-15\n",
    "CJ1 = 0.5e-15\n",
    "CJ2 = CJ1* alpha\n",
    "Csigma = Csh + CJ1 + CJ2\n",
    "pars_list = []\n",
    "for phi_Ext in phi_Ext_list:\n",
    "    phi_Ext1 = phi_Ext\n",
    "    phi_Ext2 = phi_Ext\n",
    "    # `mul` part is based on equation (2) from http://arxiv.org/abs/2103.03577\n",
    "    phi_Ext1 = (Csh/Csigma*phi_Ext1 - CJ2/Csigma*phi_Ext2)\n",
    "    phi_Ext2 = (Csh/Csigma*phi_Ext1 - (CJ1 + Csh)/Csigma*phi_Ext2)\n",
    "    pars_list.append(\n",
    "        TmonPars(Ec, Ej, alpha, phi_Ext1, phi_Ext2, 1/T1_1, 1/T2_1)\n",
    "    )\n",
    "tr3 = Transmon(pars_list, Nc=Nc, res_trunc=4)\n",
    "sols3 = tr3.solve()\n",
    "res_list3 = np.array([sol.evecs for sol in sols3])\n",
    "n_entries = len(res_list3)\n",
    "fig, ax = plt.subplots(1,1)\n",
    "goodness3 = np.zeros(res_list3.shape, dtype=complex)\n",
    "\n",
    "for i in range(res_list3.shape[0]):\n",
    "    for j in range(res_list3.shape[1]):\n",
    "        goodness3[i,j] = np.abs((res_list3[i,j].dag() * res_list3[0,j])[0,0])\n",
    "\n",
    "for vec_idx, vec_goodness in enumerate(goodness3.T):\n",
    "    ax.plot(phi_arr, np.abs(vec_goodness), label=r\"$\\left\\langle %d | %d(\\phi) \\right\\rangle  $\"%(vec_idx,vec_idx))\n",
    "ax.legend()\n",
    "ax.set_title(r\"for Nc = 15 or $dim(\\mathcal{H}) = 31 $   CASE 3\")\n",
    "ax.grid()"
   ]
  },
  {
   "cell_type": "markdown",
   "id": "90ad5b90",
   "metadata": {},
   "source": [
    "### Summary"
   ]
  },
  {
   "cell_type": "markdown",
   "id": "6cb10619",
   "metadata": {},
   "source": [
    "solutions"
   ]
  },
  {
   "cell_type": "markdown",
   "id": "6e8f1d3d",
   "metadata": {},
   "source": [
    "Case I"
   ]
  },
  {
   "cell_type": "code",
   "execution_count": 96,
   "id": "3943775c",
   "metadata": {},
   "outputs": [],
   "source": [
    "phi_Ext_list = np.linspace(0, 8*np.pi, 401)\n",
    "pars_list = [TmonPars(Ec1, Ej1, alpha, phi, 0, gamma_rel, gamma_phi) for phi in phi_Ext_list]\n",
    "tr1 = Transmon(pars_list, Nc=Nc, res_trunc=4)\n",
    "sols1 = tr1.solve()"
   ]
  },
  {
   "cell_type": "markdown",
   "id": "3d87ecc8",
   "metadata": {},
   "source": [
    "Case II"
   ]
  },
  {
   "cell_type": "code",
   "execution_count": 97,
   "id": "89e8a679",
   "metadata": {},
   "outputs": [],
   "source": [
    "pars_list = [TmonPars(Ec1, Ej1, alpha, 0, phi, gamma_rel, gamma_phi) for phi in phi_Ext_list]\n",
    "tr2 = Transmon(pars_list, Nc=Nc, res_trunc=4)\n",
    "sols2 = tr2.solve()"
   ]
  },
  {
   "cell_type": "markdown",
   "id": "f5a0c459",
   "metadata": {},
   "source": [
    "Case III"
   ]
  },
  {
   "cell_type": "code",
   "execution_count": 98,
   "id": "fca97ef9",
   "metadata": {},
   "outputs": [],
   "source": [
    "Csh = 130e-15\n",
    "CJ1 = 0.5e-15\n",
    "CJ2 = CJ1* alpha\n",
    "Csigma = Csh + CJ1 + CJ2\n",
    "pars_list = []\n",
    "for phi_Ext in phi_Ext_list:\n",
    "    phi_Ext1 = phi_Ext\n",
    "    phi_Ext2 = phi_Ext\n",
    "    # `mul` part is based on equation (2) from http://arxiv.org/abs/2103.03577\n",
    "    phi_Ext1 = (Csh/Csigma*phi_Ext1 - CJ2/Csigma*phi_Ext2)\n",
    "    phi_Ext2 = (Csh/Csigma*phi_Ext1 - (CJ1 + Csh)/Csigma*phi_Ext2)\n",
    "    pars_list.append(\n",
    "        TmonPars(Ec, Ej, alpha, phi_Ext1, phi_Ext2, 1/T1_1, 1/T2_1)\n",
    "    )\n",
    "tr3 = Transmon(pars_list, Nc=Nc, res_trunc=4)\n",
    "sols3 = tr3.solve()"
   ]
  },
  {
   "cell_type": "markdown",
   "id": "6e845d45",
   "metadata": {},
   "source": [
    "plotting"
   ]
  },
  {
   "cell_type": "code",
   "execution_count": 99,
   "id": "a77f0ad4",
   "metadata": {},
   "outputs": [],
   "source": [
    "fig, axs = plt.subplots(4,1, sharex=True)\n",
    "for sols_idx, sols in enumerate([sols1, sols2, sols3]):\n",
    "    axs[0].plot(phi_Ext_list, [sol.E01() for sol in sols], label=r\"$E_{01}$ Case \" + str(sols_idx+1) )\n",
    "    eg_overlap = [sols[0].g_state().overlap(sol.e_state()) for sol in sols]\n",
    "    ee_overlap = [sols[0].e_state().overlap(sol.e_state()) for sol in sols]\n",
    "    fe_overlap = [sols[0].f_state().overlap(sol.e_state()) for sol in sols]\n",
    "    axs[sols_idx+1].plot(phi_Ext_list, np.abs(eg_overlap)**2, label=r\"$\\left< g(0) \\vert e(\\phi_{e}) \\right>$\")\n",
    "    axs[sols_idx+1].plot(phi_Ext_list, np.abs(ee_overlap)**2, label=r\"$\\left< e(0) \\vert e(\\phi_{e}) \\right>$\")\n",
    "    axs[sols_idx+1].plot(phi_Ext_list, np.abs(fe_overlap)**2, label=r\"$\\left< f(0) \\vert e(\\phi_{e}) \\right>$\")\n",
    "for ax_idx, ax in enumerate(axs):\n",
    "    ax.legend()\n",
    "    ax.grid()\n",
    "    if ax_idx > 0:\n",
    "        ax.set_title(\"CASE \" + str(ax_idx))"
   ]
  },
  {
   "cell_type": "markdown",
   "id": "3fbaad27",
   "metadata": {},
   "source": [
    "### Time domain qp.mesolve"
   ]
  },
  {
   "cell_type": "code",
   "execution_count": 110,
   "id": "c71efa74",
   "metadata": {
    "ExecuteTime": {
     "end_time": "2022-04-22T18:34:15.474535Z",
     "start_time": "2022-04-22T18:34:15.456523Z"
    }
   },
   "outputs": [],
   "source": [
    "def fl_t(t, args):\n",
    "    w = args[\"pulse_omega\"]\n",
    "    phase_amp = args[\"phase_amp\"]\n",
    "    alpha = args[\"alpha\"]\n",
    "    Ej_l = alpha*args[\"Ej\"]\n",
    "    return Ej_l*np.exp(-1j*phase_amp*np.sin(w*t))/2\n",
    "\n",
    "def fr_t(t, args):\n",
    "    w = args[\"pulse_omega\"]\n",
    "    phase_amp = args[\"phase_amp\"]\n",
    "    alpha = args[\"alpha\"]\n",
    "    Ej_r = args[\"Ej\"]\n",
    "    return Ej_r*np.exp(1j*phase_amp*np.sin(w*t))/2\n",
    "\n",
    "H0 = Ec*qp.charge(Nc)**2\n",
    "H1 = qp.Qobj(raising_op(dims))\n",
    "H2 = qp.Qobj(lowering_op(dims))\n",
    "H_list_callback = [H0, [H1, fl_t], [H2, fr_t]]\n",
    "rho_0 = qp.ket2dm(sols1[0].e_state())\n",
    "tlist = np.linspace(0,20,201)"
   ]
  },
  {
   "cell_type": "code",
   "execution_count": 128,
   "id": "858afae9",
   "metadata": {},
   "outputs": [
    {
     "data": {
      "text/latex": [
       "Quantum object: dims = [[21], [1]], shape = (21, 1), type = ket\\begin{equation*}\\left(\\begin{array}{*{11}c}-2.684\\times10^{-04}\\\\0.001\\\\-0.006\\\\0.019\\\\-0.057\\\\\\vdots\\\\0.057\\\\-0.019\\\\0.006\\\\-0.001\\\\2.684\\times10^{-04}\\\\\\end{array}\\right)\\end{equation*}"
      ],
      "text/plain": [
       "Quantum object: dims = [[21], [1]], shape = (21, 1), type = ket\n",
       "Qobj data =\n",
       "[[-2.68386339e-04]\n",
       " [ 1.34619774e-03]\n",
       " [-5.57050904e-03]\n",
       " [ 1.94328085e-02]\n",
       " [-5.65069480e-02]\n",
       " [ 1.34841380e-01]\n",
       " [-2.58661007e-01]\n",
       " [ 3.86592088e-01]\n",
       " [-4.24020086e-01]\n",
       " [ 2.86465051e-01]\n",
       " [ 0.00000000e+00]\n",
       " [-2.86465051e-01]\n",
       " [ 4.24020086e-01]\n",
       " [-3.86592088e-01]\n",
       " [ 2.58661007e-01]\n",
       " [-1.34841380e-01]\n",
       " [ 5.65069480e-02]\n",
       " [-1.94328085e-02]\n",
       " [ 5.57050904e-03]\n",
       " [-1.34619774e-03]\n",
       " [ 2.68386339e-04]]"
      ]
     },
     "execution_count": 128,
     "metadata": {},
     "output_type": "execute_result"
    }
   ],
   "source": [
    "sols1[0].e_state()"
   ]
  },
  {
   "cell_type": "code",
   "execution_count": 125,
   "id": "0cdb40b6",
   "metadata": {
    "ExecuteTime": {
     "end_time": "2022-04-22T18:34:15.474535Z",
     "start_time": "2022-04-22T18:34:15.456523Z"
    },
    "scrolled": true
   },
   "outputs": [
    {
     "name": "stdout",
     "output_type": "stream",
     "text": [
      "10.4%. Run time:   0.11s. Est. time left: 00:00:00:00\n",
      "20.4%. Run time:   0.13s. Est. time left: 00:00:00:00\n",
      "30.3%. Run time:   0.14s. Est. time left: 00:00:00:00\n",
      "40.3%. Run time:   0.16s. Est. time left: 00:00:00:00\n",
      "50.2%. Run time:   0.17s. Est. time left: 00:00:00:00\n",
      "60.2%. Run time:   0.19s. Est. time left: 00:00:00:00\n",
      "70.1%. Run time:   0.20s. Est. time left: 00:00:00:00\n",
      "80.1%. Run time:   0.22s. Est. time left: 00:00:00:00\n",
      "90.0%. Run time:   0.24s. Est. time left: 00:00:00:00\n",
      "Total run time:   0.25s\n"
     ]
    }
   ],
   "source": [
    "args_dict = {\n",
    "    \"pulse_omega\": 2e-3,  # GHz\n",
    "    \"phase_amp\": np.pi/4,\n",
    "    \"alpha\": alpha,\n",
    "    \"Ej\": Ej\n",
    "}\n",
    "sesolve_res = qp.sesolve(H_list_callback, sols1[0].e_state(), tlist, args=args_dict, progress_bar=True)"
   ]
  },
  {
   "cell_type": "code",
   "execution_count": 131,
   "id": "0e6ae89d",
   "metadata": {},
   "outputs": [
    {
     "data": {
      "text/latex": [
       "Quantum object: dims = [[21], [1]], shape = (21, 1), type = ket\\begin{equation*}\\left(\\begin{array}{*{11}c}(-5.637\\times10^{-05}-1.225\\times10^{-04}j)\\\\(2.750\\times10^{-04}+7.049\\times10^{-04}j)\\\\(-0.001-0.003j)\\\\(0.003+0.013j)\\\\(-0.009-0.041j)\\\\\\vdots\\\\(0.019-0.036j)\\\\(0.003+0.012j)\\\\(-0.003-0.002j)\\\\(5.898\\times10^{-04}-3.064\\times10^{-04}j)\\\\(-3.419\\times10^{-07}+8.256\\times10^{-05}j)\\\\\\end{array}\\right)\\end{equation*}"
      ],
      "text/plain": [
       "Quantum object: dims = [[21], [1]], shape = (21, 1), type = ket\n",
       "Qobj data =\n",
       "[[-5.63733659e-05-1.22548302e-04j]\n",
       " [ 2.75047322e-04+7.04870596e-04j]\n",
       " [-1.03234127e-03-3.32303968e-03j]\n",
       " [ 3.26764180e-03+1.28916101e-02j]\n",
       " [-9.01521659e-03-4.08313615e-02j]\n",
       " [ 2.28840982e-02+1.04141279e-01j]\n",
       " [-5.50286401e-02-2.09588274e-01j]\n",
       " [ 1.20135072e-01+3.21026185e-01j]\n",
       " [-2.17243275e-01-3.44861196e-01j]\n",
       " [ 2.93513953e-01+1.92231358e-01j]\n",
       " [-2.53292057e-01+1.00262364e-01j]\n",
       " [ 6.16715080e-02-3.44064576e-01j]\n",
       " [ 1.68528355e-01+3.67880402e-01j]\n",
       " [-2.71629938e-01-2.02641569e-01j]\n",
       " [ 2.11412343e-01+2.66925576e-02j]\n",
       " [-9.38888084e-02+4.49174914e-02j]\n",
       " [ 1.85569082e-02-3.58718611e-02j]\n",
       " [ 3.20931133e-03+1.22397957e-02j]\n",
       " [-2.87044591e-03-1.50148402e-03j]\n",
       " [ 5.89810011e-04-3.06429937e-04j]\n",
       " [-3.41862270e-07+8.25646414e-05j]]"
      ]
     },
     "execution_count": 131,
     "metadata": {},
     "output_type": "execute_result"
    }
   ],
   "source": [
    "sesolve_res.states[1]"
   ]
  },
  {
   "cell_type": "code",
   "execution_count": 136,
   "id": "916c898c",
   "metadata": {},
   "outputs": [
    {
     "ename": "Exception",
     "evalue": "This function requires the mayavi module.",
     "output_type": "error",
     "traceback": [
      "\u001b[1;31m---------------------------------------------------------------------------\u001b[0m",
      "\u001b[1;31mModuleNotFoundError\u001b[0m                       Traceback (most recent call last)",
      "\u001b[1;32m~\\.conda\\envs\\qp-nbs\\lib\\site-packages\\qutip\\bloch3d.py\u001b[0m in \u001b[0;36m__init__\u001b[1;34m(self, fig)\u001b[0m\n\u001b[0;32m    112\u001b[0m         \u001b[1;32mtry\u001b[0m\u001b[1;33m:\u001b[0m\u001b[1;33m\u001b[0m\u001b[1;33m\u001b[0m\u001b[0m\n\u001b[1;32m--> 113\u001b[1;33m             \u001b[1;32mfrom\u001b[0m \u001b[0mmayavi\u001b[0m \u001b[1;32mimport\u001b[0m \u001b[0mmlab\u001b[0m\u001b[1;33m\u001b[0m\u001b[1;33m\u001b[0m\u001b[0m\n\u001b[0m\u001b[0;32m    114\u001b[0m         \u001b[1;32mexcept\u001b[0m\u001b[1;33m:\u001b[0m\u001b[1;33m\u001b[0m\u001b[1;33m\u001b[0m\u001b[0m\n",
      "\u001b[1;31mModuleNotFoundError\u001b[0m: No module named 'mayavi'",
      "\nDuring handling of the above exception, another exception occurred:\n",
      "\u001b[1;31mException\u001b[0m                                 Traceback (most recent call last)",
      "\u001b[1;32m~\\AppData\\Local\\Temp\\ipykernel_11100\\937187027.py\u001b[0m in \u001b[0;36m<module>\u001b[1;34m\u001b[0m\n\u001b[1;32m----> 1\u001b[1;33m \u001b[0mb3d\u001b[0m \u001b[1;33m=\u001b[0m \u001b[0mqp\u001b[0m\u001b[1;33m.\u001b[0m\u001b[0mBloch3d\u001b[0m\u001b[1;33m(\u001b[0m\u001b[1;33m)\u001b[0m\u001b[1;33m\u001b[0m\u001b[1;33m\u001b[0m\u001b[0m\n\u001b[0m",
      "\u001b[1;32m~\\.conda\\envs\\qp-nbs\\lib\\site-packages\\qutip\\bloch3d.py\u001b[0m in \u001b[0;36m__init__\u001b[1;34m(self, fig)\u001b[0m\n\u001b[0;32m    113\u001b[0m             \u001b[1;32mfrom\u001b[0m \u001b[0mmayavi\u001b[0m \u001b[1;32mimport\u001b[0m \u001b[0mmlab\u001b[0m\u001b[1;33m\u001b[0m\u001b[1;33m\u001b[0m\u001b[0m\n\u001b[0;32m    114\u001b[0m         \u001b[1;32mexcept\u001b[0m\u001b[1;33m:\u001b[0m\u001b[1;33m\u001b[0m\u001b[1;33m\u001b[0m\u001b[0m\n\u001b[1;32m--> 115\u001b[1;33m             \u001b[1;32mraise\u001b[0m \u001b[0mException\u001b[0m\u001b[1;33m(\u001b[0m\u001b[1;34m\"This function requires the mayavi module.\"\u001b[0m\u001b[1;33m)\u001b[0m\u001b[1;33m\u001b[0m\u001b[1;33m\u001b[0m\u001b[0m\n\u001b[0m\u001b[0;32m    116\u001b[0m \u001b[1;33m\u001b[0m\u001b[0m\n\u001b[0;32m    117\u001b[0m         \u001b[1;31m# ---Image options---\u001b[0m\u001b[1;33m\u001b[0m\u001b[1;33m\u001b[0m\u001b[1;33m\u001b[0m\u001b[0m\n",
      "\u001b[1;31mException\u001b[0m: This function requires the mayavi module."
     ]
    }
   ],
   "source": [
    "b3d = qp.Bloch3d()"
   ]
  },
  {
   "cell_type": "code",
   "execution_count": null,
   "id": "414dd77b",
   "metadata": {
    "ExecuteTime": {
     "end_time": "2022-04-22T18:34:15.474535Z",
     "start_time": "2022-04-22T18:34:15.456523Z"
    }
   },
   "outputs": [],
   "source": [
    "for mul in np.linspace(-1,2, 4):\n",
    "    # phi_ext pulse shape\n",
    "    for phi_ext in phi_ext_list:\n",
    "        pars = TmonPars(\n",
    "            Ec=0.6, Ej=28, alpha=0.2,\n",
    "            phiExt1=mul*phi_ext, phiExt2=(mul - 1)*phi_ext,\n",
    "            gamma_rel=0.1e-3,  # GHz\n",
    "            gamma_phi=0.5e-3,  # GHz\n",
    "        )\n",
    "        pars_list.append(pars)\n",
    "    tr = Transmon(pars=pars_list, Nc=Nc, res_trunc=res_trunc)"
   ]
  },
  {
   "cell_type": "code",
   "execution_count": null,
   "id": "bb369d8b",
   "metadata": {},
   "outputs": [],
   "source": []
  },
  {
   "cell_type": "code",
   "execution_count": null,
   "id": "cb1fe36a",
   "metadata": {
    "ExecuteTime": {
     "end_time": "2022-04-22T18:34:16.471015Z",
     "start_time": "2022-04-22T18:34:16.459740Z"
    }
   },
   "outputs": [],
   "source": [
    "from transmon_simulations_lib.custom_ops import raising_op, lowering_op"
   ]
  },
  {
   "cell_type": "markdown",
   "id": "d51c5a14",
   "metadata": {},
   "source": [
    "## Z-gate"
   ]
  },
  {
   "cell_type": "code",
   "execution_count": null,
   "id": "73cd6a2e",
   "metadata": {},
   "outputs": [],
   "source": [
    "import transmon_simulations_lib.single_transmon.transmon\n",
    "reload(transmon_simulations_lib.single_transmon.transmon)\n",
    "from transmon_simulations_lib.single_transmon.transmon import Transmon"
   ]
  },
  {
   "cell_type": "code",
   "execution_count": null,
   "id": "59f9d352",
   "metadata": {
    "ExecuteTime": {
     "end_time": "2022-04-22T18:09:48.097561Z",
     "start_time": "2022-04-22T18:09:44.438148Z"
    }
   },
   "outputs": [],
   "source": [
    "import scipy.signal\n",
    "def gauss(t, t0, gdt):\n",
    "    import scipy.stats\n",
    "    gauss_hat_centered = scipy.stats.norm(t0, gdt).pdf(t)\n",
    "    return gauss_hat_centered\n",
    "\n",
    "def phi(t, start, tau, gdt):\n",
    "    phi = np.zeros(t.shape)\n",
    "    phi[((t > start) & (t < start + tau))] = 1\n",
    "    if gdt != 0:\n",
    "        phi = scipy.signal.convolve(phi,gauss(t, t[-1]/2, gdt),mode='same')\n",
    "    return phi"
   ]
  },
  {
   "cell_type": "code",
   "execution_count": null,
   "id": "52ec63a2",
   "metadata": {
    "ExecuteTime": {
     "end_time": "2022-04-22T18:09:48.286858Z",
     "start_time": "2022-04-22T18:09:48.099558Z"
    }
   },
   "outputs": [],
   "source": [
    "fix, ax = plt.subplots(1,1)\n",
    "pdata = gauss(Ts,Ts[-1]/2, 2)\n",
    "ax.plot(pdata)\n",
    "scipy.integrate.quad(lambda x: gauss(x,Ts[-1]/2,2), Ts[-1]/2 - 4, Ts[-1]/2 + 4)"
   ]
  },
  {
   "cell_type": "markdown",
   "id": "5f809b6d",
   "metadata": {},
   "source": [
    "pulse preparation"
   ]
  },
  {
   "cell_type": "code",
   "execution_count": null,
   "id": "95e6def6",
   "metadata": {
    "ExecuteTime": {
     "end_time": "2022-04-22T18:09:48.289827Z",
     "start_time": "2022-04-22T18:09:45.280Z"
    },
    "scrolled": false
   },
   "outputs": [],
   "source": [
    "\n",
    "tau = 100  # Gate length\n",
    "dgt = 12   # typical rise-fall time of the pulse\n",
    "t_rise = 3*dgt  # several rise-fall times to ensure most pulse is in window\n",
    "t_start = t_rise  # severak rise-fall times\n",
    "Ts = np.linspace(0,t_rise + tau + t_rise,1001)\n",
    "phi_list = phi(Ts, t_start, tau, dgt)\n",
    "phi_list *= np.pi/16/np.max(phi_list)\n",
    "fig, ax = plt.subplots(1,1, figsize=(4,3))\n",
    "ax.plot(Ts, phi_list)\n",
    "ax.set_xlabel(\"ns\")\n",
    "ax.set_ylabel(\"rad\")\n",
    "fig.tight_layout()"
   ]
  },
  {
   "cell_type": "markdown",
   "id": "28337a2e",
   "metadata": {},
   "source": [
    "### Case I"
   ]
  },
  {
   "cell_type": "code",
   "execution_count": null,
   "id": "75eab8c1",
   "metadata": {},
   "outputs": [],
   "source": [
    "tr = Transmon(Ec1, Ej1, alpha=alpha, phi=0, Nc=10)\n",
    "first_evecs_N = 5\n",
    "first_evecs = tr.solve()[0].evecs[:first_evecs_N]\n",
    "H_list = [tr.calc_Hfull_cb(phi) for phi in phi_list]\n",
    "def H_callback(t, *args):\n",
    "    i = np.argmin(np.abs(t-Ts))\n",
    "    return H_list[i]\n",
    "def H_0_callback(t, *args):\n",
    "    return H_list[0]\n",
    "sol = qp.sesolve(H_callback, psi1, Ts, options=qp.Options(nsteps=10000))"
   ]
  },
  {
   "cell_type": "code",
   "execution_count": null,
   "id": "8931e79a",
   "metadata": {},
   "outputs": [],
   "source": [
    "fig, ax = plt.subplots(1,1)\n",
    "\n",
    "projs = []\n",
    "for evec in first_evecs:\n",
    "    bra_vec = evec.dag()\n",
    "    projs.append(np.array([(bra_vec*state_ket)[0,0] for state_ket in sol.states]))\n",
    "projs = np.array(projs)\n",
    "\n",
    "for i, proj in enumerate(projs):\n",
    "    label_str = r\"$P_{1 \\rightarrow \" + f\"{i}\" + r\" }$\"\n",
    "    ax.plot(Ts, np.abs(proj)**2, label=label_str)\n",
    "s = np.sum(np.abs(projs)**2, axis=0)\n",
    "ax.plot(Ts, s, label=\"total population of first \\n\" + str(len(projs)) + r\" eigenstates in $\\phi_{ext} = 0$ basis\")\n",
    "ax.legend()\n",
    "ax.set_xlabel(\"ns\")\n",
    "ax.set_ylim(-0.05, 1.05)"
   ]
  },
  {
   "cell_type": "markdown",
   "id": "daa45d30",
   "metadata": {},
   "source": [
    "### Case II"
   ]
  },
  {
   "cell_type": "code",
   "execution_count": null,
   "id": "4cba9fff",
   "metadata": {},
   "outputs": [],
   "source": [
    "tr = Transmon(Ec1, Ej1, alpha=alpha, phi=0, Nc=10)\n",
    "first_evecs_N = 5\n",
    "first_evecs = tr.solve()[0].evecs[:first_evecs_N]\n",
    "H_list = [tr.calc_Hfull_cb2(phi) for phi in phi_list]\n",
    "def H_callback(t, *args):\n",
    "    i = np.argmin(np.abs(t-Ts))\n",
    "    return H_list[i]\n",
    "def H_0_callback(t, *args):\n",
    "    return H_list[0]\n",
    "sol = qp.sesolve(H_callback, psi1, Ts, options=qp.Options(nsteps=10000))"
   ]
  },
  {
   "cell_type": "code",
   "execution_count": null,
   "id": "e28b2a10",
   "metadata": {},
   "outputs": [],
   "source": [
    "fig, ax = plt.subplots(1,1)\n",
    "\n",
    "projs = []\n",
    "for evec in first_evecs:\n",
    "    bra_vec = evec.dag()\n",
    "    projs.append(np.array([(bra_vec*state_ket)[0,0] for state_ket in sol.states]))\n",
    "projs = np.array(projs)\n",
    "\n",
    "for i, proj in enumerate(projs):\n",
    "    label_str = r\"$P_{1 \\rightarrow \" + f\"{i}\" + r\" }$\"\n",
    "    ax.plot(Ts, np.abs(proj)**2, label=label_str)\n",
    "s = np.sum(np.abs(projs)**2, axis=0)\n",
    "ax.plot(Ts, s, label=\"total population of first \\n\" + str(len(projs)) + r\" eigenstates in $\\phi_{ext} = 0$ basis\")\n",
    "ax.legend()\n",
    "ax.set_xlabel(\"ns\")\n",
    "ax.set_ylim(-0.05, 1.05)"
   ]
  },
  {
   "cell_type": "markdown",
   "id": "3a8dfc79",
   "metadata": {},
   "source": [
    "# Not sorted"
   ]
  },
  {
   "cell_type": "code",
   "execution_count": null,
   "id": "7f6a2f33",
   "metadata": {
    "scrolled": true
   },
   "outputs": [],
   "source": [
    "# qubit 1 jumps from phi = 0 to phi = pi/2 and back\n",
    "# qubit 2 resides in phi = pi/2\n",
    "phi_list_cache = np.linspace(0, np.pi/2, int(1e2))\n",
    "\n",
    "if __name__ == '__main__':\n",
    "    mp.freeze_support()\n",
    "    args = []\n",
    "from single_transmon.transmon import foo\n",
    "def foo(args):\n",
    "    return args[\"phi_offset\"]\n",
    "for phi in phi_list_cache:\n",
    "    args.append({\"phi_offset\": phi})\n",
    "with mp.Pool(mp.cpu_count()-1) as p:\n",
    "    res = list(p.map(foo, tqdm.tqdm(args)))"
   ]
  },
  {
   "cell_type": "code",
   "execution_count": null,
   "id": "947cc26f",
   "metadata": {},
   "outputs": [],
   "source": []
  },
  {
   "cell_type": "code",
   "execution_count": null,
   "id": "793a4221",
   "metadata": {},
   "outputs": [],
   "source": []
  },
  {
   "cell_type": "code",
   "execution_count": null,
   "id": "5a22bce8",
   "metadata": {},
   "outputs": [],
   "source": []
  },
  {
   "cell_type": "code",
   "execution_count": null,
   "id": "ca6d4904",
   "metadata": {},
   "outputs": [],
   "source": []
  },
  {
   "cell_type": "code",
   "execution_count": null,
   "id": "65e18238",
   "metadata": {},
   "outputs": [],
   "source": []
  },
  {
   "cell_type": "code",
   "execution_count": null,
   "id": "97b54a9f",
   "metadata": {},
   "outputs": [],
   "source": [
    "chain = TransmonChain(4, transmon_truncation = 3)\n",
    "chain.set_phi((params['phi_base_level'] + params['phi_offset'],params['phi2z_base_level'],0.6,0.7))\n",
    "chain._transmons = [tr1, tr2,tr3,tr4]\n",
    "chain.set_J([0.01/1.2**2 * 2 * np.pi/5, 0.01/1.2**2 * 2 * np.pi/5, 0.01/1.2**2 * 2 * np.pi/5, 0.01/1.2**2 * 2 * np.pi/5])\n",
    "chain.build_low_energy_kets(2,0)\n",
    "chain._Ts = Ts\n",
    "rho0 = [ket2dm(basis(3,0)),ket2dm(basis(3,0)),ket2dm(basis(3,0)),ket2dm(basis(3,0))]\n",
    "rho0 = tensor(*rho0)\n",
    "rho0 = chain.truncate_to_low_population_subspace(rho0)\n",
    "chain.rho0 = rho0\n",
    "sigma_z_chain = []\n",
    "sigma_x_chain = []\n",
    "sigma_y_chain = []\n",
    "for i in range (4): #TO DO - вынести в функцию класса\n",
    "    sigma_z = chain._transmons[i].sz()\n",
    "    sigma_x = chain._transmons[i].sx()\n",
    "    sigma_y = chain._transmons[i].sy()\n",
    "    oper_z = chain._identity_array.copy()\n",
    "    oper_z[i]=sigma_z\n",
    "    oper_x = chain._identity_array.copy()\n",
    "    oper_x[i]=sigma_x\n",
    "    oper_y = chain._identity_array.copy()\n",
    "    oper_y[i]=sigma_y\n",
    "    sigma_z_chain.append(chain.truncate_to_low_population_subspace(tensor(*oper_z)))\n",
    "    sigma_x_chain.append(chain.truncate_to_low_population_subspace(tensor(*oper_x)))\n",
    "    sigma_y_chain.append(chain.truncate_to_low_population_subspace(tensor(*oper_y)))\n",
    "\n",
    "chain.e_ops = sigma_z_chain + sigma_x_chain + sigma_y_chain\n"
   ]
  },
  {
   "cell_type": "markdown",
   "id": "493117c5",
   "metadata": {
    "heading_collapsed": true
   },
   "source": [
    "# Свободная эволюция системы"
   ]
  },
  {
   "cell_type": "markdown",
   "id": "c738ab97",
   "metadata": {
    "hidden": true
   },
   "source": [
    "### 1й и 2й кубит в цепочке в резонансе, изначально первый кубит возбуждён"
   ]
  },
  {
   "cell_type": "code",
   "execution_count": null,
   "id": "48d74911",
   "metadata": {
    "hidden": true
   },
   "outputs": [],
   "source": [
    "rho0 = [ket2dm(basis(3,0)),ket2dm(basis(3,0)),ket2dm(basis(3,0)),ket2dm(basis(3,0))]\n",
    "rho0[0] = ket2dm((basis(3,1) + basis(3,0))/sqrt(2)) # задаём начальное состояние 1го кубита\n",
    "rho0 = tensor(*rho0)\n",
    "rho0 = chain.truncate_to_low_population_subspace(rho0)\n",
    "waveform1_const = ones_like(Ts)*(params['phi_base_level']+params['phi_offset'])\n",
    "waveform2_const = ones_like(Ts)*(params['phi2z_base_level'])\n",
    "waveform3_const = ones_like(Ts)*0.6\n",
    "waveform4_const = ones_like(Ts)*0.7\n",
    "\n",
    "\n",
    "H_full_test = chain.build_H_full([waveform1_const, waveform2_const, waveform3_const, waveform4_const], \n",
    "                                 params, [[0,0],[0,0],[0,0],[0,0]] )\n",
    "\n",
    "result = mesolve(H_full_test, rho0, Ts, \n",
    "                 c_ops = [],e_ops = chain.e_ops,\n",
    "                 progress_bar=True,options=Options(nsteps = 20000, store_states = True, max_step = 1e-1))"
   ]
  },
  {
   "cell_type": "code",
   "execution_count": null,
   "id": "1f9825d2",
   "metadata": {
    "hidden": true
   },
   "outputs": [],
   "source": [
    "chain.plot_chain_dynamic(result)"
   ]
  },
  {
   "cell_type": "markdown",
   "id": "d08a8953",
   "metadata": {
    "hidden": true
   },
   "source": [
    "## Эволюция под действием внешнего поля"
   ]
  },
  {
   "cell_type": "markdown",
   "id": "d8e81bbc",
   "metadata": {
    "hidden": true
   },
   "source": [
    "### Кубиты не в резонансе, поле действует на первый и третий кубиты"
   ]
  },
  {
   "cell_type": "code",
   "execution_count": null,
   "id": "aa555087",
   "metadata": {
    "hidden": true
   },
   "outputs": [],
   "source": [
    "chain.set_phi((params['phi_base_level'],params['phi2z_base_level'],0.6,0.7))"
   ]
  },
  {
   "cell_type": "code",
   "execution_count": null,
   "id": "c95ed732",
   "metadata": {
    "hidden": true
   },
   "outputs": [],
   "source": [
    "waveform1_const = ones_like(Ts)*(params['phi_base_level'])\n",
    "waveform2_const = ones_like(Ts)*(params['phi2z_base_level'])\n",
    "waveform3_const = ones_like(Ts)*0.6\n",
    "waveform4_const = ones_like(Ts)*0.7"
   ]
  },
  {
   "cell_type": "code",
   "execution_count": null,
   "id": "ccd2f7f4",
   "metadata": {
    "hidden": true
   },
   "outputs": [],
   "source": [
    "H_full = chain.build_H_full([waveform1_const, waveform2_const, waveform3_const, waveform4_const], \n",
    "                                 params, [[T._pi_duration,0],[0,0],[T._pi_duration/2,0],[0,0]] )\n",
    "\n",
    "result = mesolve(H_full, chain.rho0, Ts, \n",
    "                 c_ops = [],e_ops = chain.e_ops,\n",
    "                 progress_bar=True,options=Options(nsteps = 20000, store_states = True, max_step = 1e-1))\n",
    "\n",
    "chain.plot_chain_dynamic(result)"
   ]
  },
  {
   "cell_type": "markdown",
   "id": "4cb5b237",
   "metadata": {
    "hidden": true
   },
   "source": [
    "### 1й, 2й и 3й кубиты в резонансе, поле действует на первый"
   ]
  },
  {
   "cell_type": "code",
   "execution_count": null,
   "id": "1e8f60aa",
   "metadata": {
    "hidden": true
   },
   "outputs": [],
   "source": [
    "waveform1_const = ones_like(Ts)*(params['phi_base_level'] + params['phi_offset'] )\n",
    "waveform2_const = ones_like(Ts)*(params['phi2z_base_level'])\n",
    "waveform3_const = ones_like(Ts)*(params['phi2z_base_level'])\n",
    "waveform4_const = ones_like(Ts)*0.7\n",
    "chain.set_phi((params['phi_base_level'] + params['phi_offset'],params['phi2z_base_level'],params['phi2z_base_level'],0.7))\n",
    "\n",
    "H_full = chain.build_H_full([waveform1_const, waveform2_const, waveform3_const, waveform4_const], \n",
    "                                 params, [[T._pi_duration,0],[0,0],[0,0],[0,0]] )\n",
    "\n",
    "result = mesolve(H_full, chain.rho0, Ts, \n",
    "                 c_ops = [],e_ops = chain.e_ops,\n",
    "                 progress_bar=True,options=Options(nsteps = 20000, store_states = True, max_step = 1e-1))\n",
    "\n",
    "chain.plot_chain_dynamic(result)"
   ]
  },
  {
   "cell_type": "markdown",
   "id": "5b56cf21",
   "metadata": {
    "hidden": true
   },
   "source": [
    "## Vacuum rabi oscillations"
   ]
  },
  {
   "cell_type": "markdown",
   "id": "c94cf6ce",
   "metadata": {
    "hidden": true
   },
   "source": [
    "Приготавливаем первый кубит в возбуждённом состоянии, затем на какое-то время перестраиваем его по потоку. При попадании в резонанс со вторым кубитом наблюдаются осцилляции заселённости возбуждённого состояния 1-го и 2-го кубитов. Можно построить зависимость заселённости второго кубита от отстройки по потоку и времени взаимодействия. "
   ]
  },
  {
   "cell_type": "code",
   "execution_count": null,
   "id": "4e50a1d2",
   "metadata": {
    "hidden": true
   },
   "outputs": [],
   "source": [
    "signal = ZPulse(Ts,params)\n",
    "chain.set_phi((params['phi_base_level'],params['phi2z_base_level'],0.6,0.7))\n",
    "\n"
   ]
  },
  {
   "cell_type": "markdown",
   "id": "26954e72",
   "metadata": {
    "hidden": true
   },
   "source": [
    "## Форма потокового импульса, подающегося на первый кубит (для одного значения параметров)"
   ]
  },
  {
   "cell_type": "code",
   "execution_count": null,
   "id": "02e54c05",
   "metadata": {
    "hidden": true,
    "scrolled": true
   },
   "outputs": [],
   "source": [
    "figure()\n",
    "plot(Ts, vacuum_rabi_waveform(200, 0.03, Ts, params)[0])"
   ]
  },
  {
   "cell_type": "code",
   "execution_count": null,
   "id": "2b3abd2b",
   "metadata": {
    "hidden": true
   },
   "outputs": [],
   "source": [
    "##special for windows \n",
    "durations = linspace (50, 250, 50)\n",
    "phis = linspace (0.025, 0.035, 200)\n",
    "size = len(phis)\n",
    "args = []\n",
    "for ind, phi in enumerate (phis):\n",
    "    dict_arg = {'chain' : chain, 'params' : params, 'durations' : durations, 'phi_offset' : phi}\n",
    "    args.append(dict_arg)\n",
    "    \n",
    "if __name__=='__main__':\n",
    "    with Pool(4) as p:\n",
    "        populations = p.map(vacuum_rabi_populations_one_phi_windows, tqdm(args))"
   ]
  },
  {
   "cell_type": "code",
   "execution_count": null,
   "id": "91dde6c7",
   "metadata": {
    "hidden": true
   },
   "outputs": [],
   "source": [
    "figure()\n",
    "pcolormesh(durations, phis, populations)\n",
    "colorbar()\n",
    "#savefig('01.12.2021_vacuum_rabi_4q.png')"
   ]
  },
  {
   "cell_type": "markdown",
   "id": "375a8983",
   "metadata": {
    "hidden": true
   },
   "source": [
    "## Iswap Gate"
   ]
  },
  {
   "cell_type": "markdown",
   "id": "4fdc4d5f",
   "metadata": {
    "hidden": true
   },
   "source": [
    "Пример эволюции кубитов при проведении гейта i-swap, первый кубит изначально переводится в состояние на экваторе сферы блоха, \n",
    "далее первый и второй кубиты переводятся в резонанс, после этого проводится фазовая коррекция с помощью Z-гейта.  "
   ]
  },
  {
   "cell_type": "code",
   "execution_count": null,
   "id": "0ccc76fd",
   "metadata": {
    "hidden": true
   },
   "outputs": [],
   "source": [
    "rho0 = [ket2dm(basis(3,0)),ket2dm(basis(3,0)),ket2dm(basis(3,0)),ket2dm(basis(3,0))]\n",
    "rho0 = tensor(*rho0)\n",
    "rho0 = chain.truncate_to_low_population_subspace(rho0)\n",
    "chain.set_phi((params['phi_base_level'],params['phi2z_base_level'],0.6,0.7))\n",
    "chain.set_J([0.01/1.2**2 * 2 * np.pi/5, 0,0,0])\n",
    "signal = ZPulse(Ts,params)\n",
    "waveform1 = signal.waveform_iswap_zgate(1)\n",
    "waveform2 = signal.waveform_iswap_zgate(2)\n",
    "waveform3_const = ones_like(Ts)*0.6\n",
    "waveform4_const = ones_like(Ts)*0.7\n",
    "H_full = chain.build_H_full([waveform1, waveform2, waveform3_const, waveform4_const], \n",
    "                                 params, [[T._pi_duration/2,0],[0,0],[0,0],[0,0]] )\n",
    "\n",
    "result = mesolve(H_full, chain.rho0, Ts, \n",
    "                 c_ops = [],e_ops = chain.e_ops,\n",
    "                 progress_bar=True,options=Options(nsteps = 20000, store_states = True, max_step = 1e-1))\n",
    "\n",
    "chain.plot_chain_dynamic(result)"
   ]
  },
  {
   "cell_type": "markdown",
   "id": "fc63e072",
   "metadata": {
    "hidden": true
   },
   "source": [
    "## Спектр системы в зависимости от потока через первый кубит"
   ]
  },
  {
   "cell_type": "code",
   "execution_count": null,
   "id": "bffef36d",
   "metadata": {
    "hidden": true
   },
   "outputs": [],
   "source": [
    "levels = []\n",
    "\n",
    "phis = linspace(0, 1, 3000)\n",
    "for phi in tqdm(phis):\n",
    "    phi_arr = [0.25, .5 , .6, .7]\n",
    "    phi_arr[0] = phi\n",
    "    chain.set_phi(phi_arr)\n",
    "    waveform1_const = ones_like(Ts)*phi_arr[0]\n",
    "    waveform2_const = ones_like(Ts)*phi_arr[1]\n",
    "    waveform3_const = ones_like(Ts)*phi_arr[2]\n",
    "    waveform4_const = ones_like(Ts)*phi_arr[3]\n",
    "    H_full = chain.build_H_full([waveform1_const, waveform2_const, waveform3_const, waveform4_const], \n",
    "                                 params, [[0,0],[0,0],[0,0],[0,0]])\n",
    "    H_const = chain.truncate_to_low_population_subspace(chain._zero_op)\n",
    "    for i in range (12):\n",
    "        if (i%3 != 2):\n",
    "            H_const+=H_full[i][0]*H_full[i][1][0]\n",
    "    for i in range(13,19,1):\n",
    "        H_const+=H_full[i][0]\n",
    "    evals, evecs = H_const.eigenstates()\n",
    "    levels.append((evals-evals[0])/2/pi)"
   ]
  },
  {
   "cell_type": "code",
   "execution_count": null,
   "id": "cb5b4258",
   "metadata": {
    "hidden": true
   },
   "outputs": [],
   "source": [
    "figure()\n",
    "plot(phis, array(levels)[:, 1:6])\n",
    "plot(phis, array(levels)[:, 6:21]/2, \"--\")"
   ]
  },
  {
   "cell_type": "code",
   "execution_count": null,
   "id": "d6117670",
   "metadata": {
    "hidden": true
   },
   "outputs": [],
   "source": []
  }
 ],
 "metadata": {
  "kernelspec": {
   "display_name": "Python 3 (ipykernel)",
   "language": "python",
   "name": "python3"
  },
  "language_info": {
   "codemirror_mode": {
    "name": "ipython",
    "version": 3
   },
   "file_extension": ".py",
   "mimetype": "text/x-python",
   "name": "python",
   "nbconvert_exporter": "python",
   "pygments_lexer": "ipython3",
   "version": "3.7.12"
  },
  "toc": {
   "base_numbering": 1,
   "nav_menu": {},
   "number_sections": true,
   "sideBar": true,
   "skip_h1_title": false,
   "title_cell": "Table of Contents",
   "title_sidebar": "Contents",
   "toc_cell": false,
   "toc_position": {
    "height": "621.778px",
    "left": "23px",
    "top": "111.125px",
    "width": "492.331px"
   },
   "toc_section_display": true,
   "toc_window_display": true
  }
 },
 "nbformat": 4,
 "nbformat_minor": 5
}
