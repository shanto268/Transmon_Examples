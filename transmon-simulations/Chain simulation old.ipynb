{
 "cells": [
  {
   "cell_type": "code",
   "execution_count": 1,
   "metadata": {},
   "outputs": [],
   "source": [
    "import os\n",
    "os.environ[\"MKL_NUM_THREADS\"]=\"1\""
   ]
  },
  {
   "cell_type": "code",
   "execution_count": 2,
   "metadata": {},
   "outputs": [],
   "source": [
    "%load_ext snakeviz"
   ]
  },
  {
   "cell_type": "code",
   "execution_count": 3,
   "metadata": {},
   "outputs": [],
   "source": [
    "from transmon_chain.TransmonChain import *\n",
    "from transmon_chain.ChainTwoToneSimulation import *"
   ]
  },
  {
   "cell_type": "code",
   "execution_count": 4,
   "metadata": {},
   "outputs": [],
   "source": [
    "alphas = array([-0.171*2*np.pi, -0.166*2*np.pi,  -0.165*2*np.pi,  -0.161*2*np.pi, -0.175*2*np.pi])\n",
    "f_ge_maxs = array([27.24295125, 25.56626214, 26.79981289, 25.92929565, 26.91901604])\n",
    "ds = [0.71593126, 0.69069682, 0.70522616, 0.71491453, 0.69005626]\n",
    "periods = array([0.68739897, 0.70228482, 0.63067226, 0.6463941 , 3.68887343])\n",
    "sweet_spots = array([-0.02430313,  0.02307223,  0.00949314,  0.0420667 ,  0.217])\n",
    "\n",
    "# f_ge_maxs = array([2.72376083e+01,  2.55725642e+01,  2.67977853e+01,\n",
    "#         2.59307058e+01,  2.69234490e+01])\n",
    "J = array([0.25921578, 0.24364566, 0.24164441, 0.25127047, 0.24504424])\n",
    "\n",
    "all_intersection_exact = array([0.18664914179931644, 0.14669218977050785, \n",
    "                                0.1811727224951172, 0.18046699924316406,1.2175708937329102])\n",
    "\n",
    "\n",
    "Ecs = -alphas\n",
    "Ejs = (f_ge_maxs + Ecs)**2/8/Ecs"
   ]
  },
  {
   "cell_type": "code",
   "execution_count": 5,
   "metadata": {},
   "outputs": [
    {
     "name": "stdout",
     "output_type": "stream",
     "text": [
      "Setting all gamma_phi to be equal\n"
     ]
    }
   ],
   "source": [
    "chain = TransmonChain(length = 5,\n",
    "                      transmon_truncation=3,\n",
    "                      transmon_diagonalization_dimension=15)\n",
    "\n",
    "chain.set_Ec(Ecs)\n",
    "chain.set_Ej(Ejs)\n",
    "chain.set_asymmetry(ds)\n",
    "chain.set_J(J)\n",
    "phi_intersection = (all_intersection_exact - sweet_spots)/periods\n",
    "chain.set_phi(phi_intersection)\n",
    "chain.set_gamma_phi(1e-4)\n",
    "chain.set_gamma_rel([1e-2, 1e-4, 1e-4, 1e-4, 1e-2])\n",
    "chain.set_Omega([0, 0, 0, 0, 0.02*2*pi])\n",
    "\n",
    "chain.build_transmons()"
   ]
  },
  {
   "cell_type": "code",
   "execution_count": 6,
   "metadata": {},
   "outputs": [
    {
     "name": "stdout",
     "output_type": "stream",
     "text": [
      "Generating caches...OK\n",
      "Total 107 kets included\n"
     ]
    }
   ],
   "source": [
    "# periods = [1, 1e3, 1e3, 1e3, 1e3]\n",
    "# swss = [0.25, .25e3, .25e3, .25e3, .25e3]\n",
    "currs = linspace(0.22, .28, 12)\n",
    "freqs = linspace(3.8, 4, 200)\n",
    "\n",
    "CTTS = ChainTwoToneSimulation(chain, sweet_spots=sweet_spots, periods=periods,\n",
    "                              chain_hilbert_space_truncation=5, max_simultaneously_above_first_excited = 1,\n",
    "                              steady_kwargs = {\"use_rcm\":True})\n",
    "Omega_2s = logspace(-3, -1, 24*4)*2*pi\n",
    "Omegas = [[0,0,0,0,Omega_2] for Omega_2 in Omega_2s]\n",
    "CTTS.set_grid(freqs, Omegas = Omegas)\n",
    "\n",
    "CTTS.generate_caches()\n",
    "# chain.build_low_energy_kets(2)"
   ]
  },
  {
   "cell_type": "code",
   "execution_count": null,
   "metadata": {},
   "outputs": [
    {
     "data": {
      "application/vnd.jupyter.widget-view+json": {
       "model_id": "ff5a17c4bfdf4e2e9fbdd5d2c9d93cb0",
       "version_major": 2,
       "version_minor": 0
      },
      "text/plain": [
       "HBox(children=(HTML(value=''), FloatProgress(value=0.0, max=19200.0), HTML(value='')))"
      ]
     },
     "metadata": {},
     "output_type": "display_data"
    }
   ],
   "source": [
    "CTTS.run(14)"
   ]
  },
  {
   "cell_type": "code",
   "execution_count": null,
   "metadata": {
    "scrolled": false
   },
   "outputs": [],
   "source": [
    "data = []\n",
    "for row in CTTS.spec:\n",
    "    new_row = []\n",
    "    for state in row:\n",
    "        new_row.append(expect(tensor(sigmam(), identity(3))))\n",
    "    data.append(new_row)\n",
    "\n",
    "pcolormesh(currs, freqs, np.abs(array(data)).T)\n",
    "gcf().set_size_inches(10,7)"
   ]
  },
  {
   "cell_type": "code",
   "execution_count": null,
   "metadata": {
    "scrolled": false
   },
   "outputs": [],
   "source": [
    "data = []\n",
    "for row in CTTS.spec:\n",
    "    new_row = []\n",
    "    for state in row:\n",
    "        new_row.append(state[3,3])\n",
    "    data.append(new_row)\n",
    "\n",
    "pcolormesh(currs, freqs, np.abs(array(data)).T)\n",
    "gcf().set_size_inches(10,7)"
   ]
  },
  {
   "cell_type": "code",
   "execution_count": null,
   "metadata": {
    "scrolled": false
   },
   "outputs": [],
   "source": [
    "data = []\n",
    "for row in CTTS.spec:\n",
    "    new_row = []\n",
    "    for state in row:\n",
    "        new_row.append(state[3,3])\n",
    "    data.append(new_row)\n",
    "\n",
    "pcolormesh(currs, freqs, np.abs(array(data)).T)\n",
    "gcf().set_size_inches(10,7)"
   ]
  },
  {
   "cell_type": "code",
   "execution_count": null,
   "metadata": {},
   "outputs": [],
   "source": [
    "transmon_states = [list(range(chain._transmon_truncation)) for i in range(chain._length)]\n",
    "import itertools\n",
    "list(itertools.product(*transmon_states))"
   ]
  },
  {
   "cell_type": "code",
   "execution_count": null,
   "metadata": {},
   "outputs": [],
   "source": [
    "chain._low_energy_states"
   ]
  },
  {
   "cell_type": "code",
   "execution_count": null,
   "metadata": {
    "scrolled": false
   },
   "outputs": [],
   "source": [
    "data = []\n",
    "for row in CTTS.spec:\n",
    "    new_row = []\n",
    "    for state in row:\n",
    "        new_row.append(state[3,3])\n",
    "    data.append(new_row)\n",
    "\n",
    "pcolormesh(currs, freqs, np.abs(array(data)).T)\n",
    "gcf().set_size_inches(10,7)"
   ]
  },
  {
   "cell_type": "code",
   "execution_count": null,
   "metadata": {
    "scrolled": false
   },
   "outputs": [],
   "source": [
    "data = []\n",
    "for row in CTTS.spec:\n",
    "    new_row = []\n",
    "    for state in row:\n",
    "        new_row.append(state[3,3])\n",
    "    data.append(new_row)\n",
    "\n",
    "pcolormesh(currs, freqs, np.abs(array(data)).T)\n",
    "gcf().set_size_inches(10,7)"
   ]
  },
  {
   "cell_type": "code",
   "execution_count": null,
   "metadata": {
    "scrolled": false
   },
   "outputs": [],
   "source": [
    "data = []\n",
    "for row in CTTS.spec:\n",
    "    new_row = []\n",
    "    for state in row:\n",
    "        new_row.append(state[3,3])\n",
    "    data.append(new_row)\n",
    "\n",
    "pcolormesh(currs, freqs, np.abs(array(data)).T)\n",
    "gcf().set_size_inches(15,10)"
   ]
  },
  {
   "cell_type": "code",
   "execution_count": null,
   "metadata": {
    "scrolled": false
   },
   "outputs": [],
   "source": [
    "data = []\n",
    "for row in CTTS.spec:\n",
    "    new_row = []\n",
    "    for state in row:\n",
    "        new_row.append(expect(first_sm, state))\n",
    "    data.append(new_row)\n",
    "\n",
    "pcolormesh(currs, freqs, np.abs(array(data)).T)\n",
    "gcf().set_size_inches(15,10)"
   ]
  },
  {
   "cell_type": "code",
   "execution_count": null,
   "metadata": {
    "scrolled": false
   },
   "outputs": [],
   "source": [
    "data = []\n",
    "for row in CTTS.spec:\n",
    "    new_row = []\n",
    "    for state in row:\n",
    "        new_row.append(expect(first_sm, state))\n",
    "    data.append(new_row)\n",
    "\n",
    "pcolormesh(currs, freqs, np.abs(array(data)).T)\n",
    "gcf().set_size_inches(15,10)"
   ]
  },
  {
   "cell_type": "code",
   "execution_count": null,
   "metadata": {
    "scrolled": false
   },
   "outputs": [],
   "source": [
    "data = []\n",
    "for row in CTTS.spec:\n",
    "    new_row = []\n",
    "    for state in row:\n",
    "        new_row.append(expect(first_sm, state))\n",
    "    data.append(new_row)\n",
    "\n",
    "pcolormesh(currs, freqs, np.abs(array(data)).T)\n",
    "gcf().set_size_inches(15,10)\n",
    "colorbar()"
   ]
  },
  {
   "cell_type": "code",
   "execution_count": null,
   "metadata": {},
   "outputs": [],
   "source": [
    "imshow(real(CTTS.spec[250][125].full()))\n",
    "gcf().set_size_inches(10,10)\n",
    "colorbar()"
   ]
  },
  {
   "cell_type": "code",
   "execution_count": null,
   "metadata": {},
   "outputs": [],
   "source": [
    "import pickle"
   ]
  },
  {
   "cell_type": "code",
   "execution_count": null,
   "metadata": {},
   "outputs": [],
   "source": [
    "pwd"
   ]
  },
  {
   "cell_type": "code",
   "execution_count": null,
   "metadata": {},
   "outputs": [],
   "source": [
    "with open(\"huge_sim_5_excitations.pkl\", \"wb\") as f:\n",
    "    pickle.dump((chain, CTTS, Omega_2s, freqs), f)"
   ]
  },
  {
   "cell_type": "code",
   "execution_count": null,
   "metadata": {},
   "outputs": [],
   "source": [
    "CTTS._solver_error_coords"
   ]
  },
  {
   "cell_type": "code",
   "execution_count": null,
   "metadata": {},
   "outputs": [],
   "source": [
    "chain_op = chain._identity_array.copy()\n",
    "chain_op[0] = chain._transmons[0].lowering(0)\n",
    "first_sm = chain.truncate_to_low_population_subspace(tensor(*chain_op))\n",
    "\n",
    "chain_op = chain._identity_array.copy()\n",
    "chain_op[2] = chain._transmons[2].lowering(0)*chain._transmons[2].raising(0)\n",
    "third_sz = chain.truncate_to_low_population_subspace(tensor(*chain_op))"
   ]
  },
  {
   "cell_type": "code",
   "execution_count": null,
   "metadata": {},
   "outputs": [],
   "source": [
    "data = []\n",
    "for idx1, row in enumerate(CTTS.spec):\n",
    "    new_row = []\n",
    "    for idx2, state in enumerate(row):\n",
    "        new_row.append((sqrt(chain._gamma_rel[0])*expect(first_sm, state)/(Omega_2s[idx1]/2/sqrt(chain._gamma_rel[-1])))**2)\n",
    "    data.append(new_row)\n",
    "\n",
    "    \n",
    "fig, axes = subplots(1,2, figsize=(15,7.5), sharey=True, sharex=True)\n",
    "m1 = axes[0].pcolormesh(Omega_2s/2/pi, freqs,10*log10(np.abs(array(data)).T), cmap=\"RdBu_r\")\n",
    "m2 = axes[1].pcolormesh(Omega_2s/2/pi, freqs, np.angle(array(data)).T, cmap=\"RdBu_r\")\n",
    "plot(Omega_2s)\n",
    "xscale(\"log\")\n",
    "colorbar(m1, ax=axes[0])\n",
    "colorbar(m2, ax=axes[1])\n",
    "tight_layout()"
   ]
  },
  {
   "cell_type": "code",
   "execution_count": null,
   "metadata": {},
   "outputs": [],
   "source": [
    "data = []\n",
    "for idx1, row in tqdm_notebook(enumerate(CTTS.spec)):\n",
    "    new_row = []\n",
    "    for idx2, state in enumerate(row):\n",
    "        new_row.append((sqrt(chain._gamma_rel[0])*expect(first_sm, state)/(Omega_2s[idx1]/2/sqrt(chain._gamma_rel[-1]))))\n",
    "    data.append(new_row)\n",
    "\n",
    "    \n",
    "fig, axes = subplots(1,2, figsize=(15,7), sharey=True, sharex=True)\n",
    "\n",
    "step_x = Omega_2s[1]-Omega_2s[0]\n",
    "X = concatenate((Omega_2s-step_x/2, [Omega_2s[-1]+step_x/2]))\n",
    "\n",
    "step_y = freqs[1]-freqs[0]\n",
    "Y = concatenate((freqs-step_y/2, [freqs[-1]+step_y/2]))\n",
    "\n",
    "m1 = axes[0].pcolormesh(X, Y, (np.abs(array(data)).T), cmap=\"RdBu_r\")\n",
    "m2 = axes[1].pcolormesh(X, Y, abs(np.angle(array(data)).T), cmap=\"RdBu_r\")\n",
    "errors = array(CTTS._solver_error_coords)\n",
    "\n",
    "# axes[0].plot(Omega_2s[errors[:,0]], freqs[errors[:,1]], ls=\"\", marker=\"o\", markerfacecolor=\"none\", markersize=10)\n",
    "\n",
    "xscale(\"log\")\n",
    "colorbar(m1, ax=axes[0])\n",
    "colorbar(m2, ax=axes[1])\n",
    "tight_layout()"
   ]
  },
  {
   "cell_type": "code",
   "execution_count": null,
   "metadata": {},
   "outputs": [],
   "source": [
    "data = []\n",
    "for idx1, row in tqdm_notebook(enumerate(CTTS.spec)):\n",
    "    new_row = []\n",
    "    for idx2, state in enumerate(row):\n",
    "        new_row.append((sqrt(chain._gamma_rel[0])*expect(first_sm, state)/(Omega_2s[idx1]/2/sqrt(chain._gamma_rel[-1])))**2)\n",
    "    data.append(new_row)\n",
    "\n",
    "    \n",
    "fig, axes = subplots(1,2, figsize=(15,7.5), sharey=True, sharex=True)\n",
    "\n",
    "step_x = Omega_2s[1]-Omega_2s[0]\n",
    "X = concatenate((Omega_2s-step_x/2, [Omega_2s[-1]+step_x/2]))\n",
    "\n",
    "step_y = freqs[1]-freqs[0]\n",
    "Y = concatenate((freqs-step_y/2, [freqs[-1]+step_y/2]))\n",
    "\n",
    "m1 = axes[0].pcolormesh(X, Y, 10*log10(np.abs(array(data)).T), cmap=\"RdBu_r\")\n",
    "m2 = axes[1].pcolormesh(X, Y, np.angle(array(data)).T, cmap=\"RdBu_r\")\n",
    "errors = array(CTTS._solver_error_coords)\n",
    "\n",
    "axes[0].plot(Omega_2s[errors[:,0]], freqs[errors[:,1]], ls=\"\", marker=\"o\", markerfacecolor=\"none\", markersize=10)\n",
    "\n",
    "xscale(\"log\")\n",
    "colorbar(m1, ax=axes[0])\n",
    "colorbar(m2, ax=axes[1])\n",
    "tight_layout()"
   ]
  },
  {
   "cell_type": "code",
   "execution_count": null,
   "metadata": {},
   "outputs": [],
   "source": [
    "CTTS.spec"
   ]
  },
  {
   "cell_type": "code",
   "execution_count": null,
   "metadata": {},
   "outputs": [],
   "source": [
    "\n",
    "data = []\n",
    "for idx1, row in enumerate(CTTS.spec):\n",
    "    new_row = []\n",
    "    for idx2, state in enumerate(row):\n",
    "        new_row.append((sqrt(chain._gamma_rel[0])*expect(first_sm, state)/(Omega_2s[idx1]/2/sqrt(chain._gamma_rel[-1])))**2)\n",
    "    data.append(new_row)\n",
    "\n",
    "    \n",
    "fig, axes = subplots(1,2, figsize=(15,5), sharey=True, sharex=True)\n",
    "m1 = axes[0].pcolormesh(Omega_2s, freqs, 10*log10(np.abs(array(data)).T), cmap=\"RdBu_r\")\n",
    "m2 = axes[1].pcolormesh(Omega_2s, freqs, np.angle(array(data)).T, cmap=\"RdBu_r\")\n",
    "\n",
    "xscale(\"log\")\n",
    "colorbar(m1, ax=axes[0])\n",
    "colorbar(m2, ax=axes[1])"
   ]
  },
  {
   "cell_type": "code",
   "execution_count": null,
   "metadata": {},
   "outputs": [],
   "source": [
    "data = []\n",
    "for idx1, row in enumerate(CTTS.spec):\n",
    "    new_row = []\n",
    "    for idx2, state in enumerate(row):\n",
    "        new_row.append((sqrt(chain._gamma_rel[0])*expect(first_sm, state)/(Omega_2s[idx1]/2/sqrt(chain._gamma_rel[-1])))**2)\n",
    "    data.append(new_row)\n",
    "\n",
    "pcolormesh(Omega_2s, freqs, 10*log10(np.abs(array(data)).T))\n",
    "xscale(\"log\")\n",
    "colorbar()\n",
    "gcf().set_size_inches(15,10)"
   ]
  },
  {
   "cell_type": "code",
   "execution_count": null,
   "metadata": {},
   "outputs": [],
   "source": []
  },
  {
   "cell_type": "code",
   "execution_count": null,
   "metadata": {},
   "outputs": [],
   "source": []
  },
  {
   "cell_type": "code",
   "execution_count": null,
   "metadata": {},
   "outputs": [],
   "source": [
    "data = []\n",
    "for idx1, row in enumerate(CTTS.spec):\n",
    "    new_row = []\n",
    "    print(\"\\r\", idx1, end=\"\")\n",
    "    for idx2, state in enumerate(row):\n",
    "        new_row.append(expect(third_sz, state))\n",
    "    data.append(new_row)\n",
    "\n",
    "pcolormesh(Omega_2s, freqs, np.abs(array(data)).T)\n",
    "xscale(\"log\")\n",
    "colorbar()\n",
    "gcf().set_size_inches(15,10)"
   ]
  },
  {
   "cell_type": "code",
   "execution_count": null,
   "metadata": {},
   "outputs": [],
   "source": [
    "plot(abs(array(data)[0]))\n",
    "grid()\n",
    "gcf().set_size_inches(15,5)\n",
    "# xlim(100, 150)"
   ]
  },
  {
   "cell_type": "code",
   "execution_count": null,
   "metadata": {
    "scrolled": true
   },
   "outputs": [],
   "source": [
    "(list(enumerate(chain._low_energy_states)))"
   ]
  },
  {
   "cell_type": "code",
   "execution_count": null,
   "metadata": {},
   "outputs": [],
   "source": [
    "data = []\n",
    "state_id = 14\n",
    "for idx1, row in enumerate(CTTS.spec):\n",
    "    new_row = []\n",
    "    for idx2, state in enumerate(row):\n",
    "        new_row.append(state[state_id, state_id])\n",
    "    data.append(new_row)\n",
    "print(chain._low_energy_states[state_id])"
   ]
  },
  {
   "cell_type": "code",
   "execution_count": null,
   "metadata": {},
   "outputs": [],
   "source": [
    "pcolormesh(Omega_2s, freqs, (np.abs(array(data))).T)\n",
    "xscale(\"log\")\n",
    "colorbar()\n",
    "gcf().set_size_inches(15,10)"
   ]
  },
  {
   "cell_type": "code",
   "execution_count": null,
   "metadata": {},
   "outputs": [],
   "source": [
    "data = []\n",
    "for idx1, row in enumerate(CTTS.spec):\n",
    "    new_row = []\n",
    "    for idx2, state in enumerate(row):\n",
    "        new_row.append((sqrt(chain._gamma_rel[0])*expect(first_sm, state)/(Omega_2s[idx1]/2/sqrt(chain._gamma_rel[-1])))**2)\n",
    "    data.append(new_row)\n",
    "\n",
    "pcolormesh(Omega_2s, freqs, 10*log10(np.abs(array(data)).T))\n",
    "xscale(\"log\")\n",
    "colorbar()\n",
    "gcf().set_size_inches(15,10)"
   ]
  },
  {
   "cell_type": "code",
   "execution_count": null,
   "metadata": {},
   "outputs": [],
   "source": [
    "plot(np.real(data[0]), np.imag(data[0]))\n",
    "# xlim(200,600)\n",
    "gcf().set_size_inches(5,5)"
   ]
  },
  {
   "cell_type": "code",
   "execution_count": null,
   "metadata": {},
   "outputs": [],
   "source": []
  }
 ],
 "metadata": {
  "kernelspec": {
   "display_name": "Python 3",
   "language": "python",
   "name": "python3"
  },
  "language_info": {
   "codemirror_mode": {
    "name": "ipython",
    "version": 3
   },
   "file_extension": ".py",
   "mimetype": "text/x-python",
   "name": "python",
   "nbconvert_exporter": "python",
   "pygments_lexer": "ipython3",
   "version": "3.8.5"
  }
 },
 "nbformat": 4,
 "nbformat_minor": 2
}
