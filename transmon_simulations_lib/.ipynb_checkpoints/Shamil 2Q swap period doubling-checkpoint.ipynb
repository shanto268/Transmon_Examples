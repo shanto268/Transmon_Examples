{
 "cells": [
  {
   "cell_type": "code",
   "execution_count": 33,
   "metadata": {},
   "outputs": [
    {
     "name": "stdout",
     "output_type": "stream",
     "text": [
      "Populating the interactive namespace from numpy and matplotlib\n"
     ]
    }
   ],
   "source": [
    "%pylab --no-import-all notebook"
   ]
  },
  {
   "cell_type": "code",
   "execution_count": 34,
   "metadata": {},
   "outputs": [],
   "source": [
    "import qutip as qp\n",
    "import p_tqdm\n",
    "\n",
    "from importlib import reload\n",
    "import single_transmon.transmon\n",
    "reload(single_transmon.transmon)\n",
    "import single_transmon.tmon_eigensystem\n",
    "reload(single_transmon.tmon_eigensystem)\n",
    "from single_transmon.tmon_eigensystem import TmonEigensystem\n",
    "from single_transmon.tmon_eigensystem import my_transform"
   ]
  },
  {
   "cell_type": "code",
   "execution_count": 35,
   "metadata": {},
   "outputs": [],
   "source": [
    "Nc = 11\n",
    "N_trunc = 3\n",
    "Ec1 = 0.6\n",
    "Ec2 = 0.6\n",
    "Ecc = 10e-3 # coupling\n",
    "Ej1 = 28\n",
    "Ej2 = 28\n",
    "alpha = 0.2\n",
    "\n",
    "T1_1, T2_1 = 10e6, 5e6\n",
    "T1_2, T2_2 = 10e6, 5e6"
   ]
  },
  {
   "cell_type": "code",
   "execution_count": 39,
   "metadata": {},
   "outputs": [
    {
     "ename": "UnboundLocalError",
     "evalue": "local variable 'h_op' referenced before assignment",
     "output_type": "error",
     "traceback": [
      "\u001b[1;31m---------------------------------------------------------------------------\u001b[0m",
      "\u001b[1;31mUnboundLocalError\u001b[0m                         Traceback (most recent call last)",
      "\u001b[1;32m<ipython-input-39-001fd05981d2>\u001b[0m in \u001b[0;36m<module>\u001b[1;34m()\u001b[0m\n\u001b[0;32m     31\u001b[0m \u001b[1;32mimport\u001b[0m \u001b[0mtqdm\u001b[0m\u001b[1;33m\u001b[0m\u001b[1;33m\u001b[0m\u001b[0m\n\u001b[0;32m     32\u001b[0m \u001b[1;33m\u001b[0m\u001b[0m\n\u001b[1;32m---> 33\u001b[1;33m \u001b[0mtmon_es\u001b[0m \u001b[1;33m=\u001b[0m \u001b[0mcache_generator\u001b[0m\u001b[1;33m(\u001b[0m\u001b[0mEc1\u001b[0m\u001b[1;33m,\u001b[0m \u001b[0mEj1\u001b[0m\u001b[1;33m,\u001b[0m \u001b[0malpha\u001b[0m\u001b[1;33m,\u001b[0m \u001b[1;36m0\u001b[0m\u001b[1;33m)\u001b[0m\u001b[1;33m\u001b[0m\u001b[1;33m\u001b[0m\u001b[0m\n\u001b[0m",
      "\u001b[1;32m<ipython-input-39-001fd05981d2>\u001b[0m in \u001b[0;36mcache_generator\u001b[1;34m(Ec, Ej, alpha, phi)\u001b[0m\n\u001b[0;32m     20\u001b[0m \u001b[1;33m\u001b[0m\u001b[0m\n\u001b[0;32m     21\u001b[0m     \u001b[1;31m# TODO: parallelize\u001b[0m\u001b[1;33m\u001b[0m\u001b[1;33m\u001b[0m\u001b[1;33m\u001b[0m\u001b[0m\n\u001b[1;32m---> 22\u001b[1;33m     \u001b[0mh_op\u001b[0m \u001b[1;33m=\u001b[0m \u001b[0mmy_transform\u001b[0m\u001b[1;33m(\u001b[0m\u001b[0mh_op\u001b[0m\u001b[1;33m,\u001b[0m \u001b[0mevecs\u001b[0m\u001b[1;33m)\u001b[0m\u001b[1;33m\u001b[0m\u001b[1;33m\u001b[0m\u001b[0m\n\u001b[0m\u001b[0;32m     23\u001b[0m     \u001b[0mn_op\u001b[0m \u001b[1;33m=\u001b[0m \u001b[0mmy_transform\u001b[0m\u001b[1;33m(\u001b[0m\u001b[0mn_op\u001b[0m\u001b[1;33m,\u001b[0m \u001b[0mevecs\u001b[0m\u001b[1;33m)\u001b[0m\u001b[1;33m\u001b[0m\u001b[1;33m\u001b[0m\u001b[0m\n\u001b[0;32m     24\u001b[0m \u001b[1;33m\u001b[0m\u001b[0m\n",
      "\u001b[1;31mUnboundLocalError\u001b[0m: local variable 'h_op' referenced before assignment"
     ]
    }
   ],
   "source": [
    "Ec_cache = {}\n",
    "Ej_cache = {}\n",
    "\n",
    "def gen_h(Ec, Ej, alpha, phi, Nc):\n",
    "    if Ec in Ec_cache:\n",
    "        h_c = hc_cache[Ec]\n",
    "    else:\n",
    "        h_c = Ec * qp.charge(Nc)**2\n",
    "\n",
    "    if (Ej, alpha, phi) in Ec_cache:\n",
    "        h_j = hc_cache[(Ej, alpha, phi)]\n",
    "    else:\n",
    "        h_j = - Ej/  2*np.sqrt(1+alpha**2 + 2*alpha*np.cos(phi)) * qp.tunneling(2*Nc+1)\n",
    "    return h_c + h_j\n",
    "\n",
    "def cache_generator(Ec, Ej, alpha, phi, Nc):\n",
    "    h_full = gen_h(Ec, Ej, alpha, phi, Nc)\n",
    "    n_full = qp.charge(Nc)\n",
    "    evals, evecs = h_full.eigenstates(sort=\"low\", eigvals=3)\n",
    "    \n",
    "    # TODO: parallelize\n",
    "    h_op = my_transform(h_op, evecs)\n",
    "    n_op = my_transform(qp.charge(Nc, evecs)\n",
    "    \n",
    "    h_op = qp.Qobj(h_op - h_op[0,0]*np.eye(h_op.shape[0]))\n",
    "    n_op = qp.Qobj(n_op)\n",
    "    \n",
    "    return TmonEigensystem(Ec, Ej, alpha, h_op=h_op.tidyup(), n_op=n_op.tidyup(), n_cooper_pairs=Nc)\n",
    "\n",
    "import multiprocessing as mp\n",
    "import tqdm\n",
    "\n",
    "tmon_es = cache_generator(Ec1, Ej1, alpha, 0)"
   ]
  },
  {
   "cell_type": "code",
   "execution_count": 37,
   "metadata": {},
   "outputs": [],
   "source": [
    "h_charge_basis = gen_h(Ec1, Ej1, alpha, 0, Nc)\n",
    "evals, evecs = h_charge_basis.eigenstates(eigvals=N_trunc)\n",
    "h = my_transform(h_charge_basis, evecs)"
   ]
  },
  {
   "cell_type": "code",
   "execution_count": null,
   "metadata": {
    "scrolled": true
   },
   "outputs": [
    {
     "name": "stderr",
     "output_type": "stream",
     "text": [
      "100%|█████████████████████████████████████████████████████████████████████████████| 100/100 [00:00<00:00, 20010.04it/s]\n"
     ]
    }
   ],
   "source": [
    "# qubit 1 jumps from phi = 0 to phi = pi/2 and back\n",
    "# qubit 2 resides in phi = pi/2\n",
    "phi_list_cache = np.linspace(0, np.pi/2, int(1e2))\n",
    "\n",
    "if __name__ == '__main__':\n",
    "    mp.freeze_support()\n",
    "    args = []\n",
    "from single_transmon.transmon import foo\n",
    "def foo(args):\n",
    "    return args[\"phi_offset\"]\n",
    "for phi in phi_list_cache:\n",
    "    args.append({\"phi_offset\": phi})\n",
    "with mp.Pool(mp.cpu_count()-1) as p:\n",
    "    res = list(p.map(foo, tqdm.tqdm(args)))"
   ]
  },
  {
   "cell_type": "code",
   "execution_count": null,
   "metadata": {},
   "outputs": [],
   "source": []
  },
  {
   "cell_type": "code",
   "execution_count": null,
   "metadata": {},
   "outputs": [],
   "source": []
  },
  {
   "cell_type": "code",
   "execution_count": null,
   "metadata": {},
   "outputs": [],
   "source": []
  },
  {
   "cell_type": "code",
   "execution_count": null,
   "metadata": {},
   "outputs": [],
   "source": []
  },
  {
   "cell_type": "code",
   "execution_count": null,
   "metadata": {},
   "outputs": [],
   "source": []
  },
  {
   "cell_type": "code",
   "execution_count": null,
   "metadata": {},
   "outputs": [],
   "source": [
    "chain = TransmonChain(4, transmon_truncation = 3)\n",
    "chain.set_phi((params['phi_base_level'] + params['phi_offset'],params['phi2z_base_level'],0.6,0.7))\n",
    "chain._transmons = [tr1, tr2,tr3,tr4]\n",
    "chain.set_J([0.01/1.2**2 * 2 * np.pi/5, 0.01/1.2**2 * 2 * np.pi/5, 0.01/1.2**2 * 2 * np.pi/5, 0.01/1.2**2 * 2 * np.pi/5])\n",
    "chain.build_low_energy_kets(2,0)\n",
    "chain._Ts = Ts\n",
    "rho0 = [ket2dm(basis(3,0)),ket2dm(basis(3,0)),ket2dm(basis(3,0)),ket2dm(basis(3,0))]\n",
    "rho0 = tensor(*rho0)\n",
    "rho0 = chain.truncate_to_low_population_subspace(rho0)\n",
    "chain.rho0 = rho0\n",
    "sigma_z_chain = []\n",
    "sigma_x_chain = []\n",
    "sigma_y_chain = []\n",
    "for i in range (4): #TO DO - вынести в функцию класса\n",
    "    sigma_z = chain._transmons[i].sz()\n",
    "    sigma_x = chain._transmons[i].sx()\n",
    "    sigma_y = chain._transmons[i].sy()\n",
    "    oper_z = chain._identity_array.copy()\n",
    "    oper_z[i]=sigma_z\n",
    "    oper_x = chain._identity_array.copy()\n",
    "    oper_x[i]=sigma_x\n",
    "    oper_y = chain._identity_array.copy()\n",
    "    oper_y[i]=sigma_y\n",
    "    sigma_z_chain.append(chain.truncate_to_low_population_subspace(tensor(*oper_z)))\n",
    "    sigma_x_chain.append(chain.truncate_to_low_population_subspace(tensor(*oper_x)))\n",
    "    sigma_y_chain.append(chain.truncate_to_low_population_subspace(tensor(*oper_y)))\n",
    "\n",
    "chain.e_ops = sigma_z_chain + sigma_x_chain + sigma_y_chain\n"
   ]
  },
  {
   "cell_type": "markdown",
   "metadata": {},
   "source": [
    "# Свободная эволюция системы"
   ]
  },
  {
   "cell_type": "markdown",
   "metadata": {},
   "source": [
    "### 1й и 2й кубит в цепочке в резонансе, изначально первый кубит возбуждён"
   ]
  },
  {
   "cell_type": "code",
   "execution_count": null,
   "metadata": {},
   "outputs": [],
   "source": [
    "rho0 = [ket2dm(basis(3,0)),ket2dm(basis(3,0)),ket2dm(basis(3,0)),ket2dm(basis(3,0))]\n",
    "rho0[0] = ket2dm((basis(3,1) + basis(3,0))/sqrt(2)) # задаём начальное состояние 1го кубита\n",
    "rho0 = tensor(*rho0)\n",
    "rho0 = chain.truncate_to_low_population_subspace(rho0)\n",
    "waveform1_const = ones_like(Ts)*(params['phi_base_level']+params['phi_offset'])\n",
    "waveform2_const = ones_like(Ts)*(params['phi2z_base_level'])\n",
    "waveform3_const = ones_like(Ts)*0.6\n",
    "waveform4_const = ones_like(Ts)*0.7\n",
    "\n",
    "\n",
    "H_full_test = chain.build_H_full([waveform1_const, waveform2_const, waveform3_const, waveform4_const], \n",
    "                                 params, [[0,0],[0,0],[0,0],[0,0]] )\n",
    "\n",
    "result = mesolve(H_full_test, rho0, Ts, \n",
    "                 c_ops = [],e_ops = chain.e_ops,\n",
    "                 progress_bar=True,options=Options(nsteps = 20000, store_states = True, max_step = 1e-1))"
   ]
  },
  {
   "cell_type": "code",
   "execution_count": null,
   "metadata": {},
   "outputs": [],
   "source": [
    "chain.plot_chain_dynamic(result)"
   ]
  },
  {
   "cell_type": "markdown",
   "metadata": {},
   "source": [
    "## Эволюция под действием внешнего поля"
   ]
  },
  {
   "cell_type": "markdown",
   "metadata": {},
   "source": [
    "### Кубиты не в резонансе, поле действует на первый и третий кубиты"
   ]
  },
  {
   "cell_type": "code",
   "execution_count": null,
   "metadata": {},
   "outputs": [],
   "source": [
    "chain.set_phi((params['phi_base_level'],params['phi2z_base_level'],0.6,0.7))"
   ]
  },
  {
   "cell_type": "code",
   "execution_count": null,
   "metadata": {},
   "outputs": [],
   "source": [
    "waveform1_const = ones_like(Ts)*(params['phi_base_level'])\n",
    "waveform2_const = ones_like(Ts)*(params['phi2z_base_level'])\n",
    "waveform3_const = ones_like(Ts)*0.6\n",
    "waveform4_const = ones_like(Ts)*0.7"
   ]
  },
  {
   "cell_type": "code",
   "execution_count": null,
   "metadata": {},
   "outputs": [],
   "source": [
    "H_full = chain.build_H_full([waveform1_const, waveform2_const, waveform3_const, waveform4_const], \n",
    "                                 params, [[T._pi_duration,0],[0,0],[T._pi_duration/2,0],[0,0]] )\n",
    "\n",
    "result = mesolve(H_full, chain.rho0, Ts, \n",
    "                 c_ops = [],e_ops = chain.e_ops,\n",
    "                 progress_bar=True,options=Options(nsteps = 20000, store_states = True, max_step = 1e-1))\n",
    "\n",
    "chain.plot_chain_dynamic(result)"
   ]
  },
  {
   "cell_type": "markdown",
   "metadata": {},
   "source": [
    "### 1й, 2й и 3й кубиты в резонансе, поле действует на первый"
   ]
  },
  {
   "cell_type": "code",
   "execution_count": null,
   "metadata": {},
   "outputs": [],
   "source": [
    "waveform1_const = ones_like(Ts)*(params['phi_base_level'] + params['phi_offset'] )\n",
    "waveform2_const = ones_like(Ts)*(params['phi2z_base_level'])\n",
    "waveform3_const = ones_like(Ts)*(params['phi2z_base_level'])\n",
    "waveform4_const = ones_like(Ts)*0.7\n",
    "chain.set_phi((params['phi_base_level'] + params['phi_offset'],params['phi2z_base_level'],params['phi2z_base_level'],0.7))\n",
    "\n",
    "H_full = chain.build_H_full([waveform1_const, waveform2_const, waveform3_const, waveform4_const], \n",
    "                                 params, [[T._pi_duration,0],[0,0],[0,0],[0,0]] )\n",
    "\n",
    "result = mesolve(H_full, chain.rho0, Ts, \n",
    "                 c_ops = [],e_ops = chain.e_ops,\n",
    "                 progress_bar=True,options=Options(nsteps = 20000, store_states = True, max_step = 1e-1))\n",
    "\n",
    "chain.plot_chain_dynamic(result)"
   ]
  },
  {
   "cell_type": "markdown",
   "metadata": {},
   "source": [
    "## Vacuum rabi oscillations"
   ]
  },
  {
   "cell_type": "markdown",
   "metadata": {},
   "source": [
    "Приготавливаем первый кубит в возбуждённом состоянии, затем на какое-то время перестраиваем его по потоку. При попадании в резонанс со вторым кубитом наблюдаются осцилляции заселённости возбуждённого состояния 1-го и 2-го кубитов. Можно построить зависимость заселённости второго кубита от отстройки по потоку и времени взаимодействия. "
   ]
  },
  {
   "cell_type": "code",
   "execution_count": null,
   "metadata": {},
   "outputs": [],
   "source": [
    "signal = ZPulse(Ts,params)\n",
    "chain.set_phi((params['phi_base_level'],params['phi2z_base_level'],0.6,0.7))\n",
    "\n"
   ]
  },
  {
   "cell_type": "markdown",
   "metadata": {},
   "source": [
    "## Форма потокового импульса, подающегося на первый кубит (для одного значения параметров)"
   ]
  },
  {
   "cell_type": "code",
   "execution_count": null,
   "metadata": {
    "scrolled": true
   },
   "outputs": [],
   "source": [
    "figure()\n",
    "plot(Ts, vacuum_rabi_waveform(200, 0.03, Ts, params)[0])"
   ]
  },
  {
   "cell_type": "code",
   "execution_count": null,
   "metadata": {},
   "outputs": [],
   "source": [
    "##special for windows \n",
    "durations = linspace (50, 250, 50)\n",
    "phis = linspace (0.025, 0.035, 200)\n",
    "size = len(phis)\n",
    "args = []\n",
    "for ind, phi in enumerate (phis):\n",
    "    dict_arg = {'chain' : chain, 'params' : params, 'durations' : durations, 'phi_offset' : phi}\n",
    "    args.append(dict_arg)\n",
    "    \n",
    "if __name__=='__main__':\n",
    "    with Pool(4) as p:\n",
    "        populations = p.map(vacuum_rabi_populations_one_phi_windows, tqdm(args))"
   ]
  },
  {
   "cell_type": "code",
   "execution_count": null,
   "metadata": {},
   "outputs": [],
   "source": [
    "figure()\n",
    "pcolormesh(durations, phis, populations)\n",
    "colorbar()\n",
    "#savefig('01.12.2021_vacuum_rabi_4q.png')"
   ]
  },
  {
   "cell_type": "markdown",
   "metadata": {},
   "source": [
    "## Iswap Gate"
   ]
  },
  {
   "cell_type": "markdown",
   "metadata": {},
   "source": [
    "Пример эволюции кубитов при проведении гейта i-swap, первый кубит изначально переводится в состояние на экваторе сферы блоха, \n",
    "далее первый и второй кубиты переводятся в резонанс, после этого проводится фазовая коррекция с помощью Z-гейта.  "
   ]
  },
  {
   "cell_type": "code",
   "execution_count": null,
   "metadata": {},
   "outputs": [],
   "source": [
    "rho0 = [ket2dm(basis(3,0)),ket2dm(basis(3,0)),ket2dm(basis(3,0)),ket2dm(basis(3,0))]\n",
    "rho0 = tensor(*rho0)\n",
    "rho0 = chain.truncate_to_low_population_subspace(rho0)\n",
    "chain.set_phi((params['phi_base_level'],params['phi2z_base_level'],0.6,0.7))\n",
    "chain.set_J([0.01/1.2**2 * 2 * np.pi/5, 0,0,0])\n",
    "signal = ZPulse(Ts,params)\n",
    "waveform1 = signal.waveform_iswap_zgate(1)\n",
    "waveform2 = signal.waveform_iswap_zgate(2)\n",
    "waveform3_const = ones_like(Ts)*0.6\n",
    "waveform4_const = ones_like(Ts)*0.7\n",
    "H_full = chain.build_H_full([waveform1, waveform2, waveform3_const, waveform4_const], \n",
    "                                 params, [[T._pi_duration/2,0],[0,0],[0,0],[0,0]] )\n",
    "\n",
    "result = mesolve(H_full, chain.rho0, Ts, \n",
    "                 c_ops = [],e_ops = chain.e_ops,\n",
    "                 progress_bar=True,options=Options(nsteps = 20000, store_states = True, max_step = 1e-1))\n",
    "\n",
    "chain.plot_chain_dynamic(result)"
   ]
  },
  {
   "cell_type": "markdown",
   "metadata": {},
   "source": [
    "## Спектр системы в зависимости от потока через первый кубит"
   ]
  },
  {
   "cell_type": "code",
   "execution_count": null,
   "metadata": {},
   "outputs": [],
   "source": [
    "levels = []\n",
    "\n",
    "phis = linspace(0, 1, 3000)\n",
    "for phi in tqdm(phis):\n",
    "    phi_arr = [0.25, .5 , .6, .7]\n",
    "    phi_arr[0] = phi\n",
    "    chain.set_phi(phi_arr)\n",
    "    waveform1_const = ones_like(Ts)*phi_arr[0]\n",
    "    waveform2_const = ones_like(Ts)*phi_arr[1]\n",
    "    waveform3_const = ones_like(Ts)*phi_arr[2]\n",
    "    waveform4_const = ones_like(Ts)*phi_arr[3]\n",
    "    H_full = chain.build_H_full([waveform1_const, waveform2_const, waveform3_const, waveform4_const], \n",
    "                                 params, [[0,0],[0,0],[0,0],[0,0]])\n",
    "    H_const = chain.truncate_to_low_population_subspace(chain._zero_op)\n",
    "    for i in range (12):\n",
    "        if (i%3 != 2):\n",
    "            H_const+=H_full[i][0]*H_full[i][1][0]\n",
    "    for i in range(13,19,1):\n",
    "        H_const+=H_full[i][0]\n",
    "    evals, evecs = H_const.eigenstates()\n",
    "    levels.append((evals-evals[0])/2/pi)"
   ]
  },
  {
   "cell_type": "code",
   "execution_count": null,
   "metadata": {},
   "outputs": [],
   "source": [
    "figure()\n",
    "plot(phis, array(levels)[:, 1:6])\n",
    "plot(phis, array(levels)[:, 6:21]/2, \"--\")"
   ]
  },
  {
   "cell_type": "code",
   "execution_count": null,
   "metadata": {},
   "outputs": [],
   "source": []
  }
 ],
 "metadata": {
  "kernelspec": {
   "display_name": "Python 3",
   "language": "python",
   "name": "python3"
  },
  "language_info": {
   "codemirror_mode": {
    "name": "ipython",
    "version": 3
   },
   "file_extension": ".py",
   "mimetype": "text/x-python",
   "name": "python",
   "nbconvert_exporter": "python",
   "pygments_lexer": "ipython3",
   "version": "3.7.3"
  },
  "toc": {
   "base_numbering": 1,
   "nav_menu": {},
   "number_sections": true,
   "sideBar": true,
   "skip_h1_title": false,
   "title_cell": "Table of Contents",
   "title_sidebar": "Contents",
   "toc_cell": false,
   "toc_position": {
    "height": "621.778px",
    "left": "23px",
    "top": "111.125px",
    "width": "341.333px"
   },
   "toc_section_display": true,
   "toc_window_display": true
  }
 },
 "nbformat": 4,
 "nbformat_minor": 5
}
