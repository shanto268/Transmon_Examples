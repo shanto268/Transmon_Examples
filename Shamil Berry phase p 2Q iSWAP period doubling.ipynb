{
 "cells": [
  {
   "cell_type": "markdown",
   "metadata": {},
   "source": [
    "# Import"
   ]
  },
  {
   "cell_type": "code",
   "execution_count": 1,
   "metadata": {
    "ExecuteTime": {
     "end_time": "2022-05-17T18:35:37.906543Z",
     "start_time": "2022-05-17T18:35:37.577090Z"
    },
    "scrolled": true
   },
   "outputs": [
    {
     "name": "stdout",
     "output_type": "stream",
     "text": [
      "Populating the interactive namespace from numpy and matplotlib\n"
     ]
    }
   ],
   "source": [
    "%pylab --no-import-all notebook"
   ]
  },
  {
   "cell_type": "code",
   "execution_count": 2,
   "metadata": {
    "ExecuteTime": {
     "end_time": "2022-05-17T18:35:38.489145Z",
     "start_time": "2022-05-17T18:35:37.908539Z"
    }
   },
   "outputs": [],
   "source": [
    "import qutip as qp\n",
    "from importlib import reload\n",
    "import scipy"
   ]
  },
  {
   "cell_type": "markdown",
   "metadata": {},
   "source": [
    "# Global parameters"
   ]
  },
  {
   "cell_type": "code",
   "execution_count": 3,
   "metadata": {
    "ExecuteTime": {
     "end_time": "2022-05-17T18:35:38.704830Z",
     "start_time": "2022-05-17T18:35:38.698856Z"
    }
   },
   "outputs": [],
   "source": [
    "plt.rcParams['text.usetex'] = False  # True - for pretty graphs"
   ]
  },
  {
   "cell_type": "markdown",
   "metadata": {},
   "source": [
    "# Units convention\n",
    "Energy unit = $10^{-9} \\frac{\\text{EnergySI}}{h}$ GHz $\\newline$\n",
    "time = $10^{-9}$timeSI - [ns]"
   ]
  },
  {
   "cell_type": "markdown",
   "metadata": {},
   "source": [
    "# Single transmon"
   ]
  },
  {
   "cell_type": "code",
   "execution_count": 4,
   "metadata": {
    "ExecuteTime": {
     "end_time": "2022-05-17T18:35:39.317866Z",
     "start_time": "2022-05-17T18:35:39.295928Z"
    },
    "scrolled": true
   },
   "outputs": [],
   "source": [
    "import transmon_simulations_lib.single_transmon.transmon\n",
    "reload(transmon_simulations_lib.single_transmon.transmon)\n",
    "from transmon_simulations_lib.single_transmon.transmon import Transmon\n",
    "\n",
    "import transmon_simulations_lib.single_transmon.tmon_eigensystem\n",
    "reload(transmon_simulations_lib.single_transmon.tmon_eigensystem)\n",
    "from transmon_simulations_lib.single_transmon.tmon_eigensystem import TmonPars\n",
    "\n",
    "from transmon_simulations_lib.custom_ops import raising_op, lowering_op"
   ]
  },
  {
   "cell_type": "markdown",
   "metadata": {},
   "source": [
    "## Tmon & num parameters"
   ]
  },
  {
   "cell_type": "code",
   "execution_count": 5,
   "metadata": {
    "ExecuteTime": {
     "end_time": "2022-05-17T18:35:39.930887Z",
     "start_time": "2022-05-17T18:35:39.917625Z"
    }
   },
   "outputs": [],
   "source": [
    "Ec=0.6\n",
    "Ej=28\n",
    "alpha=0.2\n",
    "gamma_rel = 10e-6\n",
    "gamma_phi = 20e-6\n",
    "\n",
    "Nc = 10\n",
    "dims = 2*Nc + 1"
   ]
  },
  {
   "cell_type": "markdown",
   "metadata": {},
   "source": [
    "## Eigenvectors projection on self. Case I: without potential shift from flux"
   ]
  },
  {
   "cell_type": "markdown",
   "metadata": {
    "ExecuteTime": {
     "end_time": "2022-02-14T10:33:32.131019Z",
     "start_time": "2022-02-14T10:33:32.110535Z"
    }
   },
   "source": [
    "__**Case I**__ <br>\n",
    "*Used in current code*\n",
    "$$ \\phi_{ext} = 2 \\pi \\frac{\\Phi_{ext}}{\\Phi_0} $$\n",
    "where $\\Phi_0 = h/2e $ - flux quantum in SI\n",
    "$$ H = E_C n^2 - E_J sign\\left( cos{\\left( \\frac{\\phi_{ext}}{2}\\right)} \\right)\n",
    "\\sqrt{1 + \\alpha^2 + 2 \\alpha \\cos{\\left( \\frac{\\phi_{ext}}{2} \\right)}} \\cos{\\phi} $$\n",
    "where \n",
    "$$\\phi = \\frac{\\phi_1 + \\phi_2}{2} $$\n",
    "$\\phi_i$ - phase drop accross i-th JJ\n",
    "where $\\phi$ - is qubit branch flux canonical variable<br>\n",
    "$\\alpha = E_{J1}/E_{J2} < 1$ is the ratio between smaller JJ energy to larger."
   ]
  },
  {
   "cell_type": "code",
   "execution_count": null,
   "metadata": {
    "ExecuteTime": {
     "end_time": "2022-05-17T18:34:31.198999Z",
     "start_time": "2022-05-17T18:34:31.138188Z"
    }
   },
   "outputs": [],
   "source": [
    "phi_Ext_list = np.linspace(0, 8*np.pi, 101)\n",
    "pars_list = [TmonPars(Ec, Ej, alpha, phi, 0, gamma_rel, gamma_phi) for phi in phi_Ext_list]\n",
    "tr1 = Transmon(pars_list, Nc=Nc, res_trunc=4)\n",
    "sols1 = tr1.solve()\n",
    "res_list1 = np.array([sol.evecs for sol in sols1])\n",
    "n_entries = len(res_list1)\n",
    "fig, ax = plt.subplots(1,1)\n",
    "goodness1 = np.zeros(res_list1.shape, dtype=complex)\n",
    "\n",
    "for i in range(res_list1.shape[0]):\n",
    "    for j in range(res_list1.shape[1]):\n",
    "        goodness1[i,j] = np.abs((res_list1[i,j].dag() * res_list1[0,j])[0,0])\n",
    "\n",
    "for vec_idx, vec_goodness in enumerate(goodness1.T):\n",
    "    ax.plot(phi_Ext_list, np.abs(vec_goodness), label=r\"$\\left\\langle %d | %d(\\phi) \\right\\rangle  $\"%(vec_idx,vec_idx))\n",
    "ax.legend()\n",
    "ax.set_title(r\"for Nc = 15 or $dim(\\mathcal{H}) = 31 $   CASE 1\")"
   ]
  },
  {
   "cell_type": "markdown",
   "metadata": {},
   "source": [
    "## Eigenvectors projection on self. Case II: potential well shifts from flux"
   ]
  },
  {
   "cell_type": "markdown",
   "metadata": {
    "ExecuteTime": {
     "end_time": "2022-02-14T10:33:32.131019Z",
     "start_time": "2022-02-14T10:33:32.110535Z"
    }
   },
   "source": [
    "__**Case II**__\n",
    "*utilizing static quantization of transmon by Koch et.al https://doi.org/10.1103/PhysRevA.76.042319*\n",
    "$$ H = E_C n^2 - E_J sgn({cos{\\left( \\frac{\\phi_{ext}}{2} \\right)}}) \\sqrt{1 + \\alpha^2 + 2 \\alpha \\cos{\\left( \\frac{\\phi_{ext}}{2} \\right)}} \\cos{\\left( \\phi - \\phi_0 \\right) } $$\n",
    "where $\\phi_0 = \\arctan{\\left( d \\tan{\\left( \\frac{\\phi_{ext}}{2} \\right)} \\right)} $ and $d = \\frac{1-\\alpha}{1+\\alpha}$ <br> "
   ]
  },
  {
   "cell_type": "code",
   "execution_count": null,
   "metadata": {
    "ExecuteTime": {
     "end_time": "2022-05-17T18:34:31.200941Z",
     "start_time": "2022-05-17T18:34:31.136Z"
    }
   },
   "outputs": [],
   "source": [
    "pars_list = [TmonPars(Ec, Ej, alpha, 0, phi, gamma_rel, gamma_phi) for phi in phi_Ext_list]\n",
    "tr2 = Transmon(pars_list, Nc=Nc, res_trunc=4)\n",
    "sols2 = tr2.solve()\n",
    "res_list2 = np.array([sol.evecs for sol in sols2])\n",
    "n_entries = len(res_list2)\n",
    "fig, ax = plt.subplots(1,1)\n",
    "goodness2 = np.zeros(res_list2.shape, dtype=complex)\n",
    "\n",
    "for i in range(res_list2.shape[0]):\n",
    "    for j in range(res_list2.shape[1]):\n",
    "        goodness2[i,j] = np.abs((res_list2[i,j].dag() * res_list2[0,j])[0,0])\n",
    "\n",
    "for vec_idx, vec_goodness in enumerate(goodness2.T):\n",
    "    ax.plot(phi_Ext_list, np.abs(vec_goodness), label=r\"$\\left\\langle %d | %d(\\phi) \\right\\rangle  $\"%(vec_idx,vec_idx))\n",
    "ax.legend()\n",
    "ax.set_title(r\"for Nc = 15 or $dim(\\mathcal{H}) = 31 $   CASE 2\")"
   ]
  },
  {
   "cell_type": "markdown",
   "metadata": {},
   "source": [
    "## Case I and Case II E01 energy comparison"
   ]
  },
  {
   "cell_type": "code",
   "execution_count": null,
   "metadata": {
    "ExecuteTime": {
     "end_time": "2022-05-17T18:34:31.201938Z",
     "start_time": "2022-05-17T18:34:31.141Z"
    },
    "scrolled": true
   },
   "outputs": [],
   "source": [
    "# plt.rcParams['text.usetex'] = True\n",
    "E01_1 = np.array([sol.E01() for sol in sols1])\n",
    "E01_2 = np.array([sol.E01() for sol in sols2])\n",
    "fig, ax = plt.subplots(1,1)\n",
    "ax.plot(phi_Ext_list, np.abs(E01_1 - E01_2)/E01_1, label=\"rel diff\")\n",
    "ax.legend() "
   ]
  },
  {
   "cell_type": "markdown",
   "metadata": {},
   "source": [
    "## Eigenvectors projection on self. Case III: intermediate, irrotational gauge."
   ]
  },
  {
   "cell_type": "markdown",
   "metadata": {},
   "source": [
    "**Case III**\n",
    "*utilizing You, X.,et.al (Koch included) (2019). https://doi.org/10.1103/PhysRevB.99.174512*\n",
    "\n",
    "Written in branch variables *branch* fluxes (G. Burkard et. al 2004 https://journals.aps.org/prb/abstract/10.1103/PhysRevB.69.064503) instead of *node* fluxes (Devoret). Each branch is oriented and each loop is oriented as well. Their relative orientation is captured by *mesh matrix* $\\mathbf{R}$:\n",
    "$$ \\left( \\mathbf{R} \\right)_{i,j} = \\cases{\n",
    "1  \\;\\;\\;\\; \\Phi_j \\in L_i, \\text{cooriented branch and loop}\\\\\n",
    "-1 \\;\\;\\; \\Phi_j \\in L_i, \\text{contraoriented branch and loop}\\\\\n",
    "0 \\;\\;\\;\\; \\Phi_j \\notin L_i, \\text{loop does include branch}\\\\\n",
    "} $$"
   ]
  },
  {
   "cell_type": "markdown",
   "metadata": {},
   "source": [
    "R matrix connects branch fluxes and loops fluxes as follows:\n",
    "\n",
    "$$ \\mathbf{\\Phi_e}(t)_i = \\left(\\mathbf{R}\\right)_{i,j} \\; \\mathbf{\\Phi}(t)_j $$\n",
    "where $ \\mathbf{\\Phi_e}(t)_i  $ - flux through i-th loop (i goes from 1 to F - mesh number of a circuit).<br>\n",
    "Mesh - set of loops where each loop does not contain other loop<br>\n",
    "and $\\mathbf{\\Phi}(t)_j$ - branch flux of j-th branch\n",
    "\n",
    "Due to the fact that we have F contraints for branch fluxes generated by $\\mathbf{R}$ above we will declare new (N-F) flux variables  $\\tilde{\\mathbf{\\Phi}}$:\n",
    "$$ \\tilde{\\mathbf{\\Phi}} = \\mathbf{M} \\mathbf{\\Phi} $$\n",
    "where $\\mathbf{M}$ - is (N-F)xN matrix that is to be found to eliminate $\\dot{\\Phi}_e(t)_i$ resulting Hamiltonian."
   ]
  },
  {
   "cell_type": "markdown",
   "metadata": {},
   "source": [
    "Declaring new vector\n",
    "$$\\tilde{\\mathbf{\\Phi}}_{+} = \\left( \n",
    "\\matrix{\n",
    "\\tilde{\\mathbf{\\Phi}} \\\\\n",
    "\\mathbf{\\Phi}_e\n",
    "}\n",
    "\\right)\n",
    "$$"
   ]
  },
  {
   "cell_type": "markdown",
   "metadata": {},
   "source": [
    "and the new matrix\n",
    "$$\\mathbf{M}_{+} = \\left( \n",
    "\\matrix{\n",
    "\\mathbf{M} \\\\\n",
    "\\mathbf{R}\n",
    "}\n",
    "\\right)\n",
    "$$\n",
    "\n",
    "we can write down both degrees of freedom and constraints as a single equation:\n",
    "\n",
    "$$\\tilde{\\mathbf{\\Phi}}_{+} = \\mathbf{M}_{+} \\mathbf{\\Phi} $$"
   ]
  },
  {
   "cell_type": "markdown",
   "metadata": {},
   "source": [
    "kinetic energy in branch represention (N branches):\n",
    "$$ \\mathcal{L}_k = \\frac{1}{2}\\dot{\\mathbf{\\Phi}}^T \\mathbf{C} \\dot{\\mathbf{\\Phi}} $$\n",
    "where $ \\mathbf{C} = diag\\left(C_1, C_2, ..., C_N\\right) $ matrix of branches capacitances."
   ]
  },
  {
   "cell_type": "markdown",
   "metadata": {},
   "source": [
    "Moving towards canonical variables and external fluxes:\n",
    "$$\\dot{\\mathbf{\\Phi}} = \\mathbf{M}_{+}^{-1} \\dot{\\tilde{\\mathbf{\\Phi}}}_{+} $$\n",
    "<br>\n",
    "$$ \\mathcal{L}_{\\text{K}} = \\frac{1}{2}\\dot{\\tilde{\\mathbf{\\Phi}}}_{+}^T \\mathbf{C}_{\\text{eff}} \\dot{\\tilde{\\mathbf{\\Phi}}}_{+} $$\n",
    "where \n",
    "$$\\mathbf{C}_{\\text{eff}} = (\\mathbf{M}_{+}^{-1})^T \\mathbf{C} \\left(\\mathbf{M}_{+}^{-1}\\right) $$"
   ]
  },
  {
   "cell_type": "markdown",
   "metadata": {},
   "source": [
    "Since we wish to decouple $\\dot{\\tilde{\\mathbf{\\Phi}}}$ and $\\dot{\\mathbf{\\Phi}}_e$\n",
    "than $\\mathbf{C}_{\\text{eff}}$ has to be block-diagonal with blocks (N-F)x(N-F) and FxF.\n",
    "Former corresponding to kinetic energy based on new canonical variables $\\dot{\\tilde{\\mathbf{\\Phi}}}$ and the latter will be excluded from Lagrangian as a total derivative of time only dependent function.<br>\n",
    "Block-diagonal requirement is also applies to the inverse of $\\mathbf{C}_{\\text{eff}}$:"
   ]
  },
  {
   "cell_type": "markdown",
   "metadata": {},
   "source": [
    "$$ \\mathbf{C}_{\\text{eff}}^{-1} =  (\\mathbf{M}_{+}) \\mathbf{C}^{-1} \\left(\\mathbf{M}_{+} \\right)^T = \\left( \n",
    "\\matrix{\n",
    "\\mathbf{M} \\\\\n",
    "\\mathbf{R}\n",
    "}\n",
    "\\right)\n",
    "\\mathbf{C}^{-1}\n",
    "\\left(\n",
    "\\matrix{\n",
    "\\mathbf{M}^T & \\mathbf{R}^T\n",
    "}\n",
    "\\right) = \n",
    "\\left(\n",
    "\\matrix{\n",
    "\\mathbf{M}\\mathbf{C}^{-1}\\mathbf{M} & \\mathbf{M}\\mathbf{C}^{-1}\\mathbf{R}^T \\\\\n",
    "\\mathbf{R}\\mathbf{C}^{-1}\\mathbf{M} & \\mathbf{R}\\mathbf{C}^{-1}\\mathbf{R}\n",
    "}\n",
    "\\right)\n",
    "$$"
   ]
  },
  {
   "cell_type": "markdown",
   "metadata": {},
   "source": [
    "Hence we have to find atleast one matrix that satisfy:\n",
    "$$\\mathbf{R}\\mathbf{C}^{-1}\\mathbf{M}^T = 0$$\n",
    "\n",
    "Speaking in terms of linear argebra: rows of $\\mathbf{M}$ is the null space of $\\mathbf{R}\\mathbf{C}^{-1}$ operator."
   ]
  },
  {
   "cell_type": "markdown",
   "metadata": {},
   "source": [
    "Consider the following schematics where leftmost JJ is substituted with simple capacitor C"
   ]
  },
  {
   "cell_type": "markdown",
   "metadata": {
    "ExecuteTime": {
     "end_time": "2022-02-14T12:12:29.738722Z",
     "start_time": "2022-02-14T12:12:29.705804Z"
    }
   },
   "source": [
    "![title](Case_3.png)"
   ]
  },
  {
   "cell_type": "markdown",
   "metadata": {},
   "source": [
    "$$\\mathbf{R} = \n",
    "\\left(\n",
    "\\matrix{\n",
    "1 & -1 & 0 \\\\\n",
    "0 & 1 & -1\n",
    "}\n",
    "\\right)\n",
    "$$\n",
    "$$\\mathbf{C}^{-1} = diag\\left( C_1^{-1},C_2^{-1},C_{3}^{-1} \\right)$$\n",
    "$$ \\mathbf{R} \\mathbf{C}^{-1} = \n",
    "\\left(\n",
    "\\matrix{\n",
    "C_1^{-1} & -C_2^{-1} & 0 \\\\\n",
    "0 & C_2^{-1} & -C_3^{-1}\n",
    "}\n",
    "\\right)\n",
    "$$\n",
    "<br>\n",
    "from here we can deduce that (properly normalized by $C_{\\Sigma} = \\Sigma C_i$:\n",
    "$$ M = \\frac{1}{C_{\\Sigma}}\n",
    "\\left(\n",
    "\\matrix{C_1 & C_2 & C_3 } \n",
    "\\right) $$\n",
    "<br>\n",
    "is the solution that satisfies\n",
    "$$\\mathbf{R}\\mathbf{C}^{-1}\\mathbf{M}^T = 0$$"
   ]
  },
  {
   "cell_type": "markdown",
   "metadata": {},
   "source": [
    "Finally we have only one \"free\" branch variable: <br>\n",
    "$ \\tilde{\\phi} = \\mathbf{M} \\mathbf{\\Phi} = \\sum_{j=1}^{N_{br}=3} \\frac{C_j}{C_{\\Sigma}}\\Phi_j$\n",
    "\n",
    "<br>\n",
    "Finding equation for $\\mathbf{C}_{\\text{eff}}$:"
   ]
  },
  {
   "cell_type": "markdown",
   "metadata": {},
   "source": [
    "$$ \\mathbf{M}_{+} = \n",
    "\\left(\n",
    "\\matrix{\n",
    "\\mathbf{M} \\\\\n",
    "\\mathbf{R}\n",
    "}\n",
    "\\right) =\n",
    "\\left(\n",
    "\\matrix{\n",
    "\\frac{C_1}{C_{\\Sigma}} & \\frac{C_2}{C_{\\Sigma}} & \\frac{C_3}{C_{\\Sigma}}\\\\\n",
    "1 & -1 & 0 \\\\\n",
    "0 & 1 & -1\n",
    "}\n",
    "\\right)\n",
    "$$"
   ]
  },
  {
   "cell_type": "markdown",
   "metadata": {},
   "source": [
    "$$ (\\mathbf{M}_{+})^{-1} = \n",
    "\\left(\n",
    "\\matrix{\n",
    "1 & \\frac{C_2 + C_3}{C_{\\Sigma}} & \\frac{C_3}{C_{\\Sigma}} \\\\\n",
    "1 & -\\frac{C_1}{C_{\\Sigma}} & \\frac{C_3}{C_{\\Sigma}} \\\\\n",
    "1 & -\\frac{C_1}{C_{\\Sigma}} & -\\frac{C_1 + C_2}{C_{\\Sigma}}\n",
    "}\n",
    "\\right) $$"
   ]
  },
  {
   "cell_type": "markdown",
   "metadata": {},
   "source": [
    "<br>\n",
    "And finally\n",
    "$$\\mathbf{C}_{\\text{eff}} = \n",
    "\\left(\n",
    "\\matrix{\n",
    "C_{\\Sigma} & 0 & 0 \\\\\n",
    "0 & \\frac{C_1(C_2 + C_3)}{C_{\\Sigma}} & \\frac{C_1 C_3}{C_{\\Sigma}} \\\\\n",
    "0 & \\frac{C_1 C_3}{C_{\\Sigma}} &\\frac{(С_1+С_2)C_3}{C_{\\Sigma}}\n",
    "}\n",
    "\\right)\n",
    "$$"
   ]
  },
  {
   "cell_type": "markdown",
   "metadata": {},
   "source": [
    "$$\\mathbf{\\Phi} = \\mathbf{M}_{+}^{-1} \\tilde{\\mathbf{\\Phi}}_{+} $$\n",
    "or"
   ]
  },
  {
   "cell_type": "markdown",
   "metadata": {},
   "source": [
    "$$ \\left(\n",
    "\\matrix{ \n",
    "\\Phi_1 \\\\\n",
    "\\Phi_2 \\\\\n",
    "\\Phi_3\n",
    "}\n",
    "\\right) = \n",
    "(\\mathbf{M}_{+})^{-1} \n",
    "\\left(\\matrix{ \n",
    "\\tilde{\\phi} \\\\\n",
    "\\Phi_e^1 \\\\\n",
    "\\Phi_e^2\n",
    "}\n",
    "\\right) $$"
   ]
  },
  {
   "cell_type": "markdown",
   "metadata": {},
   "source": [
    "Total Hamiltonian in this case will be\n",
    "\n",
    "$$ H =  E_C n^2 - \n",
    "E_{J2}\\cos{\\left( \\tilde{\\phi} -\\frac{C_1}{C_{\\Sigma}}\\Phi_e^{1} + \\frac{C_3}{C_{\\Sigma}}\\Phi_e^{2} \\right)} \n",
    "- E_{J3}\\cos{\\left(\\tilde{\\phi}  -\\frac{C_1}{C_{\\Sigma}}\\Phi_e^{1} -\\frac{C_1 + C_2}{C_{\\Sigma}}\\Phi_e^{2}\\right)} $$\n",
    "where $E_C = 2e^2/C_{\\Sigma}$"
   ]
  },
  {
   "cell_type": "markdown",
   "metadata": {},
   "source": [
    "or in notation of Tmon:\n",
    "$$ H =  E_C n^2 - \n",
    "E_{J1}\\cos{\\left( \\tilde{\\phi} -\\frac{C_{sh}}{C_{\\Sigma}}\\Phi_e^{1} + \\frac{C_{J2}}{C_{\\Sigma}}\\Phi_e^{2} \\right)} \n",
    "- E_{J2}\\cos{\\left(\\tilde{\\phi}  -\\frac{C_{sh}}{C_{\\Sigma}}\\Phi_e^{1} -\\frac{C_{sh} + C_{J1}}{C_{\\Sigma}}\\Phi_e^{2}\\right)} $$"
   ]
  },
  {
   "cell_type": "markdown",
   "metadata": {},
   "source": [
    "Firstly, repeating result for Case I and Case II since parameters generation code is slightly different."
   ]
  },
  {
   "cell_type": "markdown",
   "metadata": {},
   "source": [
    "### Repeat Case I and Case II"
   ]
  },
  {
   "cell_type": "code",
   "execution_count": null,
   "metadata": {
    "ExecuteTime": {
     "end_time": "2022-05-17T18:34:31.202933Z",
     "start_time": "2022-05-17T18:34:31.157Z"
    }
   },
   "outputs": [],
   "source": [
    "pars_list = []\n",
    "for phi_Ext in phi_Ext_list:\n",
    "    phi_Ext1 = phi_Ext\n",
    "    phi_Ext2 = 0\n",
    "    pars_list.append(\n",
    "        TmonPars(Ec, Ej, alpha, phi_Ext1, phi_Ext2, gamma_rel, gamma_phi)\n",
    "    )\n",
    "tr31 = Transmon(pars_list, Nc=Nc, res_trunc=4)\n",
    "sols31 = tr31.solve()\n",
    "res_list3 = np.array([sol.evecs for sol in sols31])\n",
    "n_entries = len(res_list3)\n",
    "fig, ax = plt.subplots(1,1)\n",
    "goodness3 = np.zeros(res_list3.shape, dtype=complex)\n",
    "\n",
    "for i in range(res_list3.shape[0]):\n",
    "    for j in range(res_list3.shape[1]):\n",
    "        goodness3[i,j] = np.abs((res_list3[i,j].dag() * res_list3[0,j])[0,0])\n",
    "\n",
    "for vec_idx, vec_goodness in enumerate(goodness3.T):\n",
    "    ax.plot(phi_Ext_list, np.abs(vec_goodness), label=r\"$\\left\\langle %d | %d(\\phi) \\right\\rangle  $\"%(vec_idx,vec_idx))\n",
    "ax.legend()\n",
    "ax.set_title(r\"for Nc = 15 or $dim(\\mathcal{H}) = 31 $   CASE 3.1\")\n",
    "ax.grid()"
   ]
  },
  {
   "cell_type": "code",
   "execution_count": null,
   "metadata": {
    "ExecuteTime": {
     "end_time": "2022-05-17T18:34:31.203932Z",
     "start_time": "2022-05-17T18:34:31.161Z"
    }
   },
   "outputs": [],
   "source": [
    "pars_list = []\n",
    "for phi_Ext in phi_Ext_list:\n",
    "    phi_Ext1 = 0\n",
    "    phi_Ext2 = phi_Ext\n",
    "    pars_list.append(\n",
    "        TmonPars(Ec, Ej, alpha, phi_Ext1, phi_Ext2, gamma_rel, gamma_phi)\n",
    "    )\n",
    "tr32 = Transmon(pars_list, Nc=Nc, res_trunc=4)\n",
    "sols32 = tr32.solve()\n",
    "res_list3 = np.array([sol.evecs for sol in sols32])\n",
    "n_entries = len(res_list3)\n",
    "fig, ax = plt.subplots(1,1)\n",
    "goodness3 = np.zeros(res_list3.shape, dtype=complex)\n",
    "\n",
    "for i in range(res_list3.shape[0]):\n",
    "    for j in range(res_list3.shape[1]):\n",
    "        goodness3[i,j] = np.abs((res_list3[i,j].dag() * res_list3[0,j])[0,0])\n",
    "\n",
    "for vec_idx, vec_goodness in enumerate(goodness3.T):\n",
    "    ax.plot(phi_Ext_list, np.abs(vec_goodness), label=r\"$\\left\\langle %d | %d(\\phi) \\right\\rangle  $\"%(vec_idx,vec_idx))\n",
    "ax.legend()\n",
    "ax.set_title(r\"for Nc = 15 or $dim(\\mathcal{H}) = 31 $   CASE 3.2\")\n",
    "ax.grid()"
   ]
  },
  {
   "cell_type": "markdown",
   "metadata": {},
   "source": [
    "Next calculations are based on parameters of the real design\n",
    "$$ C_{sh} \\approx 130 \\; \\text{fF} $$\n",
    "$$ C_{J1} \\approx 0.5  \\; \\text{fF} \\ll C_{sh} $$\n",
    "$$ C_{J2} \\approx \\alpha C_{J1} \\ll C_{sh} $$"
   ]
  },
  {
   "cell_type": "markdown",
   "metadata": {},
   "source": [
    "%%latex\n",
    "yet this guess is barely close to reality due to the fact that we have distributed capacitance. \n",
    "Distributed capacitance case is examined in \n",
    "\\cite{Riwar2021}"
   ]
  },
  {
   "cell_type": "markdown",
   "metadata": {},
   "source": [
    "### Phi_1 = Phi_2"
   ]
  },
  {
   "cell_type": "code",
   "execution_count": null,
   "metadata": {
    "ExecuteTime": {
     "end_time": "2022-05-17T18:34:31.204929Z",
     "start_time": "2022-05-17T18:34:31.167Z"
    }
   },
   "outputs": [],
   "source": [
    "Csh = 130e-15\n",
    "CJ1 = 0.5e-15\n",
    "CJ2 = CJ1* alpha\n",
    "Csigma = Csh + CJ1 + CJ2\n",
    "pars_list = []\n",
    "for phi_Ext in phi_Ext_list:\n",
    "    phi_Ext1 = phi_Ext\n",
    "    phi_Ext2 = phi_Ext\n",
    "    # `mul` part is based on equation (2) from http://arxiv.org/abs/2103.03577\n",
    "    phi_Ext1 = (Csh/Csigma*phi_Ext1 - CJ2/Csigma*phi_Ext2)\n",
    "    phi_Ext2 = (Csh/Csigma*phi_Ext1 - (CJ1 + Csh)/Csigma*phi_Ext2)\n",
    "    pars_list.append(\n",
    "        TmonPars(Ec, Ej, alpha, phi_Ext1, phi_Ext2, gamma_rel, gamma_phi)\n",
    "    )\n",
    "tr3 = Transmon(pars_list, Nc=Nc, res_trunc=4)\n",
    "sols3 = tr3.solve()\n",
    "res_list3 = np.array([sol.evecs for sol in sols3])\n",
    "n_entries = len(res_list3)\n",
    "fig, ax = plt.subplots(1,1)\n",
    "goodness3 = np.zeros(res_list3.shape, dtype=complex)\n",
    "\n",
    "for i in range(res_list3.shape[0]):\n",
    "    for j in range(res_list3.shape[1]):\n",
    "        goodness3[i,j] = np.abs((res_list3[i,j].dag() * res_list3[0,j])[0,0])\n",
    "\n",
    "for vec_idx, vec_goodness in enumerate(goodness3.T):\n",
    "    ax.plot(phi_Ext_list, np.abs(vec_goodness), label=r\"$\\left\\langle %d | %d(\\phi) \\right\\rangle  $\"%(vec_idx,vec_idx))\n",
    "ax.legend()\n",
    "ax.set_title(r\"for Nc = 15 or $dim(\\mathcal{H}) = 31 $   CASE 3\")\n",
    "ax.grid()"
   ]
  },
  {
   "cell_type": "markdown",
   "metadata": {},
   "source": [
    "### Summary"
   ]
  },
  {
   "cell_type": "markdown",
   "metadata": {},
   "source": [
    "solutions"
   ]
  },
  {
   "cell_type": "markdown",
   "metadata": {},
   "source": [
    "Case I"
   ]
  },
  {
   "cell_type": "code",
   "execution_count": null,
   "metadata": {
    "ExecuteTime": {
     "end_time": "2022-05-17T18:34:31.205927Z",
     "start_time": "2022-05-17T18:34:31.172Z"
    }
   },
   "outputs": [],
   "source": [
    "phi_Ext_list = np.linspace(0, 8*np.pi, 401)\n",
    "pars_list = [TmonPars(Ec, Ej, alpha, phi, 0, gamma_rel, gamma_phi) for phi in phi_Ext_list]\n",
    "tr1 = Transmon(pars_list, Nc=Nc, res_trunc=4)\n",
    "sols1 = tr1.solve()"
   ]
  },
  {
   "cell_type": "markdown",
   "metadata": {},
   "source": [
    "Case II"
   ]
  },
  {
   "cell_type": "code",
   "execution_count": null,
   "metadata": {
    "ExecuteTime": {
     "end_time": "2022-05-17T18:34:31.207922Z",
     "start_time": "2022-05-17T18:34:31.176Z"
    }
   },
   "outputs": [],
   "source": [
    "pars_list = [TmonPars(Ec, Ej, alpha, 0, phi, gamma_rel, gamma_phi) for phi in phi_Ext_list]\n",
    "tr2 = Transmon(pars_list, Nc=Nc, res_trunc=4)\n",
    "sols2 = tr2.solve()"
   ]
  },
  {
   "cell_type": "markdown",
   "metadata": {},
   "source": [
    "Case III"
   ]
  },
  {
   "cell_type": "code",
   "execution_count": null,
   "metadata": {
    "ExecuteTime": {
     "end_time": "2022-05-17T18:34:31.209017Z",
     "start_time": "2022-05-17T18:34:31.181Z"
    }
   },
   "outputs": [],
   "source": [
    "Csh = 130e-15\n",
    "CJ1 = 0.5e-15\n",
    "CJ2 = CJ1* alpha\n",
    "Csigma = Csh + CJ1 + CJ2\n",
    "pars_list = []\n",
    "for phi_Ext in phi_Ext_list:\n",
    "    phi_Ext1 = phi_Ext\n",
    "    phi_Ext2 = phi_Ext\n",
    "    # `mul` part is based on equation (2) from http://arxiv.org/abs/2103.03577\n",
    "    phi_Ext1 = (Csh/Csigma*phi_Ext1 - CJ2/Csigma*phi_Ext2)\n",
    "    phi_Ext2 = (Csh/Csigma*phi_Ext1 - (CJ1 + Csh)/Csigma*phi_Ext2)\n",
    "    pars_list.append(\n",
    "        TmonPars(Ec, Ej, alpha, phi_Ext1, phi_Ext2, gamma_rel, gamma_phi)\n",
    "    )\n",
    "tr3 = Transmon(pars_list, Nc=Nc, res_trunc=4)\n",
    "sols3 = tr3.solve()"
   ]
  },
  {
   "cell_type": "markdown",
   "metadata": {},
   "source": [
    "plotting"
   ]
  },
  {
   "cell_type": "code",
   "execution_count": null,
   "metadata": {
    "ExecuteTime": {
     "end_time": "2022-05-17T18:34:31.211000Z",
     "start_time": "2022-05-17T18:34:31.185Z"
    },
    "scrolled": true
   },
   "outputs": [],
   "source": [
    "fig, axs = plt.subplots(4,1, sharex=True)\n",
    "for sols_idx, sols in enumerate([sols1, sols2, sols3]):\n",
    "    axs[0].plot(phi_Ext_list, [sol.E01() for sol in sols], label=r\"$E_{01}$ Case \" + str(sols_idx+1) )\n",
    "    eg_overlap = [sols[0].g_state().overlap(sol.e_state()) for sol in sols]\n",
    "    ee_overlap = [sols[0].e_state().overlap(sol.e_state()) for sol in sols]\n",
    "    fe_overlap = [sols[0].f_state().overlap(sol.e_state()) for sol in sols]\n",
    "    axs[sols_idx+1].plot(phi_Ext_list, np.abs(eg_overlap)**2, label=r\"$\\left< g(0) \\vert e(\\phi_{e}) \\right>$\")\n",
    "    axs[sols_idx+1].plot(phi_Ext_list, np.abs(ee_overlap)**2, label=r\"$\\left< e(0) \\vert e(\\phi_{e}) \\right>$\")\n",
    "    axs[sols_idx+1].plot(phi_Ext_list, np.abs(fe_overlap)**2, label=r\"$\\left< f(0) \\vert e(\\phi_{e}) \\right>$\")\n",
    "for ax_idx, ax in enumerate(axs):\n",
    "    ax.legend()\n",
    "    ax.grid()\n",
    "    if ax_idx > 0:\n",
    "        ax.set_title(\"CASE \" + str(ax_idx))"
   ]
  },
  {
   "cell_type": "markdown",
   "metadata": {},
   "source": [
    "Case I:\n",
    "$$ H_J = -E_J sign\\left( cos{\\left( \\frac{\\phi_{ext}}{2}\\right)} \\right)\n",
    "\\sqrt{1 + \\alpha^2 + 2 \\alpha \\cos{\\left( \\frac{\\phi_{ext}}{2} \\right)}} \\cos{\\phi} $$\n",
    "where \n",
    "$$\\phi = \\frac{\\phi_1 + \\phi_2}{2} $$\n",
    "$\\phi_i$ - phase drop accross i-th JJ\n",
    "where $\\phi$ - is qubit branch flux canonical variable<br>\n",
    "$\\alpha = E_{J1}/E_{J2} < 1$ is the ratio between smaller JJ energy to larger."
   ]
  },
  {
   "cell_type": "markdown",
   "metadata": {},
   "source": [
    "Case II: \n",
    "$$H_J =  -E_J sgn({cos{\\left( \\frac{\\phi_{ext}}{2} \\right)}}) \\sqrt{1 + \\alpha^2 + 2 \\alpha \\cos{\\left( \\frac{\\phi_{ext}}{2} \\right)}} \\cos{\\left( \\phi - \\phi_0 \\right) } $$\n",
    "where $\\phi_0 = \\arctan{\\left( d \\tan{\\left( \\frac{\\phi_{ext}}{2} \\right)} \\right)} $ and $d = \\frac{1-\\alpha}{1+\\alpha}$"
   ]
  },
  {
   "cell_type": "markdown",
   "metadata": {},
   "source": [
    "Case III:\n",
    "$$ H_J = -E_{J1}\\cos{\\left( \\tilde{\\phi} -\\frac{C_{sh}}{C_{\\Sigma}}\\phi_0 + \\frac{C_{J2}}{C_{\\Sigma}}\\phi_0 \\right)} \n",
    "- \\alpha E_J \\cos{\\left(\\tilde{\\phi}  -\\frac{C_{sh}}{C_{\\Sigma}}\\phi_0 -\\frac{C_{sh} + C_{J1}}{C_{\\Sigma}}\\phi_0 \\right)} $$ <br>\n",
    "in case with <br>\n",
    "$C_{sh} = 130 \\times 10^{-15}$ F <br>\n",
    "$C_{J1} = 0.5 \\times 10^{-15}$ F <br>\n",
    "$C_{J2} = \\alpha C_{J1}$ F"
   ]
  },
  {
   "cell_type": "markdown",
   "metadata": {},
   "source": [
    "# Berry curvature"
   ]
  },
  {
   "cell_type": "markdown",
   "metadata": {},
   "source": [
    "## Analytic expression"
   ]
  },
  {
   "cell_type": "markdown",
   "metadata": {},
   "source": [
    "For eigenstate with index $n$ there is a quantity called Berry's phase (Berry himself called it \"geometrical phase\") that has following definition:\n",
    "$$ \\gamma_n(P_{a,b}) = i \\int\\limits_{P_{a,b}}  \\left< n(\\vec{\\textbf{R}}) \\left| \\nabla_{\\vec{{\\textbf{R}}}} \\right| n(\\vec{\\textbf{R}})\\right>$$\n",
    "Integral along path $P_{a,b}$ that connects points $a$ and $b$ in Hamiltonian parameter space.\n",
    "Parameters are changed adiabatically, such that\n",
    "$$ \\left| \\partial_t \\vec{\\textbf{R}}\\right| \\ll \\frac{h}{E_1 - E_2} $$\n",
    "where $E_1$ and $E_2$ are energies of the levels related to problem. Also $\\vec{\\textbf{R}}$ chosen dimensionless."
   ]
  },
  {
   "cell_type": "markdown",
   "metadata": {},
   "source": [
    "Related quantity called Berry curvature is a (0,2) tensor in parameters space:\n",
    "$$ \\Omega_{n,\\mu \\nu}(\\vec{\\textbf{R}}) = \\partial_{\\mu} A_{n,\\nu}(\\vec{\\textbf{R}}) - \\partial_{\\nu} A_{n,\\mu}(\\vec{\\textbf{R}}) $$\n",
    "where"
   ]
  },
  {
   "cell_type": "markdown",
   "metadata": {},
   "source": [
    "$$\\vec{\\textbf{A}}_{n,\\mu}\n",
    "(\\vec{\\textbf{R}}) = \\left< n(\\vec{\\textbf{R}}) \\left| \\nabla_{\\mu} \\right| n(\\vec{\\textbf{R}})\\right> $$"
   ]
  },
  {
   "cell_type": "markdown",
   "metadata": {},
   "source": [
    "called a Berry's path."
   ]
  },
  {
   "cell_type": "markdown",
   "metadata": {},
   "source": [
    "The idea is that Berry's curvature is U(1) invariant while Berry's path is not.\n",
    "Hence, explicitly U(1) invariant expression for Berry's phase (using Stoke's theorem) for path that is simple cycle:\n",
    "$$ \\gamma_n(C) = \\int\\limits_{\\partial S = C} d\\textbf{S} \\; \\mathbf{\\Omega}_{n} $$"
   ]
  },
  {
   "cell_type": "markdown",
   "metadata": {},
   "source": [
    "From derivation of a Berry's path it can be shown that (utilizing second order perturbation theory to calculate derivatives at given parameter-space point):\n",
    "$$ \\Omega_{n,\\mu,nu}(R) = i \\sum_{n'\n",
    "\\neq n}\\frac{\n",
    "\\langle n|\\partial H / \\partial R_{\\mu}|n'\\rangle \\langle n'|\\partial H / \\partial R_{\\nu} | n\\rangle  - \n",
    "\\langle n|\\partial H / \\partial R_{\\nu}|n'\\rangle \\langle n'|\\partial H / \\partial R_{\\mu} | n\\rangle\n",
    "}\n",
    "{(E_n - E_{n'})^2}\n",
    "$$"
   ]
  },
  {
   "cell_type": "markdown",
   "metadata": {},
   "source": [
    "## Definition of the parameter space"
   ]
  },
  {
   "cell_type": "markdown",
   "metadata": {},
   "source": [
    "Three parameters of Hamiltonian are chosen:<br>\n",
    "$\\Omega \\in [0, \\infty]$ - external drive amplitude <br>\n",
    "$\\varphi \\in [0,2\\pi)$ - external drive phase <br>\n",
    "$\\phi_{ext} \\in \\mathds{R}$ - external flux value"
   ]
  },
  {
   "cell_type": "markdown",
   "metadata": {},
   "source": [
    "%%latex\n",
    "Hamiltonian can be written as:\n",
    "$$ H/h = E_C n^2 - E_{J1}\\cos{(\\phi - \\alpha_1 \\phi_{ext})} - E_{J2}\\cos{(\\phi - \\alpha_2 \\phi_{ext})} $$\n",
    "where \n",
    "$\\alpha_1, \\alpha_2 \\in \\mathds{R}$ - arbitrary real numbers\n",
    "Columb calibration assumed to be utilized for Hamiltonian quantization for qubit with distributed capacitor geometry. This choice is dictated from \\cite{Riwar2021}"
   ]
  },
  {
   "cell_type": "markdown",
   "metadata": {},
   "source": [
    "## Problem for test"
   ]
  },
  {
   "cell_type": "markdown",
   "metadata": {},
   "source": [
    "%%latex\n",
    "We will consider adiabatic evolution of non-relaxating qubit in parameter space. Evolution will be calculated along closed 3D trajectory.\n",
    "Dynamics will be obtained from direct numerical solution of the Shrodingher equation.\n",
    "Then we obtain Berry phase via 2 means:\n",
    "1. From numerical solution Berry phase will be extracted by substracting dynamical phase that will also be calculated numerically.\n",
    "2. Direct calculation of path (calculated numerically, derivative will be approximated by finite difference scheme)\n",
    "3. Area integral of Berry's curvature (curvature will be calculated exactly with formula above)"
   ]
  },
  {
   "cell_type": "markdown",
   "metadata": {},
   "source": [
    "trajectory is an ellips in 3d that touches coordinate origin."
   ]
  },
  {
   "cell_type": "markdown",
   "metadata": {},
   "source": [
    "$$x = A_x \\cos{\\alpha}(1+\\cos{(\\omega t}))$$\n",
    "$$y = A_y \\sin{(\\omega t)}$$\n",
    "$$z = A_x \\sin{\\alpha}(1+\\cos{(\\omega t)})$$"
   ]
  },
  {
   "cell_type": "code",
   "execution_count": 88,
   "metadata": {
    "ExecuteTime": {
     "end_time": "2022-05-17T19:29:35.219432Z",
     "start_time": "2022-05-17T19:29:35.206212Z"
    }
   },
   "outputs": [],
   "source": [
    "Ax = 20e-3\n",
    "Ay = 10e-3\n",
    "v_adiab = 0.01\n",
    "omega = v_adiab*2*np.pi\n",
    "angle = np.pi/6  # 30 degree"
   ]
  },
  {
   "cell_type": "code",
   "execution_count": 89,
   "metadata": {
    "ExecuteTime": {
     "end_time": "2022-05-17T19:29:35.796137Z",
     "start_time": "2022-05-17T19:29:35.789134Z"
    }
   },
   "outputs": [],
   "source": [
    "tlist = np.linspace(1e-3, 2*np.pi/omega, 1001)"
   ]
  },
  {
   "cell_type": "code",
   "execution_count": 90,
   "metadata": {
    "ExecuteTime": {
     "end_time": "2022-05-17T19:29:36.334906Z",
     "start_time": "2022-05-17T19:29:36.232092Z"
    }
   },
   "outputs": [
    {
     "data": {
      "application/javascript": [
       "/* Put everything inside the global mpl namespace */\n",
       "window.mpl = {};\n",
       "\n",
       "\n",
       "mpl.get_websocket_type = function() {\n",
       "    if (typeof(WebSocket) !== 'undefined') {\n",
       "        return WebSocket;\n",
       "    } else if (typeof(MozWebSocket) !== 'undefined') {\n",
       "        return MozWebSocket;\n",
       "    } else {\n",
       "        alert('Your browser does not have WebSocket support.' +\n",
       "              'Please try Chrome, Safari or Firefox ≥ 6. ' +\n",
       "              'Firefox 4 and 5 are also supported but you ' +\n",
       "              'have to enable WebSockets in about:config.');\n",
       "    };\n",
       "}\n",
       "\n",
       "mpl.figure = function(figure_id, websocket, ondownload, parent_element) {\n",
       "    this.id = figure_id;\n",
       "\n",
       "    this.ws = websocket;\n",
       "\n",
       "    this.supports_binary = (this.ws.binaryType != undefined);\n",
       "\n",
       "    if (!this.supports_binary) {\n",
       "        var warnings = document.getElementById(\"mpl-warnings\");\n",
       "        if (warnings) {\n",
       "            warnings.style.display = 'block';\n",
       "            warnings.textContent = (\n",
       "                \"This browser does not support binary websocket messages. \" +\n",
       "                    \"Performance may be slow.\");\n",
       "        }\n",
       "    }\n",
       "\n",
       "    this.imageObj = new Image();\n",
       "\n",
       "    this.context = undefined;\n",
       "    this.message = undefined;\n",
       "    this.canvas = undefined;\n",
       "    this.rubberband_canvas = undefined;\n",
       "    this.rubberband_context = undefined;\n",
       "    this.format_dropdown = undefined;\n",
       "\n",
       "    this.image_mode = 'full';\n",
       "\n",
       "    this.root = $('<div/>');\n",
       "    this._root_extra_style(this.root)\n",
       "    this.root.attr('style', 'display: inline-block');\n",
       "\n",
       "    $(parent_element).append(this.root);\n",
       "\n",
       "    this._init_header(this);\n",
       "    this._init_canvas(this);\n",
       "    this._init_toolbar(this);\n",
       "\n",
       "    var fig = this;\n",
       "\n",
       "    this.waiting = false;\n",
       "\n",
       "    this.ws.onopen =  function () {\n",
       "            fig.send_message(\"supports_binary\", {value: fig.supports_binary});\n",
       "            fig.send_message(\"send_image_mode\", {});\n",
       "            if (mpl.ratio != 1) {\n",
       "                fig.send_message(\"set_dpi_ratio\", {'dpi_ratio': mpl.ratio});\n",
       "            }\n",
       "            fig.send_message(\"refresh\", {});\n",
       "        }\n",
       "\n",
       "    this.imageObj.onload = function() {\n",
       "            if (fig.image_mode == 'full') {\n",
       "                // Full images could contain transparency (where diff images\n",
       "                // almost always do), so we need to clear the canvas so that\n",
       "                // there is no ghosting.\n",
       "                fig.context.clearRect(0, 0, fig.canvas.width, fig.canvas.height);\n",
       "            }\n",
       "            fig.context.drawImage(fig.imageObj, 0, 0);\n",
       "        };\n",
       "\n",
       "    this.imageObj.onunload = function() {\n",
       "        fig.ws.close();\n",
       "    }\n",
       "\n",
       "    this.ws.onmessage = this._make_on_message_function(this);\n",
       "\n",
       "    this.ondownload = ondownload;\n",
       "}\n",
       "\n",
       "mpl.figure.prototype._init_header = function() {\n",
       "    var titlebar = $(\n",
       "        '<div class=\"ui-dialog-titlebar ui-widget-header ui-corner-all ' +\n",
       "        'ui-helper-clearfix\"/>');\n",
       "    var titletext = $(\n",
       "        '<div class=\"ui-dialog-title\" style=\"width: 100%; ' +\n",
       "        'text-align: center; padding: 3px;\"/>');\n",
       "    titlebar.append(titletext)\n",
       "    this.root.append(titlebar);\n",
       "    this.header = titletext[0];\n",
       "}\n",
       "\n",
       "\n",
       "\n",
       "mpl.figure.prototype._canvas_extra_style = function(canvas_div) {\n",
       "\n",
       "}\n",
       "\n",
       "\n",
       "mpl.figure.prototype._root_extra_style = function(canvas_div) {\n",
       "\n",
       "}\n",
       "\n",
       "mpl.figure.prototype._init_canvas = function() {\n",
       "    var fig = this;\n",
       "\n",
       "    var canvas_div = $('<div/>');\n",
       "\n",
       "    canvas_div.attr('style', 'position: relative; clear: both; outline: 0');\n",
       "\n",
       "    function canvas_keyboard_event(event) {\n",
       "        return fig.key_event(event, event['data']);\n",
       "    }\n",
       "\n",
       "    canvas_div.keydown('key_press', canvas_keyboard_event);\n",
       "    canvas_div.keyup('key_release', canvas_keyboard_event);\n",
       "    this.canvas_div = canvas_div\n",
       "    this._canvas_extra_style(canvas_div)\n",
       "    this.root.append(canvas_div);\n",
       "\n",
       "    var canvas = $('<canvas/>');\n",
       "    canvas.addClass('mpl-canvas');\n",
       "    canvas.attr('style', \"left: 0; top: 0; z-index: 0; outline: 0\")\n",
       "\n",
       "    this.canvas = canvas[0];\n",
       "    this.context = canvas[0].getContext(\"2d\");\n",
       "\n",
       "    var backingStore = this.context.backingStorePixelRatio ||\n",
       "\tthis.context.webkitBackingStorePixelRatio ||\n",
       "\tthis.context.mozBackingStorePixelRatio ||\n",
       "\tthis.context.msBackingStorePixelRatio ||\n",
       "\tthis.context.oBackingStorePixelRatio ||\n",
       "\tthis.context.backingStorePixelRatio || 1;\n",
       "\n",
       "    mpl.ratio = (window.devicePixelRatio || 1) / backingStore;\n",
       "\n",
       "    var rubberband = $('<canvas/>');\n",
       "    rubberband.attr('style', \"position: absolute; left: 0; top: 0; z-index: 1;\")\n",
       "\n",
       "    var pass_mouse_events = true;\n",
       "\n",
       "    canvas_div.resizable({\n",
       "        start: function(event, ui) {\n",
       "            pass_mouse_events = false;\n",
       "        },\n",
       "        resize: function(event, ui) {\n",
       "            fig.request_resize(ui.size.width, ui.size.height);\n",
       "        },\n",
       "        stop: function(event, ui) {\n",
       "            pass_mouse_events = true;\n",
       "            fig.request_resize(ui.size.width, ui.size.height);\n",
       "        },\n",
       "    });\n",
       "\n",
       "    function mouse_event_fn(event) {\n",
       "        if (pass_mouse_events)\n",
       "            return fig.mouse_event(event, event['data']);\n",
       "    }\n",
       "\n",
       "    rubberband.mousedown('button_press', mouse_event_fn);\n",
       "    rubberband.mouseup('button_release', mouse_event_fn);\n",
       "    // Throttle sequential mouse events to 1 every 20ms.\n",
       "    rubberband.mousemove('motion_notify', mouse_event_fn);\n",
       "\n",
       "    rubberband.mouseenter('figure_enter', mouse_event_fn);\n",
       "    rubberband.mouseleave('figure_leave', mouse_event_fn);\n",
       "\n",
       "    canvas_div.on(\"wheel\", function (event) {\n",
       "        event = event.originalEvent;\n",
       "        event['data'] = 'scroll'\n",
       "        if (event.deltaY < 0) {\n",
       "            event.step = 1;\n",
       "        } else {\n",
       "            event.step = -1;\n",
       "        }\n",
       "        mouse_event_fn(event);\n",
       "    });\n",
       "\n",
       "    canvas_div.append(canvas);\n",
       "    canvas_div.append(rubberband);\n",
       "\n",
       "    this.rubberband = rubberband;\n",
       "    this.rubberband_canvas = rubberband[0];\n",
       "    this.rubberband_context = rubberband[0].getContext(\"2d\");\n",
       "    this.rubberband_context.strokeStyle = \"#000000\";\n",
       "\n",
       "    this._resize_canvas = function(width, height) {\n",
       "        // Keep the size of the canvas, canvas container, and rubber band\n",
       "        // canvas in synch.\n",
       "        canvas_div.css('width', width)\n",
       "        canvas_div.css('height', height)\n",
       "\n",
       "        canvas.attr('width', width * mpl.ratio);\n",
       "        canvas.attr('height', height * mpl.ratio);\n",
       "        canvas.attr('style', 'width: ' + width + 'px; height: ' + height + 'px;');\n",
       "\n",
       "        rubberband.attr('width', width);\n",
       "        rubberband.attr('height', height);\n",
       "    }\n",
       "\n",
       "    // Set the figure to an initial 600x600px, this will subsequently be updated\n",
       "    // upon first draw.\n",
       "    this._resize_canvas(600, 600);\n",
       "\n",
       "    // Disable right mouse context menu.\n",
       "    $(this.rubberband_canvas).bind(\"contextmenu\",function(e){\n",
       "        return false;\n",
       "    });\n",
       "\n",
       "    function set_focus () {\n",
       "        canvas.focus();\n",
       "        canvas_div.focus();\n",
       "    }\n",
       "\n",
       "    window.setTimeout(set_focus, 100);\n",
       "}\n",
       "\n",
       "mpl.figure.prototype._init_toolbar = function() {\n",
       "    var fig = this;\n",
       "\n",
       "    var nav_element = $('<div/>')\n",
       "    nav_element.attr('style', 'width: 100%');\n",
       "    this.root.append(nav_element);\n",
       "\n",
       "    // Define a callback function for later on.\n",
       "    function toolbar_event(event) {\n",
       "        return fig.toolbar_button_onclick(event['data']);\n",
       "    }\n",
       "    function toolbar_mouse_event(event) {\n",
       "        return fig.toolbar_button_onmouseover(event['data']);\n",
       "    }\n",
       "\n",
       "    for(var toolbar_ind in mpl.toolbar_items) {\n",
       "        var name = mpl.toolbar_items[toolbar_ind][0];\n",
       "        var tooltip = mpl.toolbar_items[toolbar_ind][1];\n",
       "        var image = mpl.toolbar_items[toolbar_ind][2];\n",
       "        var method_name = mpl.toolbar_items[toolbar_ind][3];\n",
       "\n",
       "        if (!name) {\n",
       "            // put a spacer in here.\n",
       "            continue;\n",
       "        }\n",
       "        var button = $('<button/>');\n",
       "        button.addClass('ui-button ui-widget ui-state-default ui-corner-all ' +\n",
       "                        'ui-button-icon-only');\n",
       "        button.attr('role', 'button');\n",
       "        button.attr('aria-disabled', 'false');\n",
       "        button.click(method_name, toolbar_event);\n",
       "        button.mouseover(tooltip, toolbar_mouse_event);\n",
       "\n",
       "        var icon_img = $('<span/>');\n",
       "        icon_img.addClass('ui-button-icon-primary ui-icon');\n",
       "        icon_img.addClass(image);\n",
       "        icon_img.addClass('ui-corner-all');\n",
       "\n",
       "        var tooltip_span = $('<span/>');\n",
       "        tooltip_span.addClass('ui-button-text');\n",
       "        tooltip_span.html(tooltip);\n",
       "\n",
       "        button.append(icon_img);\n",
       "        button.append(tooltip_span);\n",
       "\n",
       "        nav_element.append(button);\n",
       "    }\n",
       "\n",
       "    var fmt_picker_span = $('<span/>');\n",
       "\n",
       "    var fmt_picker = $('<select/>');\n",
       "    fmt_picker.addClass('mpl-toolbar-option ui-widget ui-widget-content');\n",
       "    fmt_picker_span.append(fmt_picker);\n",
       "    nav_element.append(fmt_picker_span);\n",
       "    this.format_dropdown = fmt_picker[0];\n",
       "\n",
       "    for (var ind in mpl.extensions) {\n",
       "        var fmt = mpl.extensions[ind];\n",
       "        var option = $(\n",
       "            '<option/>', {selected: fmt === mpl.default_extension}).html(fmt);\n",
       "        fmt_picker.append(option)\n",
       "    }\n",
       "\n",
       "    // Add hover states to the ui-buttons\n",
       "    $( \".ui-button\" ).hover(\n",
       "        function() { $(this).addClass(\"ui-state-hover\");},\n",
       "        function() { $(this).removeClass(\"ui-state-hover\");}\n",
       "    );\n",
       "\n",
       "    var status_bar = $('<span class=\"mpl-message\"/>');\n",
       "    nav_element.append(status_bar);\n",
       "    this.message = status_bar[0];\n",
       "}\n",
       "\n",
       "mpl.figure.prototype.request_resize = function(x_pixels, y_pixels) {\n",
       "    // Request matplotlib to resize the figure. Matplotlib will then trigger a resize in the client,\n",
       "    // which will in turn request a refresh of the image.\n",
       "    this.send_message('resize', {'width': x_pixels, 'height': y_pixels});\n",
       "}\n",
       "\n",
       "mpl.figure.prototype.send_message = function(type, properties) {\n",
       "    properties['type'] = type;\n",
       "    properties['figure_id'] = this.id;\n",
       "    this.ws.send(JSON.stringify(properties));\n",
       "}\n",
       "\n",
       "mpl.figure.prototype.send_draw_message = function() {\n",
       "    if (!this.waiting) {\n",
       "        this.waiting = true;\n",
       "        this.ws.send(JSON.stringify({type: \"draw\", figure_id: this.id}));\n",
       "    }\n",
       "}\n",
       "\n",
       "\n",
       "mpl.figure.prototype.handle_save = function(fig, msg) {\n",
       "    var format_dropdown = fig.format_dropdown;\n",
       "    var format = format_dropdown.options[format_dropdown.selectedIndex].value;\n",
       "    fig.ondownload(fig, format);\n",
       "}\n",
       "\n",
       "\n",
       "mpl.figure.prototype.handle_resize = function(fig, msg) {\n",
       "    var size = msg['size'];\n",
       "    if (size[0] != fig.canvas.width || size[1] != fig.canvas.height) {\n",
       "        fig._resize_canvas(size[0], size[1]);\n",
       "        fig.send_message(\"refresh\", {});\n",
       "    };\n",
       "}\n",
       "\n",
       "mpl.figure.prototype.handle_rubberband = function(fig, msg) {\n",
       "    var x0 = msg['x0'] / mpl.ratio;\n",
       "    var y0 = (fig.canvas.height - msg['y0']) / mpl.ratio;\n",
       "    var x1 = msg['x1'] / mpl.ratio;\n",
       "    var y1 = (fig.canvas.height - msg['y1']) / mpl.ratio;\n",
       "    x0 = Math.floor(x0) + 0.5;\n",
       "    y0 = Math.floor(y0) + 0.5;\n",
       "    x1 = Math.floor(x1) + 0.5;\n",
       "    y1 = Math.floor(y1) + 0.5;\n",
       "    var min_x = Math.min(x0, x1);\n",
       "    var min_y = Math.min(y0, y1);\n",
       "    var width = Math.abs(x1 - x0);\n",
       "    var height = Math.abs(y1 - y0);\n",
       "\n",
       "    fig.rubberband_context.clearRect(\n",
       "        0, 0, fig.canvas.width, fig.canvas.height);\n",
       "\n",
       "    fig.rubberband_context.strokeRect(min_x, min_y, width, height);\n",
       "}\n",
       "\n",
       "mpl.figure.prototype.handle_figure_label = function(fig, msg) {\n",
       "    // Updates the figure title.\n",
       "    fig.header.textContent = msg['label'];\n",
       "}\n",
       "\n",
       "mpl.figure.prototype.handle_cursor = function(fig, msg) {\n",
       "    var cursor = msg['cursor'];\n",
       "    switch(cursor)\n",
       "    {\n",
       "    case 0:\n",
       "        cursor = 'pointer';\n",
       "        break;\n",
       "    case 1:\n",
       "        cursor = 'default';\n",
       "        break;\n",
       "    case 2:\n",
       "        cursor = 'crosshair';\n",
       "        break;\n",
       "    case 3:\n",
       "        cursor = 'move';\n",
       "        break;\n",
       "    }\n",
       "    fig.rubberband_canvas.style.cursor = cursor;\n",
       "}\n",
       "\n",
       "mpl.figure.prototype.handle_message = function(fig, msg) {\n",
       "    fig.message.textContent = msg['message'];\n",
       "}\n",
       "\n",
       "mpl.figure.prototype.handle_draw = function(fig, msg) {\n",
       "    // Request the server to send over a new figure.\n",
       "    fig.send_draw_message();\n",
       "}\n",
       "\n",
       "mpl.figure.prototype.handle_image_mode = function(fig, msg) {\n",
       "    fig.image_mode = msg['mode'];\n",
       "}\n",
       "\n",
       "mpl.figure.prototype.updated_canvas_event = function() {\n",
       "    // Called whenever the canvas gets updated.\n",
       "    this.send_message(\"ack\", {});\n",
       "}\n",
       "\n",
       "// A function to construct a web socket function for onmessage handling.\n",
       "// Called in the figure constructor.\n",
       "mpl.figure.prototype._make_on_message_function = function(fig) {\n",
       "    return function socket_on_message(evt) {\n",
       "        if (evt.data instanceof Blob) {\n",
       "            /* FIXME: We get \"Resource interpreted as Image but\n",
       "             * transferred with MIME type text/plain:\" errors on\n",
       "             * Chrome.  But how to set the MIME type?  It doesn't seem\n",
       "             * to be part of the websocket stream */\n",
       "            evt.data.type = \"image/png\";\n",
       "\n",
       "            /* Free the memory for the previous frames */\n",
       "            if (fig.imageObj.src) {\n",
       "                (window.URL || window.webkitURL).revokeObjectURL(\n",
       "                    fig.imageObj.src);\n",
       "            }\n",
       "\n",
       "            fig.imageObj.src = (window.URL || window.webkitURL).createObjectURL(\n",
       "                evt.data);\n",
       "            fig.updated_canvas_event();\n",
       "            fig.waiting = false;\n",
       "            return;\n",
       "        }\n",
       "        else if (typeof evt.data === 'string' && evt.data.slice(0, 21) == \"data:image/png;base64\") {\n",
       "            fig.imageObj.src = evt.data;\n",
       "            fig.updated_canvas_event();\n",
       "            fig.waiting = false;\n",
       "            return;\n",
       "        }\n",
       "\n",
       "        var msg = JSON.parse(evt.data);\n",
       "        var msg_type = msg['type'];\n",
       "\n",
       "        // Call the  \"handle_{type}\" callback, which takes\n",
       "        // the figure and JSON message as its only arguments.\n",
       "        try {\n",
       "            var callback = fig[\"handle_\" + msg_type];\n",
       "        } catch (e) {\n",
       "            console.log(\"No handler for the '\" + msg_type + \"' message type: \", msg);\n",
       "            return;\n",
       "        }\n",
       "\n",
       "        if (callback) {\n",
       "            try {\n",
       "                // console.log(\"Handling '\" + msg_type + \"' message: \", msg);\n",
       "                callback(fig, msg);\n",
       "            } catch (e) {\n",
       "                console.log(\"Exception inside the 'handler_\" + msg_type + \"' callback:\", e, e.stack, msg);\n",
       "            }\n",
       "        }\n",
       "    };\n",
       "}\n",
       "\n",
       "// from http://stackoverflow.com/questions/1114465/getting-mouse-location-in-canvas\n",
       "mpl.findpos = function(e) {\n",
       "    //this section is from http://www.quirksmode.org/js/events_properties.html\n",
       "    var targ;\n",
       "    if (!e)\n",
       "        e = window.event;\n",
       "    if (e.target)\n",
       "        targ = e.target;\n",
       "    else if (e.srcElement)\n",
       "        targ = e.srcElement;\n",
       "    if (targ.nodeType == 3) // defeat Safari bug\n",
       "        targ = targ.parentNode;\n",
       "\n",
       "    // jQuery normalizes the pageX and pageY\n",
       "    // pageX,Y are the mouse positions relative to the document\n",
       "    // offset() returns the position of the element relative to the document\n",
       "    var x = e.pageX - $(targ).offset().left;\n",
       "    var y = e.pageY - $(targ).offset().top;\n",
       "\n",
       "    return {\"x\": x, \"y\": y};\n",
       "};\n",
       "\n",
       "/*\n",
       " * return a copy of an object with only non-object keys\n",
       " * we need this to avoid circular references\n",
       " * http://stackoverflow.com/a/24161582/3208463\n",
       " */\n",
       "function simpleKeys (original) {\n",
       "  return Object.keys(original).reduce(function (obj, key) {\n",
       "    if (typeof original[key] !== 'object')\n",
       "        obj[key] = original[key]\n",
       "    return obj;\n",
       "  }, {});\n",
       "}\n",
       "\n",
       "mpl.figure.prototype.mouse_event = function(event, name) {\n",
       "    var canvas_pos = mpl.findpos(event)\n",
       "\n",
       "    if (name === 'button_press')\n",
       "    {\n",
       "        this.canvas.focus();\n",
       "        this.canvas_div.focus();\n",
       "    }\n",
       "\n",
       "    var x = canvas_pos.x * mpl.ratio;\n",
       "    var y = canvas_pos.y * mpl.ratio;\n",
       "\n",
       "    this.send_message(name, {x: x, y: y, button: event.button,\n",
       "                             step: event.step,\n",
       "                             guiEvent: simpleKeys(event)});\n",
       "\n",
       "    /* This prevents the web browser from automatically changing to\n",
       "     * the text insertion cursor when the button is pressed.  We want\n",
       "     * to control all of the cursor setting manually through the\n",
       "     * 'cursor' event from matplotlib */\n",
       "    event.preventDefault();\n",
       "    return false;\n",
       "}\n",
       "\n",
       "mpl.figure.prototype._key_event_extra = function(event, name) {\n",
       "    // Handle any extra behaviour associated with a key event\n",
       "}\n",
       "\n",
       "mpl.figure.prototype.key_event = function(event, name) {\n",
       "\n",
       "    // Prevent repeat events\n",
       "    if (name == 'key_press')\n",
       "    {\n",
       "        if (event.which === this._key)\n",
       "            return;\n",
       "        else\n",
       "            this._key = event.which;\n",
       "    }\n",
       "    if (name == 'key_release')\n",
       "        this._key = null;\n",
       "\n",
       "    var value = '';\n",
       "    if (event.ctrlKey && event.which != 17)\n",
       "        value += \"ctrl+\";\n",
       "    if (event.altKey && event.which != 18)\n",
       "        value += \"alt+\";\n",
       "    if (event.shiftKey && event.which != 16)\n",
       "        value += \"shift+\";\n",
       "\n",
       "    value += 'k';\n",
       "    value += event.which.toString();\n",
       "\n",
       "    this._key_event_extra(event, name);\n",
       "\n",
       "    this.send_message(name, {key: value,\n",
       "                             guiEvent: simpleKeys(event)});\n",
       "    return false;\n",
       "}\n",
       "\n",
       "mpl.figure.prototype.toolbar_button_onclick = function(name) {\n",
       "    if (name == 'download') {\n",
       "        this.handle_save(this, null);\n",
       "    } else {\n",
       "        this.send_message(\"toolbar_button\", {name: name});\n",
       "    }\n",
       "};\n",
       "\n",
       "mpl.figure.prototype.toolbar_button_onmouseover = function(tooltip) {\n",
       "    this.message.textContent = tooltip;\n",
       "};\n",
       "mpl.toolbar_items = [[\"Home\", \"Reset original view\", \"fa fa-home icon-home\", \"home\"], [\"Back\", \"Back to previous view\", \"fa fa-arrow-left icon-arrow-left\", \"back\"], [\"Forward\", \"Forward to next view\", \"fa fa-arrow-right icon-arrow-right\", \"forward\"], [\"\", \"\", \"\", \"\"], [\"Pan\", \"Pan axes with left mouse, zoom with right\", \"fa fa-arrows icon-move\", \"pan\"], [\"Zoom\", \"Zoom to rectangle\", \"fa fa-square-o icon-check-empty\", \"zoom\"], [\"\", \"\", \"\", \"\"], [\"Download\", \"Download plot\", \"fa fa-floppy-o icon-save\", \"download\"]];\n",
       "\n",
       "mpl.extensions = [\"eps\", \"pdf\", \"png\", \"ps\", \"raw\", \"svg\"];\n",
       "\n",
       "mpl.default_extension = \"png\";var comm_websocket_adapter = function(comm) {\n",
       "    // Create a \"websocket\"-like object which calls the given IPython comm\n",
       "    // object with the appropriate methods. Currently this is a non binary\n",
       "    // socket, so there is still some room for performance tuning.\n",
       "    var ws = {};\n",
       "\n",
       "    ws.close = function() {\n",
       "        comm.close()\n",
       "    };\n",
       "    ws.send = function(m) {\n",
       "        //console.log('sending', m);\n",
       "        comm.send(m);\n",
       "    };\n",
       "    // Register the callback with on_msg.\n",
       "    comm.on_msg(function(msg) {\n",
       "        //console.log('receiving', msg['content']['data'], msg);\n",
       "        // Pass the mpl event to the overridden (by mpl) onmessage function.\n",
       "        ws.onmessage(msg['content']['data'])\n",
       "    });\n",
       "    return ws;\n",
       "}\n",
       "\n",
       "mpl.mpl_figure_comm = function(comm, msg) {\n",
       "    // This is the function which gets called when the mpl process\n",
       "    // starts-up an IPython Comm through the \"matplotlib\" channel.\n",
       "\n",
       "    var id = msg.content.data.id;\n",
       "    // Get hold of the div created by the display call when the Comm\n",
       "    // socket was opened in Python.\n",
       "    var element = $(\"#\" + id);\n",
       "    var ws_proxy = comm_websocket_adapter(comm)\n",
       "\n",
       "    function ondownload(figure, format) {\n",
       "        window.open(figure.imageObj.src);\n",
       "    }\n",
       "\n",
       "    var fig = new mpl.figure(id, ws_proxy,\n",
       "                           ondownload,\n",
       "                           element.get(0));\n",
       "\n",
       "    // Call onopen now - mpl needs it, as it is assuming we've passed it a real\n",
       "    // web socket which is closed, not our websocket->open comm proxy.\n",
       "    ws_proxy.onopen();\n",
       "\n",
       "    fig.parent_element = element.get(0);\n",
       "    fig.cell_info = mpl.find_output_cell(\"<div id='\" + id + \"'></div>\");\n",
       "    if (!fig.cell_info) {\n",
       "        console.error(\"Failed to find cell for figure\", id, fig);\n",
       "        return;\n",
       "    }\n",
       "\n",
       "    var output_index = fig.cell_info[2]\n",
       "    var cell = fig.cell_info[0];\n",
       "\n",
       "};\n",
       "\n",
       "mpl.figure.prototype.handle_close = function(fig, msg) {\n",
       "    var width = fig.canvas.width/mpl.ratio\n",
       "    fig.root.unbind('remove')\n",
       "\n",
       "    // Update the output cell to use the data from the current canvas.\n",
       "    fig.push_to_output();\n",
       "    var dataURL = fig.canvas.toDataURL();\n",
       "    // Re-enable the keyboard manager in IPython - without this line, in FF,\n",
       "    // the notebook keyboard shortcuts fail.\n",
       "    IPython.keyboard_manager.enable()\n",
       "    $(fig.parent_element).html('<img src=\"' + dataURL + '\" width=\"' + width + '\">');\n",
       "    fig.close_ws(fig, msg);\n",
       "}\n",
       "\n",
       "mpl.figure.prototype.close_ws = function(fig, msg){\n",
       "    fig.send_message('closing', msg);\n",
       "    // fig.ws.close()\n",
       "}\n",
       "\n",
       "mpl.figure.prototype.push_to_output = function(remove_interactive) {\n",
       "    // Turn the data on the canvas into data in the output cell.\n",
       "    var width = this.canvas.width/mpl.ratio\n",
       "    var dataURL = this.canvas.toDataURL();\n",
       "    this.cell_info[1]['text/html'] = '<img src=\"' + dataURL + '\" width=\"' + width + '\">';\n",
       "}\n",
       "\n",
       "mpl.figure.prototype.updated_canvas_event = function() {\n",
       "    // Tell IPython that the notebook contents must change.\n",
       "    IPython.notebook.set_dirty(true);\n",
       "    this.send_message(\"ack\", {});\n",
       "    var fig = this;\n",
       "    // Wait a second, then push the new image to the DOM so\n",
       "    // that it is saved nicely (might be nice to debounce this).\n",
       "    setTimeout(function () { fig.push_to_output() }, 1000);\n",
       "}\n",
       "\n",
       "mpl.figure.prototype._init_toolbar = function() {\n",
       "    var fig = this;\n",
       "\n",
       "    var nav_element = $('<div/>')\n",
       "    nav_element.attr('style', 'width: 100%');\n",
       "    this.root.append(nav_element);\n",
       "\n",
       "    // Define a callback function for later on.\n",
       "    function toolbar_event(event) {\n",
       "        return fig.toolbar_button_onclick(event['data']);\n",
       "    }\n",
       "    function toolbar_mouse_event(event) {\n",
       "        return fig.toolbar_button_onmouseover(event['data']);\n",
       "    }\n",
       "\n",
       "    for(var toolbar_ind in mpl.toolbar_items){\n",
       "        var name = mpl.toolbar_items[toolbar_ind][0];\n",
       "        var tooltip = mpl.toolbar_items[toolbar_ind][1];\n",
       "        var image = mpl.toolbar_items[toolbar_ind][2];\n",
       "        var method_name = mpl.toolbar_items[toolbar_ind][3];\n",
       "\n",
       "        if (!name) { continue; };\n",
       "\n",
       "        var button = $('<button class=\"btn btn-default\" href=\"#\" title=\"' + name + '\"><i class=\"fa ' + image + ' fa-lg\"></i></button>');\n",
       "        button.click(method_name, toolbar_event);\n",
       "        button.mouseover(tooltip, toolbar_mouse_event);\n",
       "        nav_element.append(button);\n",
       "    }\n",
       "\n",
       "    // Add the status bar.\n",
       "    var status_bar = $('<span class=\"mpl-message\" style=\"text-align:right; float: right;\"/>');\n",
       "    nav_element.append(status_bar);\n",
       "    this.message = status_bar[0];\n",
       "\n",
       "    // Add the close button to the window.\n",
       "    var buttongrp = $('<div class=\"btn-group inline pull-right\"></div>');\n",
       "    var button = $('<button class=\"btn btn-mini btn-primary\" href=\"#\" title=\"Stop Interaction\"><i class=\"fa fa-power-off icon-remove icon-large\"></i></button>');\n",
       "    button.click(function (evt) { fig.handle_close(fig, {}); } );\n",
       "    button.mouseover('Stop Interaction', toolbar_mouse_event);\n",
       "    buttongrp.append(button);\n",
       "    var titlebar = this.root.find($('.ui-dialog-titlebar'));\n",
       "    titlebar.prepend(buttongrp);\n",
       "}\n",
       "\n",
       "mpl.figure.prototype._root_extra_style = function(el){\n",
       "    var fig = this\n",
       "    el.on(\"remove\", function(){\n",
       "\tfig.close_ws(fig, {});\n",
       "    });\n",
       "}\n",
       "\n",
       "mpl.figure.prototype._canvas_extra_style = function(el){\n",
       "    // this is important to make the div 'focusable\n",
       "    el.attr('tabindex', 0)\n",
       "    // reach out to IPython and tell the keyboard manager to turn it's self\n",
       "    // off when our div gets focus\n",
       "\n",
       "    // location in version 3\n",
       "    if (IPython.notebook.keyboard_manager) {\n",
       "        IPython.notebook.keyboard_manager.register_events(el);\n",
       "    }\n",
       "    else {\n",
       "        // location in version 2\n",
       "        IPython.keyboard_manager.register_events(el);\n",
       "    }\n",
       "\n",
       "}\n",
       "\n",
       "mpl.figure.prototype._key_event_extra = function(event, name) {\n",
       "    var manager = IPython.notebook.keyboard_manager;\n",
       "    if (!manager)\n",
       "        manager = IPython.keyboard_manager;\n",
       "\n",
       "    // Check for shift+enter\n",
       "    if (event.shiftKey && event.which == 13) {\n",
       "        this.canvas_div.blur();\n",
       "        event.shiftKey = false;\n",
       "        // Send a \"J\" for go to next cell\n",
       "        event.which = 74;\n",
       "        event.keyCode = 74;\n",
       "        manager.command_mode();\n",
       "        manager.handle_keydown(event);\n",
       "    }\n",
       "}\n",
       "\n",
       "mpl.figure.prototype.handle_save = function(fig, msg) {\n",
       "    fig.ondownload(fig, null);\n",
       "}\n",
       "\n",
       "\n",
       "mpl.find_output_cell = function(html_output) {\n",
       "    // Return the cell and output element which can be found *uniquely* in the notebook.\n",
       "    // Note - this is a bit hacky, but it is done because the \"notebook_saving.Notebook\"\n",
       "    // IPython event is triggered only after the cells have been serialised, which for\n",
       "    // our purposes (turning an active figure into a static one), is too late.\n",
       "    var cells = IPython.notebook.get_cells();\n",
       "    var ncells = cells.length;\n",
       "    for (var i=0; i<ncells; i++) {\n",
       "        var cell = cells[i];\n",
       "        if (cell.cell_type === 'code'){\n",
       "            for (var j=0; j<cell.output_area.outputs.length; j++) {\n",
       "                var data = cell.output_area.outputs[j];\n",
       "                if (data.data) {\n",
       "                    // IPython >= 3 moved mimebundle to data attribute of output\n",
       "                    data = data.data;\n",
       "                }\n",
       "                if (data['text/html'] == html_output) {\n",
       "                    return [cell, data, j];\n",
       "                }\n",
       "            }\n",
       "        }\n",
       "    }\n",
       "}\n",
       "\n",
       "// Register the function which deals with the matplotlib target/channel.\n",
       "// The kernel may be null if the page has been refreshed.\n",
       "if (IPython.notebook.kernel != null) {\n",
       "    IPython.notebook.kernel.comm_manager.register_target('matplotlib', mpl.mpl_figure_comm);\n",
       "}\n"
      ],
      "text/plain": [
       "<IPython.core.display.Javascript object>"
      ]
     },
     "metadata": {},
     "output_type": "display_data"
    },
    {
     "data": {
      "text/html": [
       "<img src=\"data:image/png;base64,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\" width=\"640\">"
      ],
      "text/plain": [
       "<IPython.core.display.HTML object>"
      ]
     },
     "metadata": {},
     "output_type": "display_data"
    },
    {
     "data": {
      "text/plain": [
       "Text(0.5, 0, 'z')"
      ]
     },
     "execution_count": 90,
     "metadata": {},
     "output_type": "execute_result"
    }
   ],
   "source": [
    "from mpl_toolkits.mplot3d import Axes3D\n",
    "fig = plt.figure()\n",
    "ax = fig.add_subplot(111, projection=\"3d\")\n",
    "phase_l = phase(tlist)\n",
    "Omega_l = Omega(tlist)\n",
    "phi_ext_l = phi_ext_t(tlist)\n",
    "ax.plot(\n",
    "    Ax*np.cos(angle)*(1-np.cos(omega*tlist)), \n",
    "    Ay*np.sin(omega*tlist), \n",
    "    Ax*np.sin(angle)*(1-np.cos(omega*tlist))\n",
    ")\n",
    "ax.set_xlabel(\"x\")\n",
    "ax.set_ylabel(\"y\")\n",
    "ax.set_zlabel(\"z\")"
   ]
  },
  {
   "cell_type": "code",
   "execution_count": 76,
   "metadata": {
    "ExecuteTime": {
     "end_time": "2022-05-17T19:27:33.862479Z",
     "start_time": "2022-05-17T19:27:33.846522Z"
    }
   },
   "outputs": [],
   "source": [
    "def phi_ext_t(t):  # z\n",
    "    return Ax*np.sin(angle)*(1-np.cos(omega*t))\n",
    "\n",
    "def phase(t):  # \\phi\n",
    "    return np.arctan2(\n",
    "        Ay*np.sin(omega*t),\n",
    "        Ax*np.cos(angle)*(1-np.cos(omega*t))\n",
    "    )  # arctan2(y,x)\n",
    "\n",
    "def Omega(t):  # sqrt(x^2 + y^2)\n",
    "    return np.sqrt((Ax*np.cos(angle)*(1-np.cos(omega*t)))**2 + (Ay*np.sin(omega*t))**2)"
   ]
  },
  {
   "cell_type": "code",
   "execution_count": 91,
   "metadata": {
    "ExecuteTime": {
     "end_time": "2022-05-17T19:29:37.567779Z",
     "start_time": "2022-05-17T19:29:37.526888Z"
    }
   },
   "outputs": [
    {
     "data": {
      "application/javascript": [
       "/* Put everything inside the global mpl namespace */\n",
       "window.mpl = {};\n",
       "\n",
       "\n",
       "mpl.get_websocket_type = function() {\n",
       "    if (typeof(WebSocket) !== 'undefined') {\n",
       "        return WebSocket;\n",
       "    } else if (typeof(MozWebSocket) !== 'undefined') {\n",
       "        return MozWebSocket;\n",
       "    } else {\n",
       "        alert('Your browser does not have WebSocket support.' +\n",
       "              'Please try Chrome, Safari or Firefox ≥ 6. ' +\n",
       "              'Firefox 4 and 5 are also supported but you ' +\n",
       "              'have to enable WebSockets in about:config.');\n",
       "    };\n",
       "}\n",
       "\n",
       "mpl.figure = function(figure_id, websocket, ondownload, parent_element) {\n",
       "    this.id = figure_id;\n",
       "\n",
       "    this.ws = websocket;\n",
       "\n",
       "    this.supports_binary = (this.ws.binaryType != undefined);\n",
       "\n",
       "    if (!this.supports_binary) {\n",
       "        var warnings = document.getElementById(\"mpl-warnings\");\n",
       "        if (warnings) {\n",
       "            warnings.style.display = 'block';\n",
       "            warnings.textContent = (\n",
       "                \"This browser does not support binary websocket messages. \" +\n",
       "                    \"Performance may be slow.\");\n",
       "        }\n",
       "    }\n",
       "\n",
       "    this.imageObj = new Image();\n",
       "\n",
       "    this.context = undefined;\n",
       "    this.message = undefined;\n",
       "    this.canvas = undefined;\n",
       "    this.rubberband_canvas = undefined;\n",
       "    this.rubberband_context = undefined;\n",
       "    this.format_dropdown = undefined;\n",
       "\n",
       "    this.image_mode = 'full';\n",
       "\n",
       "    this.root = $('<div/>');\n",
       "    this._root_extra_style(this.root)\n",
       "    this.root.attr('style', 'display: inline-block');\n",
       "\n",
       "    $(parent_element).append(this.root);\n",
       "\n",
       "    this._init_header(this);\n",
       "    this._init_canvas(this);\n",
       "    this._init_toolbar(this);\n",
       "\n",
       "    var fig = this;\n",
       "\n",
       "    this.waiting = false;\n",
       "\n",
       "    this.ws.onopen =  function () {\n",
       "            fig.send_message(\"supports_binary\", {value: fig.supports_binary});\n",
       "            fig.send_message(\"send_image_mode\", {});\n",
       "            if (mpl.ratio != 1) {\n",
       "                fig.send_message(\"set_dpi_ratio\", {'dpi_ratio': mpl.ratio});\n",
       "            }\n",
       "            fig.send_message(\"refresh\", {});\n",
       "        }\n",
       "\n",
       "    this.imageObj.onload = function() {\n",
       "            if (fig.image_mode == 'full') {\n",
       "                // Full images could contain transparency (where diff images\n",
       "                // almost always do), so we need to clear the canvas so that\n",
       "                // there is no ghosting.\n",
       "                fig.context.clearRect(0, 0, fig.canvas.width, fig.canvas.height);\n",
       "            }\n",
       "            fig.context.drawImage(fig.imageObj, 0, 0);\n",
       "        };\n",
       "\n",
       "    this.imageObj.onunload = function() {\n",
       "        fig.ws.close();\n",
       "    }\n",
       "\n",
       "    this.ws.onmessage = this._make_on_message_function(this);\n",
       "\n",
       "    this.ondownload = ondownload;\n",
       "}\n",
       "\n",
       "mpl.figure.prototype._init_header = function() {\n",
       "    var titlebar = $(\n",
       "        '<div class=\"ui-dialog-titlebar ui-widget-header ui-corner-all ' +\n",
       "        'ui-helper-clearfix\"/>');\n",
       "    var titletext = $(\n",
       "        '<div class=\"ui-dialog-title\" style=\"width: 100%; ' +\n",
       "        'text-align: center; padding: 3px;\"/>');\n",
       "    titlebar.append(titletext)\n",
       "    this.root.append(titlebar);\n",
       "    this.header = titletext[0];\n",
       "}\n",
       "\n",
       "\n",
       "\n",
       "mpl.figure.prototype._canvas_extra_style = function(canvas_div) {\n",
       "\n",
       "}\n",
       "\n",
       "\n",
       "mpl.figure.prototype._root_extra_style = function(canvas_div) {\n",
       "\n",
       "}\n",
       "\n",
       "mpl.figure.prototype._init_canvas = function() {\n",
       "    var fig = this;\n",
       "\n",
       "    var canvas_div = $('<div/>');\n",
       "\n",
       "    canvas_div.attr('style', 'position: relative; clear: both; outline: 0');\n",
       "\n",
       "    function canvas_keyboard_event(event) {\n",
       "        return fig.key_event(event, event['data']);\n",
       "    }\n",
       "\n",
       "    canvas_div.keydown('key_press', canvas_keyboard_event);\n",
       "    canvas_div.keyup('key_release', canvas_keyboard_event);\n",
       "    this.canvas_div = canvas_div\n",
       "    this._canvas_extra_style(canvas_div)\n",
       "    this.root.append(canvas_div);\n",
       "\n",
       "    var canvas = $('<canvas/>');\n",
       "    canvas.addClass('mpl-canvas');\n",
       "    canvas.attr('style', \"left: 0; top: 0; z-index: 0; outline: 0\")\n",
       "\n",
       "    this.canvas = canvas[0];\n",
       "    this.context = canvas[0].getContext(\"2d\");\n",
       "\n",
       "    var backingStore = this.context.backingStorePixelRatio ||\n",
       "\tthis.context.webkitBackingStorePixelRatio ||\n",
       "\tthis.context.mozBackingStorePixelRatio ||\n",
       "\tthis.context.msBackingStorePixelRatio ||\n",
       "\tthis.context.oBackingStorePixelRatio ||\n",
       "\tthis.context.backingStorePixelRatio || 1;\n",
       "\n",
       "    mpl.ratio = (window.devicePixelRatio || 1) / backingStore;\n",
       "\n",
       "    var rubberband = $('<canvas/>');\n",
       "    rubberband.attr('style', \"position: absolute; left: 0; top: 0; z-index: 1;\")\n",
       "\n",
       "    var pass_mouse_events = true;\n",
       "\n",
       "    canvas_div.resizable({\n",
       "        start: function(event, ui) {\n",
       "            pass_mouse_events = false;\n",
       "        },\n",
       "        resize: function(event, ui) {\n",
       "            fig.request_resize(ui.size.width, ui.size.height);\n",
       "        },\n",
       "        stop: function(event, ui) {\n",
       "            pass_mouse_events = true;\n",
       "            fig.request_resize(ui.size.width, ui.size.height);\n",
       "        },\n",
       "    });\n",
       "\n",
       "    function mouse_event_fn(event) {\n",
       "        if (pass_mouse_events)\n",
       "            return fig.mouse_event(event, event['data']);\n",
       "    }\n",
       "\n",
       "    rubberband.mousedown('button_press', mouse_event_fn);\n",
       "    rubberband.mouseup('button_release', mouse_event_fn);\n",
       "    // Throttle sequential mouse events to 1 every 20ms.\n",
       "    rubberband.mousemove('motion_notify', mouse_event_fn);\n",
       "\n",
       "    rubberband.mouseenter('figure_enter', mouse_event_fn);\n",
       "    rubberband.mouseleave('figure_leave', mouse_event_fn);\n",
       "\n",
       "    canvas_div.on(\"wheel\", function (event) {\n",
       "        event = event.originalEvent;\n",
       "        event['data'] = 'scroll'\n",
       "        if (event.deltaY < 0) {\n",
       "            event.step = 1;\n",
       "        } else {\n",
       "            event.step = -1;\n",
       "        }\n",
       "        mouse_event_fn(event);\n",
       "    });\n",
       "\n",
       "    canvas_div.append(canvas);\n",
       "    canvas_div.append(rubberband);\n",
       "\n",
       "    this.rubberband = rubberband;\n",
       "    this.rubberband_canvas = rubberband[0];\n",
       "    this.rubberband_context = rubberband[0].getContext(\"2d\");\n",
       "    this.rubberband_context.strokeStyle = \"#000000\";\n",
       "\n",
       "    this._resize_canvas = function(width, height) {\n",
       "        // Keep the size of the canvas, canvas container, and rubber band\n",
       "        // canvas in synch.\n",
       "        canvas_div.css('width', width)\n",
       "        canvas_div.css('height', height)\n",
       "\n",
       "        canvas.attr('width', width * mpl.ratio);\n",
       "        canvas.attr('height', height * mpl.ratio);\n",
       "        canvas.attr('style', 'width: ' + width + 'px; height: ' + height + 'px;');\n",
       "\n",
       "        rubberband.attr('width', width);\n",
       "        rubberband.attr('height', height);\n",
       "    }\n",
       "\n",
       "    // Set the figure to an initial 600x600px, this will subsequently be updated\n",
       "    // upon first draw.\n",
       "    this._resize_canvas(600, 600);\n",
       "\n",
       "    // Disable right mouse context menu.\n",
       "    $(this.rubberband_canvas).bind(\"contextmenu\",function(e){\n",
       "        return false;\n",
       "    });\n",
       "\n",
       "    function set_focus () {\n",
       "        canvas.focus();\n",
       "        canvas_div.focus();\n",
       "    }\n",
       "\n",
       "    window.setTimeout(set_focus, 100);\n",
       "}\n",
       "\n",
       "mpl.figure.prototype._init_toolbar = function() {\n",
       "    var fig = this;\n",
       "\n",
       "    var nav_element = $('<div/>')\n",
       "    nav_element.attr('style', 'width: 100%');\n",
       "    this.root.append(nav_element);\n",
       "\n",
       "    // Define a callback function for later on.\n",
       "    function toolbar_event(event) {\n",
       "        return fig.toolbar_button_onclick(event['data']);\n",
       "    }\n",
       "    function toolbar_mouse_event(event) {\n",
       "        return fig.toolbar_button_onmouseover(event['data']);\n",
       "    }\n",
       "\n",
       "    for(var toolbar_ind in mpl.toolbar_items) {\n",
       "        var name = mpl.toolbar_items[toolbar_ind][0];\n",
       "        var tooltip = mpl.toolbar_items[toolbar_ind][1];\n",
       "        var image = mpl.toolbar_items[toolbar_ind][2];\n",
       "        var method_name = mpl.toolbar_items[toolbar_ind][3];\n",
       "\n",
       "        if (!name) {\n",
       "            // put a spacer in here.\n",
       "            continue;\n",
       "        }\n",
       "        var button = $('<button/>');\n",
       "        button.addClass('ui-button ui-widget ui-state-default ui-corner-all ' +\n",
       "                        'ui-button-icon-only');\n",
       "        button.attr('role', 'button');\n",
       "        button.attr('aria-disabled', 'false');\n",
       "        button.click(method_name, toolbar_event);\n",
       "        button.mouseover(tooltip, toolbar_mouse_event);\n",
       "\n",
       "        var icon_img = $('<span/>');\n",
       "        icon_img.addClass('ui-button-icon-primary ui-icon');\n",
       "        icon_img.addClass(image);\n",
       "        icon_img.addClass('ui-corner-all');\n",
       "\n",
       "        var tooltip_span = $('<span/>');\n",
       "        tooltip_span.addClass('ui-button-text');\n",
       "        tooltip_span.html(tooltip);\n",
       "\n",
       "        button.append(icon_img);\n",
       "        button.append(tooltip_span);\n",
       "\n",
       "        nav_element.append(button);\n",
       "    }\n",
       "\n",
       "    var fmt_picker_span = $('<span/>');\n",
       "\n",
       "    var fmt_picker = $('<select/>');\n",
       "    fmt_picker.addClass('mpl-toolbar-option ui-widget ui-widget-content');\n",
       "    fmt_picker_span.append(fmt_picker);\n",
       "    nav_element.append(fmt_picker_span);\n",
       "    this.format_dropdown = fmt_picker[0];\n",
       "\n",
       "    for (var ind in mpl.extensions) {\n",
       "        var fmt = mpl.extensions[ind];\n",
       "        var option = $(\n",
       "            '<option/>', {selected: fmt === mpl.default_extension}).html(fmt);\n",
       "        fmt_picker.append(option)\n",
       "    }\n",
       "\n",
       "    // Add hover states to the ui-buttons\n",
       "    $( \".ui-button\" ).hover(\n",
       "        function() { $(this).addClass(\"ui-state-hover\");},\n",
       "        function() { $(this).removeClass(\"ui-state-hover\");}\n",
       "    );\n",
       "\n",
       "    var status_bar = $('<span class=\"mpl-message\"/>');\n",
       "    nav_element.append(status_bar);\n",
       "    this.message = status_bar[0];\n",
       "}\n",
       "\n",
       "mpl.figure.prototype.request_resize = function(x_pixels, y_pixels) {\n",
       "    // Request matplotlib to resize the figure. Matplotlib will then trigger a resize in the client,\n",
       "    // which will in turn request a refresh of the image.\n",
       "    this.send_message('resize', {'width': x_pixels, 'height': y_pixels});\n",
       "}\n",
       "\n",
       "mpl.figure.prototype.send_message = function(type, properties) {\n",
       "    properties['type'] = type;\n",
       "    properties['figure_id'] = this.id;\n",
       "    this.ws.send(JSON.stringify(properties));\n",
       "}\n",
       "\n",
       "mpl.figure.prototype.send_draw_message = function() {\n",
       "    if (!this.waiting) {\n",
       "        this.waiting = true;\n",
       "        this.ws.send(JSON.stringify({type: \"draw\", figure_id: this.id}));\n",
       "    }\n",
       "}\n",
       "\n",
       "\n",
       "mpl.figure.prototype.handle_save = function(fig, msg) {\n",
       "    var format_dropdown = fig.format_dropdown;\n",
       "    var format = format_dropdown.options[format_dropdown.selectedIndex].value;\n",
       "    fig.ondownload(fig, format);\n",
       "}\n",
       "\n",
       "\n",
       "mpl.figure.prototype.handle_resize = function(fig, msg) {\n",
       "    var size = msg['size'];\n",
       "    if (size[0] != fig.canvas.width || size[1] != fig.canvas.height) {\n",
       "        fig._resize_canvas(size[0], size[1]);\n",
       "        fig.send_message(\"refresh\", {});\n",
       "    };\n",
       "}\n",
       "\n",
       "mpl.figure.prototype.handle_rubberband = function(fig, msg) {\n",
       "    var x0 = msg['x0'] / mpl.ratio;\n",
       "    var y0 = (fig.canvas.height - msg['y0']) / mpl.ratio;\n",
       "    var x1 = msg['x1'] / mpl.ratio;\n",
       "    var y1 = (fig.canvas.height - msg['y1']) / mpl.ratio;\n",
       "    x0 = Math.floor(x0) + 0.5;\n",
       "    y0 = Math.floor(y0) + 0.5;\n",
       "    x1 = Math.floor(x1) + 0.5;\n",
       "    y1 = Math.floor(y1) + 0.5;\n",
       "    var min_x = Math.min(x0, x1);\n",
       "    var min_y = Math.min(y0, y1);\n",
       "    var width = Math.abs(x1 - x0);\n",
       "    var height = Math.abs(y1 - y0);\n",
       "\n",
       "    fig.rubberband_context.clearRect(\n",
       "        0, 0, fig.canvas.width, fig.canvas.height);\n",
       "\n",
       "    fig.rubberband_context.strokeRect(min_x, min_y, width, height);\n",
       "}\n",
       "\n",
       "mpl.figure.prototype.handle_figure_label = function(fig, msg) {\n",
       "    // Updates the figure title.\n",
       "    fig.header.textContent = msg['label'];\n",
       "}\n",
       "\n",
       "mpl.figure.prototype.handle_cursor = function(fig, msg) {\n",
       "    var cursor = msg['cursor'];\n",
       "    switch(cursor)\n",
       "    {\n",
       "    case 0:\n",
       "        cursor = 'pointer';\n",
       "        break;\n",
       "    case 1:\n",
       "        cursor = 'default';\n",
       "        break;\n",
       "    case 2:\n",
       "        cursor = 'crosshair';\n",
       "        break;\n",
       "    case 3:\n",
       "        cursor = 'move';\n",
       "        break;\n",
       "    }\n",
       "    fig.rubberband_canvas.style.cursor = cursor;\n",
       "}\n",
       "\n",
       "mpl.figure.prototype.handle_message = function(fig, msg) {\n",
       "    fig.message.textContent = msg['message'];\n",
       "}\n",
       "\n",
       "mpl.figure.prototype.handle_draw = function(fig, msg) {\n",
       "    // Request the server to send over a new figure.\n",
       "    fig.send_draw_message();\n",
       "}\n",
       "\n",
       "mpl.figure.prototype.handle_image_mode = function(fig, msg) {\n",
       "    fig.image_mode = msg['mode'];\n",
       "}\n",
       "\n",
       "mpl.figure.prototype.updated_canvas_event = function() {\n",
       "    // Called whenever the canvas gets updated.\n",
       "    this.send_message(\"ack\", {});\n",
       "}\n",
       "\n",
       "// A function to construct a web socket function for onmessage handling.\n",
       "// Called in the figure constructor.\n",
       "mpl.figure.prototype._make_on_message_function = function(fig) {\n",
       "    return function socket_on_message(evt) {\n",
       "        if (evt.data instanceof Blob) {\n",
       "            /* FIXME: We get \"Resource interpreted as Image but\n",
       "             * transferred with MIME type text/plain:\" errors on\n",
       "             * Chrome.  But how to set the MIME type?  It doesn't seem\n",
       "             * to be part of the websocket stream */\n",
       "            evt.data.type = \"image/png\";\n",
       "\n",
       "            /* Free the memory for the previous frames */\n",
       "            if (fig.imageObj.src) {\n",
       "                (window.URL || window.webkitURL).revokeObjectURL(\n",
       "                    fig.imageObj.src);\n",
       "            }\n",
       "\n",
       "            fig.imageObj.src = (window.URL || window.webkitURL).createObjectURL(\n",
       "                evt.data);\n",
       "            fig.updated_canvas_event();\n",
       "            fig.waiting = false;\n",
       "            return;\n",
       "        }\n",
       "        else if (typeof evt.data === 'string' && evt.data.slice(0, 21) == \"data:image/png;base64\") {\n",
       "            fig.imageObj.src = evt.data;\n",
       "            fig.updated_canvas_event();\n",
       "            fig.waiting = false;\n",
       "            return;\n",
       "        }\n",
       "\n",
       "        var msg = JSON.parse(evt.data);\n",
       "        var msg_type = msg['type'];\n",
       "\n",
       "        // Call the  \"handle_{type}\" callback, which takes\n",
       "        // the figure and JSON message as its only arguments.\n",
       "        try {\n",
       "            var callback = fig[\"handle_\" + msg_type];\n",
       "        } catch (e) {\n",
       "            console.log(\"No handler for the '\" + msg_type + \"' message type: \", msg);\n",
       "            return;\n",
       "        }\n",
       "\n",
       "        if (callback) {\n",
       "            try {\n",
       "                // console.log(\"Handling '\" + msg_type + \"' message: \", msg);\n",
       "                callback(fig, msg);\n",
       "            } catch (e) {\n",
       "                console.log(\"Exception inside the 'handler_\" + msg_type + \"' callback:\", e, e.stack, msg);\n",
       "            }\n",
       "        }\n",
       "    };\n",
       "}\n",
       "\n",
       "// from http://stackoverflow.com/questions/1114465/getting-mouse-location-in-canvas\n",
       "mpl.findpos = function(e) {\n",
       "    //this section is from http://www.quirksmode.org/js/events_properties.html\n",
       "    var targ;\n",
       "    if (!e)\n",
       "        e = window.event;\n",
       "    if (e.target)\n",
       "        targ = e.target;\n",
       "    else if (e.srcElement)\n",
       "        targ = e.srcElement;\n",
       "    if (targ.nodeType == 3) // defeat Safari bug\n",
       "        targ = targ.parentNode;\n",
       "\n",
       "    // jQuery normalizes the pageX and pageY\n",
       "    // pageX,Y are the mouse positions relative to the document\n",
       "    // offset() returns the position of the element relative to the document\n",
       "    var x = e.pageX - $(targ).offset().left;\n",
       "    var y = e.pageY - $(targ).offset().top;\n",
       "\n",
       "    return {\"x\": x, \"y\": y};\n",
       "};\n",
       "\n",
       "/*\n",
       " * return a copy of an object with only non-object keys\n",
       " * we need this to avoid circular references\n",
       " * http://stackoverflow.com/a/24161582/3208463\n",
       " */\n",
       "function simpleKeys (original) {\n",
       "  return Object.keys(original).reduce(function (obj, key) {\n",
       "    if (typeof original[key] !== 'object')\n",
       "        obj[key] = original[key]\n",
       "    return obj;\n",
       "  }, {});\n",
       "}\n",
       "\n",
       "mpl.figure.prototype.mouse_event = function(event, name) {\n",
       "    var canvas_pos = mpl.findpos(event)\n",
       "\n",
       "    if (name === 'button_press')\n",
       "    {\n",
       "        this.canvas.focus();\n",
       "        this.canvas_div.focus();\n",
       "    }\n",
       "\n",
       "    var x = canvas_pos.x * mpl.ratio;\n",
       "    var y = canvas_pos.y * mpl.ratio;\n",
       "\n",
       "    this.send_message(name, {x: x, y: y, button: event.button,\n",
       "                             step: event.step,\n",
       "                             guiEvent: simpleKeys(event)});\n",
       "\n",
       "    /* This prevents the web browser from automatically changing to\n",
       "     * the text insertion cursor when the button is pressed.  We want\n",
       "     * to control all of the cursor setting manually through the\n",
       "     * 'cursor' event from matplotlib */\n",
       "    event.preventDefault();\n",
       "    return false;\n",
       "}\n",
       "\n",
       "mpl.figure.prototype._key_event_extra = function(event, name) {\n",
       "    // Handle any extra behaviour associated with a key event\n",
       "}\n",
       "\n",
       "mpl.figure.prototype.key_event = function(event, name) {\n",
       "\n",
       "    // Prevent repeat events\n",
       "    if (name == 'key_press')\n",
       "    {\n",
       "        if (event.which === this._key)\n",
       "            return;\n",
       "        else\n",
       "            this._key = event.which;\n",
       "    }\n",
       "    if (name == 'key_release')\n",
       "        this._key = null;\n",
       "\n",
       "    var value = '';\n",
       "    if (event.ctrlKey && event.which != 17)\n",
       "        value += \"ctrl+\";\n",
       "    if (event.altKey && event.which != 18)\n",
       "        value += \"alt+\";\n",
       "    if (event.shiftKey && event.which != 16)\n",
       "        value += \"shift+\";\n",
       "\n",
       "    value += 'k';\n",
       "    value += event.which.toString();\n",
       "\n",
       "    this._key_event_extra(event, name);\n",
       "\n",
       "    this.send_message(name, {key: value,\n",
       "                             guiEvent: simpleKeys(event)});\n",
       "    return false;\n",
       "}\n",
       "\n",
       "mpl.figure.prototype.toolbar_button_onclick = function(name) {\n",
       "    if (name == 'download') {\n",
       "        this.handle_save(this, null);\n",
       "    } else {\n",
       "        this.send_message(\"toolbar_button\", {name: name});\n",
       "    }\n",
       "};\n",
       "\n",
       "mpl.figure.prototype.toolbar_button_onmouseover = function(tooltip) {\n",
       "    this.message.textContent = tooltip;\n",
       "};\n",
       "mpl.toolbar_items = [[\"Home\", \"Reset original view\", \"fa fa-home icon-home\", \"home\"], [\"Back\", \"Back to previous view\", \"fa fa-arrow-left icon-arrow-left\", \"back\"], [\"Forward\", \"Forward to next view\", \"fa fa-arrow-right icon-arrow-right\", \"forward\"], [\"\", \"\", \"\", \"\"], [\"Pan\", \"Pan axes with left mouse, zoom with right\", \"fa fa-arrows icon-move\", \"pan\"], [\"Zoom\", \"Zoom to rectangle\", \"fa fa-square-o icon-check-empty\", \"zoom\"], [\"\", \"\", \"\", \"\"], [\"Download\", \"Download plot\", \"fa fa-floppy-o icon-save\", \"download\"]];\n",
       "\n",
       "mpl.extensions = [\"eps\", \"pdf\", \"png\", \"ps\", \"raw\", \"svg\"];\n",
       "\n",
       "mpl.default_extension = \"png\";var comm_websocket_adapter = function(comm) {\n",
       "    // Create a \"websocket\"-like object which calls the given IPython comm\n",
       "    // object with the appropriate methods. Currently this is a non binary\n",
       "    // socket, so there is still some room for performance tuning.\n",
       "    var ws = {};\n",
       "\n",
       "    ws.close = function() {\n",
       "        comm.close()\n",
       "    };\n",
       "    ws.send = function(m) {\n",
       "        //console.log('sending', m);\n",
       "        comm.send(m);\n",
       "    };\n",
       "    // Register the callback with on_msg.\n",
       "    comm.on_msg(function(msg) {\n",
       "        //console.log('receiving', msg['content']['data'], msg);\n",
       "        // Pass the mpl event to the overridden (by mpl) onmessage function.\n",
       "        ws.onmessage(msg['content']['data'])\n",
       "    });\n",
       "    return ws;\n",
       "}\n",
       "\n",
       "mpl.mpl_figure_comm = function(comm, msg) {\n",
       "    // This is the function which gets called when the mpl process\n",
       "    // starts-up an IPython Comm through the \"matplotlib\" channel.\n",
       "\n",
       "    var id = msg.content.data.id;\n",
       "    // Get hold of the div created by the display call when the Comm\n",
       "    // socket was opened in Python.\n",
       "    var element = $(\"#\" + id);\n",
       "    var ws_proxy = comm_websocket_adapter(comm)\n",
       "\n",
       "    function ondownload(figure, format) {\n",
       "        window.open(figure.imageObj.src);\n",
       "    }\n",
       "\n",
       "    var fig = new mpl.figure(id, ws_proxy,\n",
       "                           ondownload,\n",
       "                           element.get(0));\n",
       "\n",
       "    // Call onopen now - mpl needs it, as it is assuming we've passed it a real\n",
       "    // web socket which is closed, not our websocket->open comm proxy.\n",
       "    ws_proxy.onopen();\n",
       "\n",
       "    fig.parent_element = element.get(0);\n",
       "    fig.cell_info = mpl.find_output_cell(\"<div id='\" + id + \"'></div>\");\n",
       "    if (!fig.cell_info) {\n",
       "        console.error(\"Failed to find cell for figure\", id, fig);\n",
       "        return;\n",
       "    }\n",
       "\n",
       "    var output_index = fig.cell_info[2]\n",
       "    var cell = fig.cell_info[0];\n",
       "\n",
       "};\n",
       "\n",
       "mpl.figure.prototype.handle_close = function(fig, msg) {\n",
       "    var width = fig.canvas.width/mpl.ratio\n",
       "    fig.root.unbind('remove')\n",
       "\n",
       "    // Update the output cell to use the data from the current canvas.\n",
       "    fig.push_to_output();\n",
       "    var dataURL = fig.canvas.toDataURL();\n",
       "    // Re-enable the keyboard manager in IPython - without this line, in FF,\n",
       "    // the notebook keyboard shortcuts fail.\n",
       "    IPython.keyboard_manager.enable()\n",
       "    $(fig.parent_element).html('<img src=\"' + dataURL + '\" width=\"' + width + '\">');\n",
       "    fig.close_ws(fig, msg);\n",
       "}\n",
       "\n",
       "mpl.figure.prototype.close_ws = function(fig, msg){\n",
       "    fig.send_message('closing', msg);\n",
       "    // fig.ws.close()\n",
       "}\n",
       "\n",
       "mpl.figure.prototype.push_to_output = function(remove_interactive) {\n",
       "    // Turn the data on the canvas into data in the output cell.\n",
       "    var width = this.canvas.width/mpl.ratio\n",
       "    var dataURL = this.canvas.toDataURL();\n",
       "    this.cell_info[1]['text/html'] = '<img src=\"' + dataURL + '\" width=\"' + width + '\">';\n",
       "}\n",
       "\n",
       "mpl.figure.prototype.updated_canvas_event = function() {\n",
       "    // Tell IPython that the notebook contents must change.\n",
       "    IPython.notebook.set_dirty(true);\n",
       "    this.send_message(\"ack\", {});\n",
       "    var fig = this;\n",
       "    // Wait a second, then push the new image to the DOM so\n",
       "    // that it is saved nicely (might be nice to debounce this).\n",
       "    setTimeout(function () { fig.push_to_output() }, 1000);\n",
       "}\n",
       "\n",
       "mpl.figure.prototype._init_toolbar = function() {\n",
       "    var fig = this;\n",
       "\n",
       "    var nav_element = $('<div/>')\n",
       "    nav_element.attr('style', 'width: 100%');\n",
       "    this.root.append(nav_element);\n",
       "\n",
       "    // Define a callback function for later on.\n",
       "    function toolbar_event(event) {\n",
       "        return fig.toolbar_button_onclick(event['data']);\n",
       "    }\n",
       "    function toolbar_mouse_event(event) {\n",
       "        return fig.toolbar_button_onmouseover(event['data']);\n",
       "    }\n",
       "\n",
       "    for(var toolbar_ind in mpl.toolbar_items){\n",
       "        var name = mpl.toolbar_items[toolbar_ind][0];\n",
       "        var tooltip = mpl.toolbar_items[toolbar_ind][1];\n",
       "        var image = mpl.toolbar_items[toolbar_ind][2];\n",
       "        var method_name = mpl.toolbar_items[toolbar_ind][3];\n",
       "\n",
       "        if (!name) { continue; };\n",
       "\n",
       "        var button = $('<button class=\"btn btn-default\" href=\"#\" title=\"' + name + '\"><i class=\"fa ' + image + ' fa-lg\"></i></button>');\n",
       "        button.click(method_name, toolbar_event);\n",
       "        button.mouseover(tooltip, toolbar_mouse_event);\n",
       "        nav_element.append(button);\n",
       "    }\n",
       "\n",
       "    // Add the status bar.\n",
       "    var status_bar = $('<span class=\"mpl-message\" style=\"text-align:right; float: right;\"/>');\n",
       "    nav_element.append(status_bar);\n",
       "    this.message = status_bar[0];\n",
       "\n",
       "    // Add the close button to the window.\n",
       "    var buttongrp = $('<div class=\"btn-group inline pull-right\"></div>');\n",
       "    var button = $('<button class=\"btn btn-mini btn-primary\" href=\"#\" title=\"Stop Interaction\"><i class=\"fa fa-power-off icon-remove icon-large\"></i></button>');\n",
       "    button.click(function (evt) { fig.handle_close(fig, {}); } );\n",
       "    button.mouseover('Stop Interaction', toolbar_mouse_event);\n",
       "    buttongrp.append(button);\n",
       "    var titlebar = this.root.find($('.ui-dialog-titlebar'));\n",
       "    titlebar.prepend(buttongrp);\n",
       "}\n",
       "\n",
       "mpl.figure.prototype._root_extra_style = function(el){\n",
       "    var fig = this\n",
       "    el.on(\"remove\", function(){\n",
       "\tfig.close_ws(fig, {});\n",
       "    });\n",
       "}\n",
       "\n",
       "mpl.figure.prototype._canvas_extra_style = function(el){\n",
       "    // this is important to make the div 'focusable\n",
       "    el.attr('tabindex', 0)\n",
       "    // reach out to IPython and tell the keyboard manager to turn it's self\n",
       "    // off when our div gets focus\n",
       "\n",
       "    // location in version 3\n",
       "    if (IPython.notebook.keyboard_manager) {\n",
       "        IPython.notebook.keyboard_manager.register_events(el);\n",
       "    }\n",
       "    else {\n",
       "        // location in version 2\n",
       "        IPython.keyboard_manager.register_events(el);\n",
       "    }\n",
       "\n",
       "}\n",
       "\n",
       "mpl.figure.prototype._key_event_extra = function(event, name) {\n",
       "    var manager = IPython.notebook.keyboard_manager;\n",
       "    if (!manager)\n",
       "        manager = IPython.keyboard_manager;\n",
       "\n",
       "    // Check for shift+enter\n",
       "    if (event.shiftKey && event.which == 13) {\n",
       "        this.canvas_div.blur();\n",
       "        event.shiftKey = false;\n",
       "        // Send a \"J\" for go to next cell\n",
       "        event.which = 74;\n",
       "        event.keyCode = 74;\n",
       "        manager.command_mode();\n",
       "        manager.handle_keydown(event);\n",
       "    }\n",
       "}\n",
       "\n",
       "mpl.figure.prototype.handle_save = function(fig, msg) {\n",
       "    fig.ondownload(fig, null);\n",
       "}\n",
       "\n",
       "\n",
       "mpl.find_output_cell = function(html_output) {\n",
       "    // Return the cell and output element which can be found *uniquely* in the notebook.\n",
       "    // Note - this is a bit hacky, but it is done because the \"notebook_saving.Notebook\"\n",
       "    // IPython event is triggered only after the cells have been serialised, which for\n",
       "    // our purposes (turning an active figure into a static one), is too late.\n",
       "    var cells = IPython.notebook.get_cells();\n",
       "    var ncells = cells.length;\n",
       "    for (var i=0; i<ncells; i++) {\n",
       "        var cell = cells[i];\n",
       "        if (cell.cell_type === 'code'){\n",
       "            for (var j=0; j<cell.output_area.outputs.length; j++) {\n",
       "                var data = cell.output_area.outputs[j];\n",
       "                if (data.data) {\n",
       "                    // IPython >= 3 moved mimebundle to data attribute of output\n",
       "                    data = data.data;\n",
       "                }\n",
       "                if (data['text/html'] == html_output) {\n",
       "                    return [cell, data, j];\n",
       "                }\n",
       "            }\n",
       "        }\n",
       "    }\n",
       "}\n",
       "\n",
       "// Register the function which deals with the matplotlib target/channel.\n",
       "// The kernel may be null if the page has been refreshed.\n",
       "if (IPython.notebook.kernel != null) {\n",
       "    IPython.notebook.kernel.comm_manager.register_target('matplotlib', mpl.mpl_figure_comm);\n",
       "}\n"
      ],
      "text/plain": [
       "<IPython.core.display.Javascript object>"
      ]
     },
     "metadata": {},
     "output_type": "display_data"
    },
    {
     "data": {
      "text/html": [
       "<img src=\"data:image/png;base64,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\" width=\"640\">"
      ],
      "text/plain": [
       "<IPython.core.display.HTML object>"
      ]
     },
     "metadata": {},
     "output_type": "display_data"
    },
    {
     "data": {
      "text/plain": [
       "Text(0.5, 0, 'z')"
      ]
     },
     "execution_count": 91,
     "metadata": {},
     "output_type": "execute_result"
    }
   ],
   "source": [
    "from mpl_toolkits.mplot3d import Axes3D\n",
    "fig = plt.figure()\n",
    "ax = fig.add_subplot(111, projection=\"3d\")\n",
    "phase_l = phase(tlist)\n",
    "Omega_l = Omega(tlist)\n",
    "phi_ext_l = phi_ext_t(tlist)\n",
    "ax.plot(Omega_l*np.cos(phase_l), Omega_l*np.sin(phase_l), phi_ext_l)\n",
    "ax.set_xlabel(\"x\")\n",
    "ax.set_ylabel(\"y\")\n",
    "ax.set_zlabel(\"z\")"
   ]
  },
  {
   "cell_type": "markdown",
   "metadata": {},
   "source": [
    "### Direct numerical solution"
   ]
  },
  {
   "cell_type": "code",
   "execution_count": 92,
   "metadata": {
    "ExecuteTime": {
     "end_time": "2022-05-17T19:29:38.712450Z",
     "start_time": "2022-05-17T19:29:38.697485Z"
    }
   },
   "outputs": [],
   "source": [
    "def fr_t(t, args_dict):\n",
    "    alpha1 = args_dict[\"alpha1\"]\n",
    "    alpha2 = args_dict[\"alpha2\"]\n",
    "    phi_ext = phi_ext_t(t)\n",
    "    return np.exp(-1j*alpha1*phi_ext)+alpha*np.exp(-1j*alpha2*phi_ext)\n",
    "\n",
    "def fl_t(t, args_dict):\n",
    "    alpha1 = args_dict[\"alpha1\"]\n",
    "    alpha2 = args_dict[\"alpha2\"]\n",
    "    phi_ext = phi_ext_t(t)\n",
    "    return np.exp(1j*alpha1*phi_ext)+alpha*np.exp(1j*alpha2*phi_ext)\n",
    "\n",
    "def fc_t(t, args_dict):\n",
    "    return Omega(t)*np.cos(phase(t))\n",
    "\n",
    "n = qp.charge(Nc)\n",
    "Hc = Ec*n**2\n",
    "H = [\n",
    "    Hc,\n",
    "    [n, fc_t],\n",
    "    [Ej*raising_op(dims), fr_t],\n",
    "    [Ej*lowering_op(dims), fl_t]\n",
    "]"
   ]
  },
  {
   "cell_type": "markdown",
   "metadata": {},
   "source": [
    "initial state is $|e(\\phi_{ext}=\\Omega=0)\\rangle$"
   ]
  },
  {
   "cell_type": "code",
   "execution_count": 93,
   "metadata": {
    "ExecuteTime": {
     "end_time": "2022-05-17T19:29:40.089254Z",
     "start_time": "2022-05-17T19:29:40.067265Z"
    }
   },
   "outputs": [
    {
     "data": {
      "text/latex": [
       "Quantum object: dims = [[21], [1]], shape = (21, 1), type = ket\\begin{equation*}\\left(\\begin{array}{*{11}c}1.285\\times10^{-04}\\\\-5.971\\times10^{-04}\\\\0.002\\\\-0.008\\\\0.023\\\\\\vdots\\\\0.023\\\\-0.008\\\\0.002\\\\-5.971\\times10^{-04}\\\\1.285\\times10^{-04}\\\\\\end{array}\\right)\\end{equation*}"
      ],
      "text/plain": [
       "Quantum object: dims = [[21], [1]], shape = (21, 1), type = ket\n",
       "Qobj data =\n",
       "[[ 1.28496147e-04]\n",
       " [-5.97115095e-04]\n",
       " [ 2.32713998e-03]\n",
       " [-7.86043155e-03]\n",
       " [ 2.29235218e-02]\n",
       " [-5.73959680e-02]\n",
       " [ 1.22706272e-01]\n",
       " [-2.22880205e-01]\n",
       " [ 3.42493839e-01]\n",
       " [-4.43810065e-01]\n",
       " [ 4.83964506e-01]\n",
       " [-4.43810065e-01]\n",
       " [ 3.42493839e-01]\n",
       " [-2.22880205e-01]\n",
       " [ 1.22706272e-01]\n",
       " [-5.73959680e-02]\n",
       " [ 2.29235218e-02]\n",
       " [-7.86043155e-03]\n",
       " [ 2.32713998e-03]\n",
       " [-5.97115095e-04]\n",
       " [ 1.28496147e-04]]"
      ]
     },
     "execution_count": 93,
     "metadata": {},
     "output_type": "execute_result"
    }
   ],
   "source": [
    "phi0 = 0\n",
    "pars_list = [TmonPars(Ec, Ej, alpha, phi0, phi0, gamma_rel, gamma_phi)]\n",
    "tr = Transmon(pars_list, Nc=Nc, res_trunc=3, index=None)\n",
    "\n",
    "sols = tr.solve()\n",
    "psi0 = sols[0].evecs[0]\n",
    "psi0"
   ]
  },
  {
   "cell_type": "code",
   "execution_count": 94,
   "metadata": {
    "ExecuteTime": {
     "end_time": "2022-05-17T19:29:40.469721Z",
     "start_time": "2022-05-17T19:29:40.461351Z"
    }
   },
   "outputs": [
    {
     "data": {
      "text/plain": [
       "99.99999999999999"
      ]
     },
     "execution_count": 94,
     "metadata": {},
     "output_type": "execute_result"
    }
   ],
   "source": [
    "T = 2*np.pi/omega\n",
    "T  # ns"
   ]
  },
  {
   "cell_type": "code",
   "execution_count": 95,
   "metadata": {
    "ExecuteTime": {
     "end_time": "2022-05-17T19:29:44.046817Z",
     "start_time": "2022-05-17T19:29:40.967014Z"
    }
   },
   "outputs": [
    {
     "name": "stdout",
     "output_type": "stream",
     "text": [
      "10.1%. Run time:   0.31s. Est. time left: 00:00:00:02\n",
      "20.1%. Run time:   0.61s. Est. time left: 00:00:00:02\n",
      "30.1%. Run time:   0.91s. Est. time left: 00:00:00:02\n",
      "40.1%. Run time:   1.21s. Est. time left: 00:00:00:01\n",
      "50.0%. Run time:   1.51s. Est. time left: 00:00:00:01\n",
      "60.0%. Run time:   1.82s. Est. time left: 00:00:00:01\n",
      "70.0%. Run time:   2.12s. Est. time left: 00:00:00:00\n",
      "80.0%. Run time:   2.42s. Est. time left: 00:00:00:00\n",
      "90.0%. Run time:   2.77s. Est. time left: 00:00:00:00\n",
      "Total run time:   3.06s\n"
     ]
    }
   ],
   "source": [
    "args_dict = {\n",
    "    \"alpha1\": 0.3,\n",
    "    \"alpha2\": 0.7\n",
    "}\n",
    "try:\n",
    "   res = qp.sesolve(H, psi0, tlist, args=args_dict, progress_bar=True)\n",
    "except Exception as e:\n",
    "    print(e)"
   ]
  },
  {
   "cell_type": "code",
   "execution_count": 96,
   "metadata": {
    "ExecuteTime": {
     "end_time": "2022-05-17T19:29:44.848103Z",
     "start_time": "2022-05-17T19:29:44.833104Z"
    }
   },
   "outputs": [
    {
     "data": {
      "text/plain": [
       "0.9960045341084137"
      ]
     },
     "execution_count": 96,
     "metadata": {},
     "output_type": "execute_result"
    }
   ],
   "source": [
    "np.abs(res.states[-1].overlap(res.states[0]))"
   ]
  },
  {
   "cell_type": "markdown",
   "metadata": {},
   "source": [
    "# Time domain qp.mesolve"
   ]
  },
  {
   "cell_type": "code",
   "execution_count": null,
   "metadata": {
    "ExecuteTime": {
     "end_time": "2022-04-22T18:34:15.474535Z",
     "start_time": "2022-04-22T18:34:15.456523Z"
    }
   },
   "outputs": [],
   "source": [
    "def fl_t(t, args):\n",
    "    w = args[\"pulse_omega\"]\n",
    "    phase_amp = args[\"phase_amp\"]\n",
    "    alpha = args[\"alpha\"]\n",
    "    Ej_l = alpha*args[\"Ej\"]\n",
    "    return Ej_l*np.exp(-1j*phase_amp*np.sin(w*t))/2\n",
    "\n",
    "def fr_t(t, args):\n",
    "    w = args[\"pulse_omega\"]\n",
    "    phase_amp = args[\"phase_amp\"]\n",
    "    alpha = args[\"alpha\"]\n",
    "    Ej_r = args[\"Ej\"]\n",
    "    return Ej_r*np.exp(1j*phase_amp*np.sin(w*t))/2\n",
    "\n",
    "H0 = Ec*qp.charge(Nc)**2\n",
    "H1 = qp.Qobj(raising_op(dims))\n",
    "H2 = qp.Qobj(lowering_op(dims))\n",
    "H_list_callback = [H0, [H1, fl_t], [H2, fr_t]]\n",
    "rho_0 = qp.ket2dm(sols1[0].e_state())\n",
    "tlist = np.linspace(0,20,201)"
   ]
  },
  {
   "cell_type": "code",
   "execution_count": null,
   "metadata": {},
   "outputs": [],
   "source": [
    "sols1[0].e_state()"
   ]
  },
  {
   "cell_type": "code",
   "execution_count": null,
   "metadata": {
    "ExecuteTime": {
     "end_time": "2022-04-22T18:34:15.474535Z",
     "start_time": "2022-04-22T18:34:15.456523Z"
    },
    "scrolled": true
   },
   "outputs": [],
   "source": [
    "args_dict = {\n",
    "    \"pulse_omega\": 2e-3,  # GHz\n",
    "    \"phase_amp\": np.pi/4,\n",
    "    \"alpha\": alpha,\n",
    "    \"Ej\": Ej\n",
    "}\n",
    "sesolve_res = qp.sesolve(H_list_callback, sols1[0].e_state(), tlist, args=args_dict, progress_bar=True)"
   ]
  },
  {
   "cell_type": "code",
   "execution_count": null,
   "metadata": {},
   "outputs": [],
   "source": [
    "sesolve_res.states[1]"
   ]
  },
  {
   "cell_type": "code",
   "execution_count": null,
   "metadata": {},
   "outputs": [],
   "source": [
    "b3d = qp.Bloch3d()"
   ]
  },
  {
   "cell_type": "code",
   "execution_count": null,
   "metadata": {
    "ExecuteTime": {
     "end_time": "2022-04-22T18:34:15.474535Z",
     "start_time": "2022-04-22T18:34:15.456523Z"
    }
   },
   "outputs": [],
   "source": [
    "for mul in np.linspace(-1,2, 4):\n",
    "    # phi_ext pulse shape\n",
    "    for phi_ext in phi_ext_list:\n",
    "        pars = TmonPars(\n",
    "            Ec=0.6, Ej=28, alpha=0.2,\n",
    "            phiExt1=mul*phi_ext, phiExt2=(mul - 1)*phi_ext,\n",
    "            gamma_rel=0.1e-3,  # GHz\n",
    "            gamma_phi=0.5e-3,  # GHz\n",
    "        )\n",
    "        pars_list.append(pars)\n",
    "    tr = Transmon(pars=pars_list, Nc=Nc, res_trunc=res_trunc)"
   ]
  },
  {
   "cell_type": "code",
   "execution_count": null,
   "metadata": {},
   "outputs": [],
   "source": []
  },
  {
   "cell_type": "code",
   "execution_count": null,
   "metadata": {
    "ExecuteTime": {
     "end_time": "2022-04-22T18:34:16.471015Z",
     "start_time": "2022-04-22T18:34:16.459740Z"
    }
   },
   "outputs": [],
   "source": [
    "from transmon_simulations_lib.custom_ops import raising_op, lowering_op"
   ]
  },
  {
   "cell_type": "markdown",
   "metadata": {},
   "source": [
    "# Z-gate"
   ]
  },
  {
   "cell_type": "code",
   "execution_count": null,
   "metadata": {},
   "outputs": [],
   "source": [
    "import transmon_simulations_lib.single_transmon.transmon\n",
    "reload(transmon_simulations_lib.single_transmon.transmon)\n",
    "from transmon_simulations_lib.single_transmon.transmon import Transmon"
   ]
  },
  {
   "cell_type": "code",
   "execution_count": null,
   "metadata": {
    "ExecuteTime": {
     "end_time": "2022-04-22T18:09:48.097561Z",
     "start_time": "2022-04-22T18:09:44.438148Z"
    }
   },
   "outputs": [],
   "source": [
    "import scipy.signal\n",
    "def gauss(t, t0, gdt):\n",
    "    import scipy.stats\n",
    "    gauss_hat_centered = scipy.stats.norm(t0, gdt).pdf(t)\n",
    "    return gauss_hat_centered\n",
    "\n",
    "def phi(t, start, tau, gdt):\n",
    "    phi = np.zeros(t.shape)\n",
    "    phi[((t > start) & (t < start + tau))] = 1\n",
    "    if gdt != 0:\n",
    "        phi = scipy.signal.convolve(phi,gauss(t, t[-1]/2, gdt),mode='same')\n",
    "    return phi"
   ]
  },
  {
   "cell_type": "code",
   "execution_count": null,
   "metadata": {
    "ExecuteTime": {
     "end_time": "2022-04-22T18:09:48.286858Z",
     "start_time": "2022-04-22T18:09:48.099558Z"
    }
   },
   "outputs": [],
   "source": [
    "fix, ax = plt.subplots(1,1)\n",
    "pdata = gauss(Ts,Ts[-1]/2, 2)\n",
    "ax.plot(pdata)\n",
    "scipy.integrate.quad(lambda x: gauss(x,Ts[-1]/2,2), Ts[-1]/2 - 4, Ts[-1]/2 + 4)"
   ]
  },
  {
   "cell_type": "markdown",
   "metadata": {},
   "source": [
    "pulse preparation"
   ]
  },
  {
   "cell_type": "code",
   "execution_count": null,
   "metadata": {
    "ExecuteTime": {
     "end_time": "2022-04-22T18:09:48.289827Z",
     "start_time": "2022-04-22T18:09:45.280Z"
    },
    "scrolled": false
   },
   "outputs": [],
   "source": [
    "\n",
    "tau = 100  # Gate length\n",
    "dgt = 12   # typical rise-fall time of the pulse\n",
    "t_rise = 3*dgt  # several rise-fall times to ensure most pulse is in window\n",
    "t_start = t_rise  # severak rise-fall times\n",
    "Ts = np.linspace(0,t_rise + tau + t_rise,1001)\n",
    "phi_list = phi(Ts, t_start, tau, dgt)\n",
    "phi_list *= np.pi/16/np.max(phi_list)\n",
    "fig, ax = plt.subplots(1,1, figsize=(4,3))\n",
    "ax.plot(Ts, phi_list)\n",
    "ax.set_xlabel(\"ns\")\n",
    "ax.set_ylabel(\"rad\")\n",
    "fig.tight_layout()"
   ]
  },
  {
   "cell_type": "markdown",
   "metadata": {},
   "source": [
    "### Case I"
   ]
  },
  {
   "cell_type": "code",
   "execution_count": null,
   "metadata": {},
   "outputs": [],
   "source": [
    "tr = Transmon(Ec1, Ej1, alpha=alpha, phi=0, Nc=10)\n",
    "first_evecs_N = 5\n",
    "first_evecs = tr.solve()[0].evecs[:first_evecs_N]\n",
    "H_list = [tr.calc_Hfull_cb(phi) for phi in phi_list]\n",
    "def H_callback(t, *args):\n",
    "    i = np.argmin(np.abs(t-Ts))\n",
    "    return H_list[i]\n",
    "def H_0_callback(t, *args):\n",
    "    return H_list[0]\n",
    "sol = qp.sesolve(H_callback, psi1, Ts, options=qp.Options(nsteps=10000))"
   ]
  },
  {
   "cell_type": "code",
   "execution_count": null,
   "metadata": {},
   "outputs": [],
   "source": [
    "fig, ax = plt.subplots(1,1)\n",
    "\n",
    "projs = []\n",
    "for evec in first_evecs:\n",
    "    bra_vec = evec.dag()\n",
    "    projs.append(np.array([(bra_vec*state_ket)[0,0] for state_ket in sol.states]))\n",
    "projs = np.array(projs)\n",
    "\n",
    "for i, proj in enumerate(projs):\n",
    "    label_str = r\"$P_{1 \\rightarrow \" + f\"{i}\" + r\" }$\"\n",
    "    ax.plot(Ts, np.abs(proj)**2, label=label_str)\n",
    "s = np.sum(np.abs(projs)**2, axis=0)\n",
    "ax.plot(Ts, s, label=\"total population of first \\n\" + str(len(projs)) + r\" eigenstates in $\\phi_{ext} = 0$ basis\")\n",
    "ax.legend()\n",
    "ax.set_xlabel(\"ns\")\n",
    "ax.set_ylim(-0.05, 1.05)"
   ]
  },
  {
   "cell_type": "markdown",
   "metadata": {},
   "source": [
    "### Case II"
   ]
  },
  {
   "cell_type": "code",
   "execution_count": null,
   "metadata": {},
   "outputs": [],
   "source": [
    "tr = Transmon(Ec1, Ej1, alpha=alpha, phi=0, Nc=10)\n",
    "first_evecs_N = 5\n",
    "first_evecs = tr.solve()[0].evecs[:first_evecs_N]\n",
    "H_list = [tr.calc_Hfull_cb2(phi) for phi in phi_list]\n",
    "def H_callback(t, *args):\n",
    "    i = np.argmin(np.abs(t-Ts))\n",
    "    return H_list[i]\n",
    "def H_0_callback(t, *args):\n",
    "    return H_list[0]\n",
    "sol = qp.sesolve(H_callback, psi1, Ts, options=qp.Options(nsteps=10000))"
   ]
  },
  {
   "cell_type": "code",
   "execution_count": null,
   "metadata": {},
   "outputs": [],
   "source": [
    "fig, ax = plt.subplots(1,1)\n",
    "\n",
    "projs = []\n",
    "for evec in first_evecs:\n",
    "    bra_vec = evec.dag()\n",
    "    projs.append(np.array([(bra_vec*state_ket)[0,0] for state_ket in sol.states]))\n",
    "projs = np.array(projs)\n",
    "\n",
    "for i, proj in enumerate(projs):\n",
    "    label_str = r\"$P_{1 \\rightarrow \" + f\"{i}\" + r\" }$\"\n",
    "    ax.plot(Ts, np.abs(proj)**2, label=label_str)\n",
    "s = np.sum(np.abs(projs)**2, axis=0)\n",
    "ax.plot(Ts, s, label=\"total population of first \\n\" + str(len(projs)) + r\" eigenstates in $\\phi_{ext} = 0$ basis\")\n",
    "ax.legend()\n",
    "ax.set_xlabel(\"ns\")\n",
    "ax.set_ylim(-0.05, 1.05)"
   ]
  },
  {
   "cell_type": "markdown",
   "metadata": {},
   "source": [
    "# Not sorted"
   ]
  },
  {
   "cell_type": "code",
   "execution_count": null,
   "metadata": {
    "scrolled": true
   },
   "outputs": [],
   "source": [
    "# qubit 1 jumps from phi = 0 to phi = pi/2 and back\n",
    "# qubit 2 resides in phi = pi/2\n",
    "phi_list_cache = np.linspace(0, np.pi/2, int(1e2))\n",
    "\n",
    "if __name__ == '__main__':\n",
    "    mp.freeze_support()\n",
    "    args = []\n",
    "from single_transmon.transmon import foo\n",
    "def foo(args):\n",
    "    return args[\"phi_offset\"]\n",
    "for phi in phi_list_cache:\n",
    "    args.append({\"phi_offset\": phi})\n",
    "with mp.Pool(mp.cpu_count()-1) as p:\n",
    "    res = list(p.map(foo, tqdm.tqdm(args)))"
   ]
  },
  {
   "cell_type": "code",
   "execution_count": null,
   "metadata": {},
   "outputs": [],
   "source": []
  },
  {
   "cell_type": "code",
   "execution_count": null,
   "metadata": {},
   "outputs": [],
   "source": []
  },
  {
   "cell_type": "code",
   "execution_count": null,
   "metadata": {},
   "outputs": [],
   "source": []
  },
  {
   "cell_type": "code",
   "execution_count": null,
   "metadata": {},
   "outputs": [],
   "source": []
  },
  {
   "cell_type": "code",
   "execution_count": null,
   "metadata": {},
   "outputs": [],
   "source": []
  },
  {
   "cell_type": "code",
   "execution_count": null,
   "metadata": {},
   "outputs": [],
   "source": [
    "chain = TransmonChain(4, transmon_truncation = 3)\n",
    "chain.set_phi((params['phi_base_level'] + params['phi_offset'],params['phi2z_base_level'],0.6,0.7))\n",
    "chain._transmons = [tr1, tr2,tr3,tr4]\n",
    "chain.set_J([0.01/1.2**2 * 2 * np.pi/5, 0.01/1.2**2 * 2 * np.pi/5, 0.01/1.2**2 * 2 * np.pi/5, 0.01/1.2**2 * 2 * np.pi/5])\n",
    "chain.build_low_energy_kets(2,0)\n",
    "chain._Ts = Ts\n",
    "rho0 = [ket2dm(basis(3,0)),ket2dm(basis(3,0)),ket2dm(basis(3,0)),ket2dm(basis(3,0))]\n",
    "rho0 = tensor(*rho0)\n",
    "rho0 = chain.truncate_to_low_population_subspace(rho0)\n",
    "chain.rho0 = rho0\n",
    "sigma_z_chain = []\n",
    "sigma_x_chain = []\n",
    "sigma_y_chain = []\n",
    "for i in range (4): #TO DO - вынести в функцию класса\n",
    "    sigma_z = chain._transmons[i].sz()\n",
    "    sigma_x = chain._transmons[i].sx()\n",
    "    sigma_y = chain._transmons[i].sy()\n",
    "    oper_z = chain._identity_array.copy()\n",
    "    oper_z[i]=sigma_z\n",
    "    oper_x = chain._identity_array.copy()\n",
    "    oper_x[i]=sigma_x\n",
    "    oper_y = chain._identity_array.copy()\n",
    "    oper_y[i]=sigma_y\n",
    "    sigma_z_chain.append(chain.truncate_to_low_population_subspace(tensor(*oper_z)))\n",
    "    sigma_x_chain.append(chain.truncate_to_low_population_subspace(tensor(*oper_x)))\n",
    "    sigma_y_chain.append(chain.truncate_to_low_population_subspace(tensor(*oper_y)))\n",
    "\n",
    "chain.e_ops = sigma_z_chain + sigma_x_chain + sigma_y_chain\n"
   ]
  },
  {
   "cell_type": "markdown",
   "metadata": {},
   "source": [
    "# Свободная эволюция системы"
   ]
  },
  {
   "cell_type": "markdown",
   "metadata": {},
   "source": [
    "### 1й и 2й кубит в цепочке в резонансе, изначально первый кубит возбуждён"
   ]
  },
  {
   "cell_type": "code",
   "execution_count": null,
   "metadata": {},
   "outputs": [],
   "source": [
    "rho0 = [ket2dm(basis(3,0)),ket2dm(basis(3,0)),ket2dm(basis(3,0)),ket2dm(basis(3,0))]\n",
    "rho0[0] = ket2dm((basis(3,1) + basis(3,0))/sqrt(2)) # задаём начальное состояние 1го кубита\n",
    "rho0 = tensor(*rho0)\n",
    "rho0 = chain.truncate_to_low_population_subspace(rho0)\n",
    "waveform1_const = ones_like(Ts)*(params['phi_base_level']+params['phi_offset'])\n",
    "waveform2_const = ones_like(Ts)*(params['phi2z_base_level'])\n",
    "waveform3_const = ones_like(Ts)*0.6\n",
    "waveform4_const = ones_like(Ts)*0.7\n",
    "\n",
    "\n",
    "H_full_test = chain.build_H_full([waveform1_const, waveform2_const, waveform3_const, waveform4_const], \n",
    "                                 params, [[0,0],[0,0],[0,0],[0,0]] )\n",
    "\n",
    "result = mesolve(H_full_test, rho0, Ts, \n",
    "                 c_ops = [],e_ops = chain.e_ops,\n",
    "                 progress_bar=True,options=Options(nsteps = 20000, store_states = True, max_step = 1e-1))"
   ]
  },
  {
   "cell_type": "code",
   "execution_count": null,
   "metadata": {},
   "outputs": [],
   "source": [
    "chain.plot_chain_dynamic(result)"
   ]
  },
  {
   "cell_type": "markdown",
   "metadata": {},
   "source": [
    "## Эволюция под действием внешнего поля"
   ]
  },
  {
   "cell_type": "markdown",
   "metadata": {},
   "source": [
    "### Кубиты не в резонансе, поле действует на первый и третий кубиты"
   ]
  },
  {
   "cell_type": "code",
   "execution_count": null,
   "metadata": {},
   "outputs": [],
   "source": [
    "chain.set_phi((params['phi_base_level'],params['phi2z_base_level'],0.6,0.7))"
   ]
  },
  {
   "cell_type": "code",
   "execution_count": null,
   "metadata": {},
   "outputs": [],
   "source": [
    "waveform1_const = ones_like(Ts)*(params['phi_base_level'])\n",
    "waveform2_const = ones_like(Ts)*(params['phi2z_base_level'])\n",
    "waveform3_const = ones_like(Ts)*0.6\n",
    "waveform4_const = ones_like(Ts)*0.7"
   ]
  },
  {
   "cell_type": "code",
   "execution_count": null,
   "metadata": {},
   "outputs": [],
   "source": [
    "H_full = chain.build_H_full([waveform1_const, waveform2_const, waveform3_const, waveform4_const], \n",
    "                                 params, [[T._pi_duration,0],[0,0],[T._pi_duration/2,0],[0,0]] )\n",
    "\n",
    "result = mesolve(H_full, chain.rho0, Ts, \n",
    "                 c_ops = [],e_ops = chain.e_ops,\n",
    "                 progress_bar=True,options=Options(nsteps = 20000, store_states = True, max_step = 1e-1))\n",
    "\n",
    "chain.plot_chain_dynamic(result)"
   ]
  },
  {
   "cell_type": "markdown",
   "metadata": {},
   "source": [
    "### 1й, 2й и 3й кубиты в резонансе, поле действует на первый"
   ]
  },
  {
   "cell_type": "code",
   "execution_count": null,
   "metadata": {},
   "outputs": [],
   "source": [
    "waveform1_const = ones_like(Ts)*(params['phi_base_level'] + params['phi_offset'] )\n",
    "waveform2_const = ones_like(Ts)*(params['phi2z_base_level'])\n",
    "waveform3_const = ones_like(Ts)*(params['phi2z_base_level'])\n",
    "waveform4_const = ones_like(Ts)*0.7\n",
    "chain.set_phi((params['phi_base_level'] + params['phi_offset'],params['phi2z_base_level'],params['phi2z_base_level'],0.7))\n",
    "\n",
    "H_full = chain.build_H_full([waveform1_const, waveform2_const, waveform3_const, waveform4_const], \n",
    "                                 params, [[T._pi_duration,0],[0,0],[0,0],[0,0]] )\n",
    "\n",
    "result = mesolve(H_full, chain.rho0, Ts, \n",
    "                 c_ops = [],e_ops = chain.e_ops,\n",
    "                 progress_bar=True,options=Options(nsteps = 20000, store_states = True, max_step = 1e-1))\n",
    "\n",
    "chain.plot_chain_dynamic(result)"
   ]
  },
  {
   "cell_type": "markdown",
   "metadata": {},
   "source": [
    "## Vacuum rabi oscillations"
   ]
  },
  {
   "cell_type": "markdown",
   "metadata": {},
   "source": [
    "Приготавливаем первый кубит в возбуждённом состоянии, затем на какое-то время перестраиваем его по потоку. При попадании в резонанс со вторым кубитом наблюдаются осцилляции заселённости возбуждённого состояния 1-го и 2-го кубитов. Можно построить зависимость заселённости второго кубита от отстройки по потоку и времени взаимодействия. "
   ]
  },
  {
   "cell_type": "code",
   "execution_count": null,
   "metadata": {},
   "outputs": [],
   "source": [
    "signal = ZPulse(Ts,params)\n",
    "chain.set_phi((params['phi_base_level'],params['phi2z_base_level'],0.6,0.7))\n",
    "\n"
   ]
  },
  {
   "cell_type": "markdown",
   "metadata": {},
   "source": [
    "## Форма потокового импульса, подающегося на первый кубит (для одного значения параметров)"
   ]
  },
  {
   "cell_type": "code",
   "execution_count": null,
   "metadata": {
    "scrolled": true
   },
   "outputs": [],
   "source": [
    "figure()\n",
    "plot(Ts, vacuum_rabi_waveform(200, 0.03, Ts, params)[0])"
   ]
  },
  {
   "cell_type": "code",
   "execution_count": null,
   "metadata": {},
   "outputs": [],
   "source": [
    "##special for windows \n",
    "durations = linspace (50, 250, 50)\n",
    "phis = linspace (0.025, 0.035, 200)\n",
    "size = len(phis)\n",
    "args = []\n",
    "for ind, phi in enumerate (phis):\n",
    "    dict_arg = {'chain' : chain, 'params' : params, 'durations' : durations, 'phi_offset' : phi}\n",
    "    args.append(dict_arg)\n",
    "    \n",
    "if __name__=='__main__':\n",
    "    with Pool(4) as p:\n",
    "        populations = p.map(vacuum_rabi_populations_one_phi_windows, tqdm(args))"
   ]
  },
  {
   "cell_type": "code",
   "execution_count": null,
   "metadata": {},
   "outputs": [],
   "source": [
    "figure()\n",
    "pcolormesh(durations, phis, populations)\n",
    "colorbar()\n",
    "#savefig('01.12.2021_vacuum_rabi_4q.png')"
   ]
  },
  {
   "cell_type": "markdown",
   "metadata": {},
   "source": [
    "## Iswap Gate"
   ]
  },
  {
   "cell_type": "markdown",
   "metadata": {},
   "source": [
    "Пример эволюции кубитов при проведении гейта i-swap, первый кубит изначально переводится в состояние на экваторе сферы блоха, \n",
    "далее первый и второй кубиты переводятся в резонанс, после этого проводится фазовая коррекция с помощью Z-гейта.  "
   ]
  },
  {
   "cell_type": "code",
   "execution_count": null,
   "metadata": {},
   "outputs": [],
   "source": [
    "rho0 = [ket2dm(basis(3,0)),ket2dm(basis(3,0)),ket2dm(basis(3,0)),ket2dm(basis(3,0))]\n",
    "rho0 = tensor(*rho0)\n",
    "rho0 = chain.truncate_to_low_population_subspace(rho0)\n",
    "chain.set_phi((params['phi_base_level'],params['phi2z_base_level'],0.6,0.7))\n",
    "chain.set_J([0.01/1.2**2 * 2 * np.pi/5, 0,0,0])\n",
    "signal = ZPulse(Ts,params)\n",
    "waveform1 = signal.waveform_iswap_zgate(1)\n",
    "waveform2 = signal.waveform_iswap_zgate(2)\n",
    "waveform3_const = ones_like(Ts)*0.6\n",
    "waveform4_const = ones_like(Ts)*0.7\n",
    "H_full = chain.build_H_full([waveform1, waveform2, waveform3_const, waveform4_const], \n",
    "                                 params, [[T._pi_duration/2,0],[0,0],[0,0],[0,0]] )\n",
    "\n",
    "result = mesolve(H_full, chain.rho0, Ts, \n",
    "                 c_ops = [],e_ops = chain.e_ops,\n",
    "                 progress_bar=True,options=Options(nsteps = 20000, store_states = True, max_step = 1e-1))\n",
    "\n",
    "chain.plot_chain_dynamic(result)"
   ]
  },
  {
   "cell_type": "markdown",
   "metadata": {},
   "source": [
    "## Спектр системы в зависимости от потока через первый кубит"
   ]
  },
  {
   "cell_type": "code",
   "execution_count": null,
   "metadata": {},
   "outputs": [],
   "source": [
    "levels = []\n",
    "\n",
    "phis = linspace(0, 1, 3000)\n",
    "for phi in tqdm(phis):\n",
    "    phi_arr = [0.25, .5 , .6, .7]\n",
    "    phi_arr[0] = phi\n",
    "    chain.set_phi(phi_arr)\n",
    "    waveform1_const = ones_like(Ts)*phi_arr[0]\n",
    "    waveform2_const = ones_like(Ts)*phi_arr[1]\n",
    "    waveform3_const = ones_like(Ts)*phi_arr[2]\n",
    "    waveform4_const = ones_like(Ts)*phi_arr[3]\n",
    "    H_full = chain.build_H_full([waveform1_const, waveform2_const, waveform3_const, waveform4_const], \n",
    "                                 params, [[0,0],[0,0],[0,0],[0,0]])\n",
    "    H_const = chain.truncate_to_low_population_subspace(chain._zero_op)\n",
    "    for i in range (12):\n",
    "        if (i%3 != 2):\n",
    "            H_const+=H_full[i][0]*H_full[i][1][0]\n",
    "    for i in range(13,19,1):\n",
    "        H_const+=H_full[i][0]\n",
    "    evals, evecs = H_const.eigenstates()\n",
    "    levels.append((evals-evals[0])/2/pi)"
   ]
  },
  {
   "cell_type": "code",
   "execution_count": null,
   "metadata": {},
   "outputs": [],
   "source": [
    "figure()\n",
    "plot(phis, array(levels)[:, 1:6])\n",
    "plot(phis, array(levels)[:, 6:21]/2, \"--\")"
   ]
  },
  {
   "cell_type": "code",
   "execution_count": null,
   "metadata": {},
   "outputs": [],
   "source": [
    " "
   ]
  }
 ],
 "metadata": {
  "kernelspec": {
   "display_name": "Python 3",
   "language": "python",
   "name": "python3"
  },
  "language_info": {
   "codemirror_mode": {
    "name": "ipython",
    "version": 3
   },
   "file_extension": ".py",
   "mimetype": "text/x-python",
   "name": "python",
   "nbconvert_exporter": "python",
   "pygments_lexer": "ipython3",
   "version": "3.7.3"
  },
  "latex_envs": {
   "LaTeX_envs_menu_present": true,
   "autoclose": true,
   "autocomplete": true,
   "bibliofile": "biblio.bib",
   "cite_by": "apalike",
   "current_citInitial": 1,
   "eqLabelWithNumbers": true,
   "eqNumInitial": 1,
   "hotkeys": {
    "equation": "Ctrl-E",
    "itemize": "Ctrl-I"
   },
   "labels_anchors": false,
   "latex_user_defs": false,
   "report_style_numbering": false,
   "user_envs_cfg": false
  },
  "toc": {
   "base_numbering": 1,
   "nav_menu": {},
   "number_sections": true,
   "sideBar": true,
   "skip_h1_title": false,
   "title_cell": "Table of Contents",
   "title_sidebar": "Contents",
   "toc_cell": false,
   "toc_position": {
    "height": "621.778px",
    "left": "23px",
    "top": "111.125px",
    "width": "366.328px"
   },
   "toc_section_display": true,
   "toc_window_display": true
  }
 },
 "nbformat": 4,
 "nbformat_minor": 5
}
